{
 "cells": [
  {
   "cell_type": "markdown",
   "metadata": {},
   "source": [
    "**Coronavirus in the world**"
   ]
  },
  {
   "cell_type": "code",
   "execution_count": 3,
   "metadata": {
    "_kg_hide-input": true
   },
   "outputs": [
    {
     "ename": "SyntaxError",
     "evalue": "(unicode error) 'unicodeescape' codec can't decode bytes in position 2-3: truncated \\UXXXXXXXX escape (<ipython-input-3-0bb52daeb1d0>, line 2)",
     "output_type": "error",
     "traceback": [
      "\u001b[1;36m  File \u001b[1;32m\"<ipython-input-3-0bb52daeb1d0>\"\u001b[1;36m, line \u001b[1;32m2\u001b[0m\n\u001b[1;33m    cases = pd.read_csv(\"C:\\Users\\KIIT\\Desktop\\coronavirus dataset\\Case.csv\",\u001b[0m\n\u001b[1;37m                       ^\u001b[0m\n\u001b[1;31mSyntaxError\u001b[0m\u001b[1;31m:\u001b[0m (unicode error) 'unicodeescape' codec can't decode bytes in position 2-3: truncated \\UXXXXXXXX escape\n"
     ]
    }
   ],
   "source": [
    "import pandas as pd \n",
    "cases = pd.read_csv(\"C:\\Users\\KIIT\\Desktop\\coronavirus dataset.csv\")\n",
    "import plotly.offline as py\n",
    "import plotly.express as px\n",
    "\n",
    "\n",
    "py.init_notebook_mode(connected=True)\n",
    "\n",
    "grp = cases.groupby(['ObservationDate', 'Country/Region'])['Confirmed', 'Deaths', 'Recovered'].max()\n",
    "grp = grp.reset_index()\n",
    "grp['Date'] = pd.to_datetime(grp['ObservationDate'])\n",
    "grp['Date'] = grp['Date'].dt.strftime('%m/%d/%Y')\n",
    "grp['Active'] = grp['Confirmed'] - grp['Recovered'] - grp['Deaths']\n",
    "grp['Country'] =  grp['Country/Region']\n",
    "\n",
    "fig = px.choropleth(grp, locations=\"Country\", locationmode='country names', \n",
    "                     color=\"Confirmed\", hover_name=\"Country/Region\",hover_data = [grp.Recovered,grp.Deaths,grp.Active],projection=\"mercator\",\n",
    "                     animation_frame=\"Date\",width=1000, height=700,\n",
    "                     color_continuous_scale='Reds',\n",
    "                     range_color=[1000,50000],\n",
    "\n",
    "                     title='World Map of Coronavirus')\n",
    "\n",
    "fig.update(layout_coloraxis_showscale=True)\n",
    "py.offline.iplot(fig)"
   ]
  },
  {
   "cell_type": "markdown",
   "metadata": {},
   "source": [
    "**Related Work**\n",
    "* For Analysis and Prediction on Coronavirus(Italy), Click [here](https://www.kaggle.com/vanshjatana/analysis-and-prediction-on-coronavirus-italy?scriptVersionId=29892166)\n",
    "*  For Analysis and Prediction on Coronavirus(Iran), Click [here](https://www.kaggle.com/vanshjatana/analysis-and-prediction-on-coronavirus-iran)\n",
    "*  For Analysis and Prediction on Coronavirus(South-Korea), Click [here](https://www.kaggle.com/vanshjatana/analysis-on-coronavirus)\n",
    "*  For report on Coronavirus, Click [here](https://www.researchgate.net/publication/339738108_Analysis_On_Coronavirus)"
   ]
  },
  {
   "cell_type": "markdown",
   "metadata": {},
   "source": [
    "**Machine Learning Algorithms Applied**\n",
    "\n",
    "1. K-Mean Clustering\n",
    "2. Regression Model\n",
    "3. Prophet\n",
    "4. Arima \n",
    "5. LSTM "
   ]
  },
  {
   "cell_type": "markdown",
   "metadata": {},
   "source": [
    "**Libraries**"
   ]
  },
  {
   "cell_type": "code",
   "execution_count": 2,
   "metadata": {
    "_cell_guid": "b1076dfc-b9ad-4769-8c92-a6c4dae69d19",
    "_uuid": "8f2839f25d086af736a60e9eeb907d3b93b6e0e5"
   },
   "outputs": [
    {
     "name": "stderr",
     "output_type": "stream",
     "text": [
      "Using TensorFlow backend.\n"
     ]
    }
   ],
   "source": [
    "import numpy as np\n",
    "import pandas as pd \n",
    "import seaborn as sns\n",
    "import matplotlib.pyplot as plt\n",
    "import matplotlib.dates as mdates\n",
    "import plotly.express as px\n",
    "from datetime import date, timedelta\n",
    "from sklearn.cluster import KMeans\n",
    "from fbprophet import Prophet\n",
    "from fbprophet.plot import plot_plotly, add_changepoints_to_plot\n",
    "import plotly.offline as py\n",
    "from statsmodels.tsa.arima_model import ARIMA\n",
    "from statsmodels.graphics.tsaplots import plot_acf, plot_pacf\n",
    "import statsmodels.api as sm\n",
    "from keras.models import Sequential\n",
    "from keras.layers import LSTM,Dense\n",
    "from keras.layers import Dropout\n",
    "from sklearn.preprocessing import MinMaxScaler\n",
    "from tensorflow.keras.preprocessing.sequence import TimeseriesGenerator\n"
   ]
  },
  {
   "cell_type": "markdown",
   "metadata": {},
   "source": [
    "**Reading Data**"
   ]
  },
  {
   "cell_type": "code",
   "execution_count": 8,
   "metadata": {
    "_cell_guid": "79c7e3d0-c299-4dcb-8224-4455121ee9b0",
    "_uuid": "d629ff2d2480ee46fbb7e2d37f6b5fab8052498a"
   },
   "outputs": [
    {
     "ename": "NameError",
     "evalue": "name 'pd' is not defined",
     "output_type": "error",
     "traceback": [
      "\u001b[1;31m---------------------------------------------------------------------------\u001b[0m",
      "\u001b[1;31mNameError\u001b[0m                                 Traceback (most recent call last)",
      "\u001b[1;32m<ipython-input-8-2ca57301f742>\u001b[0m in \u001b[0;36m<module>\u001b[1;34m\u001b[0m\n\u001b[1;32m----> 1\u001b[1;33m \u001b[0mdf_patient\u001b[0m \u001b[1;33m=\u001b[0m \u001b[0mpd\u001b[0m\u001b[1;33m.\u001b[0m\u001b[0mread_csv\u001b[0m\u001b[1;33m(\u001b[0m\u001b[1;34m'PatientInfo.csv'\u001b[0m\u001b[1;33m)\u001b[0m\u001b[1;33m\u001b[0m\u001b[1;33m\u001b[0m\u001b[0m\n\u001b[0m\u001b[0;32m      2\u001b[0m \u001b[0mdf_route\u001b[0m \u001b[1;33m=\u001b[0m \u001b[0mpd\u001b[0m\u001b[1;33m.\u001b[0m\u001b[0mread_csv\u001b[0m\u001b[1;33m(\u001b[0m\u001b[1;34m'PatientRoute.csv'\u001b[0m\u001b[1;33m)\u001b[0m\u001b[1;33m\u001b[0m\u001b[1;33m\u001b[0m\u001b[0m\n",
      "\u001b[1;31mNameError\u001b[0m: name 'pd' is not defined"
     ]
    }
   ],
   "source": [
    "df_patient = pd.read_csv('PatientInfo.csv')\n",
    "df_route = pd.read_csv('PatientRoute.csv')\n"
   ]
  },
  {
   "cell_type": "markdown",
   "metadata": {},
   "source": [
    "**Looking into patient data**"
   ]
  },
  {
   "cell_type": "code",
   "execution_count": 4,
   "metadata": {},
   "outputs": [
    {
     "data": {
      "text/html": [
       "<div>\n",
       "<style scoped>\n",
       "    .dataframe tbody tr th:only-of-type {\n",
       "        vertical-align: middle;\n",
       "    }\n",
       "\n",
       "    .dataframe tbody tr th {\n",
       "        vertical-align: top;\n",
       "    }\n",
       "\n",
       "    .dataframe thead th {\n",
       "        text-align: right;\n",
       "    }\n",
       "</style>\n",
       "<table border=\"1\" class=\"dataframe\">\n",
       "  <thead>\n",
       "    <tr style=\"text-align: right;\">\n",
       "      <th></th>\n",
       "      <th>id</th>\n",
       "      <th>sex</th>\n",
       "      <th>birth_year</th>\n",
       "      <th>country</th>\n",
       "      <th>region</th>\n",
       "      <th>group</th>\n",
       "      <th>infection_reason</th>\n",
       "      <th>infection_order</th>\n",
       "      <th>infected_by</th>\n",
       "      <th>contact_number</th>\n",
       "      <th>confirmed_date</th>\n",
       "      <th>released_date</th>\n",
       "      <th>deceased_date</th>\n",
       "      <th>state</th>\n",
       "    </tr>\n",
       "  </thead>\n",
       "  <tbody>\n",
       "    <tr>\n",
       "      <th>0</th>\n",
       "      <td>1</td>\n",
       "      <td>female</td>\n",
       "      <td>1984.0</td>\n",
       "      <td>China</td>\n",
       "      <td>filtered at airport</td>\n",
       "      <td>NaN</td>\n",
       "      <td>visit to Wuhan</td>\n",
       "      <td>1.0</td>\n",
       "      <td>NaN</td>\n",
       "      <td>45.0</td>\n",
       "      <td>2020-01-20</td>\n",
       "      <td>2020-02-06</td>\n",
       "      <td>NaN</td>\n",
       "      <td>released</td>\n",
       "    </tr>\n",
       "    <tr>\n",
       "      <th>1</th>\n",
       "      <td>2</td>\n",
       "      <td>male</td>\n",
       "      <td>1964.0</td>\n",
       "      <td>Korea</td>\n",
       "      <td>filtered at airport</td>\n",
       "      <td>NaN</td>\n",
       "      <td>visit to Wuhan</td>\n",
       "      <td>1.0</td>\n",
       "      <td>NaN</td>\n",
       "      <td>75.0</td>\n",
       "      <td>2020-01-24</td>\n",
       "      <td>2020-02-05</td>\n",
       "      <td>NaN</td>\n",
       "      <td>released</td>\n",
       "    </tr>\n",
       "    <tr>\n",
       "      <th>2</th>\n",
       "      <td>3</td>\n",
       "      <td>male</td>\n",
       "      <td>1966.0</td>\n",
       "      <td>Korea</td>\n",
       "      <td>capital area</td>\n",
       "      <td>NaN</td>\n",
       "      <td>visit to Wuhan</td>\n",
       "      <td>1.0</td>\n",
       "      <td>NaN</td>\n",
       "      <td>16.0</td>\n",
       "      <td>2020-01-26</td>\n",
       "      <td>2020-02-12</td>\n",
       "      <td>NaN</td>\n",
       "      <td>released</td>\n",
       "    </tr>\n",
       "    <tr>\n",
       "      <th>3</th>\n",
       "      <td>4</td>\n",
       "      <td>male</td>\n",
       "      <td>1964.0</td>\n",
       "      <td>Korea</td>\n",
       "      <td>capital area</td>\n",
       "      <td>NaN</td>\n",
       "      <td>visit to Wuhan</td>\n",
       "      <td>1.0</td>\n",
       "      <td>NaN</td>\n",
       "      <td>95.0</td>\n",
       "      <td>2020-01-27</td>\n",
       "      <td>2020-02-09</td>\n",
       "      <td>NaN</td>\n",
       "      <td>released</td>\n",
       "    </tr>\n",
       "    <tr>\n",
       "      <th>4</th>\n",
       "      <td>5</td>\n",
       "      <td>male</td>\n",
       "      <td>1987.0</td>\n",
       "      <td>Korea</td>\n",
       "      <td>capital area</td>\n",
       "      <td>NaN</td>\n",
       "      <td>visit to Wuhan</td>\n",
       "      <td>1.0</td>\n",
       "      <td>NaN</td>\n",
       "      <td>31.0</td>\n",
       "      <td>2020-01-30</td>\n",
       "      <td>2020-03-02</td>\n",
       "      <td>NaN</td>\n",
       "      <td>released</td>\n",
       "    </tr>\n",
       "  </tbody>\n",
       "</table>\n",
       "</div>"
      ],
      "text/plain": [
       "   id     sex  birth_year country               region group infection_reason  \\\n",
       "0   1  female      1984.0   China  filtered at airport   NaN   visit to Wuhan   \n",
       "1   2    male      1964.0   Korea  filtered at airport   NaN   visit to Wuhan   \n",
       "2   3    male      1966.0   Korea         capital area   NaN   visit to Wuhan   \n",
       "3   4    male      1964.0   Korea         capital area   NaN   visit to Wuhan   \n",
       "4   5    male      1987.0   Korea         capital area   NaN   visit to Wuhan   \n",
       "\n",
       "   infection_order  infected_by  contact_number confirmed_date released_date  \\\n",
       "0              1.0          NaN            45.0     2020-01-20    2020-02-06   \n",
       "1              1.0          NaN            75.0     2020-01-24    2020-02-05   \n",
       "2              1.0          NaN            16.0     2020-01-26    2020-02-12   \n",
       "3              1.0          NaN            95.0     2020-01-27    2020-02-09   \n",
       "4              1.0          NaN            31.0     2020-01-30    2020-03-02   \n",
       "\n",
       "  deceased_date     state  \n",
       "0           NaN  released  \n",
       "1           NaN  released  \n",
       "2           NaN  released  \n",
       "3           NaN  released  \n",
       "4           NaN  released  "
      ]
     },
     "execution_count": 4,
     "metadata": {},
     "output_type": "execute_result"
    }
   ],
   "source": [
    "df_patient.head()"
   ]
  },
  {
   "cell_type": "markdown",
   "metadata": {},
   "source": [
    "1.  **id** the ID of the patient (n-th confirmed patient)\n",
    "2.  **sex** the sex of the patient\n",
    "3.  **birth_year** the birth year of the patient\n",
    "4.  **country** the country of the patient\n",
    "5.  **region** the region of the patient\n",
    "6.  **group** the collective infection\n",
    "7.  **infection_reason** the reason of infection\n",
    "8.  **infection_order** the order of infection\n",
    "9.  **infected_by** the ID of who has infected the patient\n",
    "10. **contact_number** the number of contacts with people\n",
    "11. **confirmed_date** the date of confirmation\n",
    "12. **released_date** the date of discharge\n",
    "13. **deceased_date** the date of decease\n",
    "14. **state** isolated / released / deceased"
   ]
  },
  {
   "cell_type": "code",
   "execution_count": 5,
   "metadata": {},
   "outputs": [
    {
     "data": {
      "text/plain": [
       "(5328, 14)"
      ]
     },
     "execution_count": 5,
     "metadata": {},
     "output_type": "execute_result"
    }
   ],
   "source": [
    "df_patient.shape"
   ]
  },
  {
   "cell_type": "code",
   "execution_count": 6,
   "metadata": {},
   "outputs": [
    {
     "data": {
      "text/plain": [
       "id                     0\n",
       "sex                 4945\n",
       "birth_year          4958\n",
       "country                0\n",
       "region              4957\n",
       "group               5247\n",
       "infection_reason    5188\n",
       "infection_order     5293\n",
       "infected_by         5258\n",
       "contact_number      5281\n",
       "confirmed_date         0\n",
       "released_date       5296\n",
       "deceased_date       5308\n",
       "state                  0\n",
       "dtype: int64"
      ]
     },
     "execution_count": 6,
     "metadata": {},
     "output_type": "execute_result"
    }
   ],
   "source": [
    "df_patient.isna().sum()\n"
   ]
  },
  {
   "cell_type": "markdown",
   "metadata": {},
   "source": [
    "**Preprocessing**"
   ]
  },
  {
   "cell_type": "code",
   "execution_count": 7,
   "metadata": {},
   "outputs": [],
   "source": [
    "df_patient['birth_year'] = df_patient.birth_year.fillna(0.0).astype(int)\n",
    "df_patient['birth_year'] = df_patient['birth_year'].map(lambda val: val if val > 0 else np.nan)\n",
    "df_patient.confirmed_date = pd.to_datetime(df_patient.confirmed_date)\n",
    "daily_count = df_patient.groupby(df_patient.confirmed_date).id.count()\n",
    "accumulated_count = daily_count.cumsum()\n",
    "df_patient['age'] = 2020 - df_patient['birth_year'] \n",
    "import math\n",
    "def group_age(age):\n",
    "    if age >= 0: # not NaN\n",
    "        if age % 10 != 0:\n",
    "            lower = int(math.floor(age / 10.0)) * 10\n",
    "            upper = int(math.ceil(age / 10.0)) * 10 - 1\n",
    "            return f\"{lower}-{upper}\"\n",
    "        else:\n",
    "            lower = int(age)\n",
    "            upper = int(age + 9) \n",
    "            return f\"{lower}-{upper}\"\n",
    "    return \"Unknown\"\n",
    "\n",
    "\n",
    "df_patient[\"age_range\"] = df_patient[\"age\"].apply(group_age)"
   ]
  },
  {
   "cell_type": "code",
   "execution_count": 8,
   "metadata": {},
   "outputs": [],
   "source": [
    "patient=df_patient"
   ]
  },
  {
   "cell_type": "code",
   "execution_count": 9,
   "metadata": {},
   "outputs": [],
   "source": [
    "date_cols = [\"confirmed_date\", \"released_date\", \"deceased_date\"]\n",
    "for col in date_cols:\n",
    "    patient[col] = pd.to_datetime(patient[col])"
   ]
  },
  {
   "cell_type": "code",
   "execution_count": 10,
   "metadata": {},
   "outputs": [],
   "source": [
    "patient[\"time_to_release_since_confirmed\"] = patient[\"released_date\"] - patient[\"confirmed_date\"]\n",
    "patient[\"time_to_death_since_confirmed\"] = patient[\"deceased_date\"] - patient[\"confirmed_date\"]\n",
    "patient[\"duration_since_confirmed\"] = patient[[\"time_to_release_since_confirmed\", \"time_to_death_since_confirmed\"]].min(axis=1)\n",
    "patient[\"duration_days\"] = patient[\"duration_since_confirmed\"].dt.days\n",
    "age_ranges = sorted(set([ar for ar in patient[\"age_range\"] if ar != \"Unknown\"]))\n",
    "patient[\"state_by_gender\"] = patient[\"state\"] + \"_\" + patient[\"sex\"]\n",
    "released = df_patient[df_patient.state == 'released']\n",
    "isolated_state = df_patient[df_patient.state == 'isolated']\n",
    "dead = df_patient[df_patient.state == 'deceased']\n"
   ]
  },
  {
   "cell_type": "markdown",
   "metadata": {},
   "source": [
    "**Confirmed Cases**"
   ]
  },
  {
   "cell_type": "code",
   "execution_count": 11,
   "metadata": {},
   "outputs": [
    {
     "data": {
      "image/png": "[encoded data removed]",
      "text/plain": [
       "<Figure size 432x288 with 1 Axes>"
      ]
     },
     "metadata": {
      "needs_background": "light"
     },
     "output_type": "display_data"
    }
   ],
   "source": [
    "accumulated_count.plot()\n",
    "plt.title('Accumulated Confirmed Count');"
   ]
  },
  {
   "cell_type": "code",
   "execution_count": 12,
   "metadata": {},
   "outputs": [
    {
     "data": {
      "text/html": [
       "<div>\n",
       "<style scoped>\n",
       "    .dataframe tbody tr th:only-of-type {\n",
       "        vertical-align: middle;\n",
       "    }\n",
       "\n",
       "    .dataframe tbody tr th {\n",
       "        vertical-align: top;\n",
       "    }\n",
       "\n",
       "    .dataframe thead th {\n",
       "        text-align: right;\n",
       "    }\n",
       "</style>\n",
       "<table border=\"1\" class=\"dataframe\">\n",
       "  <thead>\n",
       "    <tr style=\"text-align: right;\">\n",
       "      <th></th>\n",
       "      <th>id</th>\n",
       "      <th>latitude</th>\n",
       "      <th>longitude</th>\n",
       "    </tr>\n",
       "  </thead>\n",
       "  <tbody>\n",
       "    <tr>\n",
       "      <th>0</th>\n",
       "      <td>1</td>\n",
       "      <td>37.460459</td>\n",
       "      <td>126.440680</td>\n",
       "    </tr>\n",
       "    <tr>\n",
       "      <th>1</th>\n",
       "      <td>1</td>\n",
       "      <td>37.478832</td>\n",
       "      <td>126.668558</td>\n",
       "    </tr>\n",
       "    <tr>\n",
       "      <th>2</th>\n",
       "      <td>2</td>\n",
       "      <td>37.562143</td>\n",
       "      <td>126.801884</td>\n",
       "    </tr>\n",
       "    <tr>\n",
       "      <th>3</th>\n",
       "      <td>2</td>\n",
       "      <td>37.567454</td>\n",
       "      <td>127.005627</td>\n",
       "    </tr>\n",
       "    <tr>\n",
       "      <th>4</th>\n",
       "      <td>3</td>\n",
       "      <td>37.460459</td>\n",
       "      <td>126.440680</td>\n",
       "    </tr>\n",
       "    <tr>\n",
       "      <th>5</th>\n",
       "      <td>3</td>\n",
       "      <td>37.524978</td>\n",
       "      <td>127.027718</td>\n",
       "    </tr>\n",
       "    <tr>\n",
       "      <th>6</th>\n",
       "      <td>3</td>\n",
       "      <td>37.503359</td>\n",
       "      <td>127.049177</td>\n",
       "    </tr>\n",
       "    <tr>\n",
       "      <th>7</th>\n",
       "      <td>3</td>\n",
       "      <td>37.524669</td>\n",
       "      <td>127.015911</td>\n",
       "    </tr>\n",
       "    <tr>\n",
       "      <th>8</th>\n",
       "      <td>3</td>\n",
       "      <td>37.529200</td>\n",
       "      <td>127.032597</td>\n",
       "    </tr>\n",
       "    <tr>\n",
       "      <th>9</th>\n",
       "      <td>3</td>\n",
       "      <td>37.674192</td>\n",
       "      <td>126.776955</td>\n",
       "    </tr>\n",
       "  </tbody>\n",
       "</table>\n",
       "</div>"
      ],
      "text/plain": [
       "   id   latitude   longitude\n",
       "0   1  37.460459  126.440680\n",
       "1   1  37.478832  126.668558\n",
       "2   2  37.562143  126.801884\n",
       "3   2  37.567454  127.005627\n",
       "4   3  37.460459  126.440680\n",
       "5   3  37.524978  127.027718\n",
       "6   3  37.503359  127.049177\n",
       "7   3  37.524669  127.015911\n",
       "8   3  37.529200  127.032597\n",
       "9   3  37.674192  126.776955"
      ]
     },
     "execution_count": 12,
     "metadata": {},
     "output_type": "execute_result"
    }
   ],
   "source": [
    "clus=df_route.loc[:,['id','latitude','longitude']]\n",
    "clus.head(10)"
   ]
  },
  {
   "cell_type": "markdown",
   "metadata": {},
   "source": [
    "**Checking for number of cluster**"
   ]
  },
  {
   "cell_type": "code",
   "execution_count": 13,
   "metadata": {},
   "outputs": [
    {
     "data": {
      "image/png": "[encoded data removed]",
      "text/plain": [
       "<Figure size 432x288 with 1 Axes>"
      ]
     },
     "metadata": {
      "needs_background": "light"
     },
     "output_type": "display_data"
    }
   ],
   "source": [
    "K_clusters = range(1,8)\n",
    "kmeans = [KMeans(n_clusters=i) for i in K_clusters]\n",
    "Y_axis = df_route[['latitude']]\n",
    "X_axis = df_route[['longitude']]\n",
    "score = [kmeans[i].fit(Y_axis).score(Y_axis) for i in range(len(kmeans))]\n",
    "plt.plot(K_clusters, score)\n",
    "plt.xlabel('Number of Clusters')\n",
    "plt.ylabel('Score')\n",
    "plt.show()\n",
    "\n"
   ]
  },
  {
   "cell_type": "markdown",
   "metadata": {},
   "source": [
    "As in this graph, after 3 score go to constant value, so we will go with 3 clusters"
   ]
  },
  {
   "cell_type": "markdown",
   "metadata": {},
   "source": [
    "**K-Mean Clusterning**"
   ]
  },
  {
   "cell_type": "code",
   "execution_count": 14,
   "metadata": {},
   "outputs": [],
   "source": [
    "kmeans = KMeans(n_clusters = 3, init ='k-means++')\n",
    "kmeans.fit(clus[clus.columns[1:3]])\n",
    "clus['cluster_label'] = kmeans.fit_predict(clus[clus.columns[1:3]])\n",
    "centers = kmeans.cluster_centers_\n",
    "labels = kmeans.predict(clus[clus.columns[1:3]])"
   ]
  },
  {
   "cell_type": "markdown",
   "metadata": {},
   "source": [
    "**Graphical representation of clusters**"
   ]
  },
  {
   "cell_type": "code",
   "execution_count": 15,
   "metadata": {},
   "outputs": [
    {
     "data": {
      "text/plain": [
       "<matplotlib.collections.PathCollection at 0x7fca58436208>"
      ]
     },
     "execution_count": 15,
     "metadata": {},
     "output_type": "execute_result"
    },
    {
     "data": {
      "image/png": "[encoded data removed]",
      "text/plain": [
       "<Figure size 432x288 with 2 Axes>"
      ]
     },
     "metadata": {
      "needs_background": "light"
     },
     "output_type": "display_data"
    }
   ],
   "source": [
    "clus.plot.scatter(x = 'latitude', y = 'longitude', c=labels, s=50, cmap='viridis')\n",
    "plt.scatter(centers[:, 0], centers[:, 1], c='black', s=100, alpha=0.5)\n"
   ]
  },
  {
   "cell_type": "markdown",
   "metadata": {},
   "source": [
    "**World Map**"
   ]
  },
  {
   "cell_type": "code",
   "execution_count": 16,
   "metadata": {},
   "outputs": [
    {
     "data": {
      "text/html": [
       "<div style=\"width:100%;\"><div style=\"position:relative;width:100%;height:0;padding-bottom:60%;\"><iframe src=\"data:text/html;charset=utf-8;base64,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\" style=\"position:absolute;width:100%;height:100%;left:0;top:0;border:none !important;\" allowfullscreen webkitallowfullscreen mozallowfullscreen></iframe></div></div>"
      ],
      "text/plain": [
       "<folium.folium.Map at 0x7fca583c1e10>"
      ]
     },
     "execution_count": 16,
     "metadata": {},
     "output_type": "execute_result"
    }
   ],
   "source": [
    " import folium\n",
    "southkorea_map = folium.Map(location=[36.55,126.983333 ], zoom_start=7,tiles='Stamen Toner')\n",
    "\n",
    "for lat, lon,city in zip(df_route['latitude'], df_route['longitude'],df_route['city']):\n",
    "    folium.CircleMarker([lat, lon],\n",
    "                        radius=5,\n",
    "                        color='red',\n",
    "                      popup =('City: ' + str(city) + '<br>'),\n",
    "                        fill_color='red',\n",
    "                        fill_opacity=0.7 ).add_to(southkorea_map)\n",
    "southkorea_map"
   ]
  },
  {
   "cell_type": "markdown",
   "metadata": {},
   "source": [
    "**World Map Daily**"
   ]
  },
  {
   "cell_type": "code",
   "execution_count": 17,
   "metadata": {},
   "outputs": [
    {
     "data": {
      "application/vnd.plotly.v1+json": {
       "config": {
        "plotlyServerURL": "https://plot.ly"
       },
       "data": [
        {
         "hoverlabel": {
          "namelength": 0
         },
         "hovertemplate": "date=2020-01-19<br>size=%{marker.size}<br>latitude=%{lat}<br>longitude=%{lon}<br>id=%{marker.color}",
         "lat": [
          37.563581,
          37.460459
         ],
         "legendgroup": "",
         "lon": [
          126.80205600000001,
          126.44068
         ],
         "marker": {
          "color": [
           14,
           1
          ],
          "coloraxis": "coloraxis",
          "size": [
           12600,
           900
          ],
          "sizemode": "area",
          "sizeref": 33.75
         },
         "mode": "markers",
         "name": "",
         "showlegend": false,
         "subplot": "mapbox",
         "type": "scattermapbox"
        }
       ],
       "frames": [
        {
         "data": [
          {
           "hoverlabel": {
            "namelength": 0
           },
           "hovertemplate": "date=2020-01-19<br>size=%{marker.size}<br>latitude=%{lat}<br>longitude=%{lon}<br>id=%{marker.color}",
           "lat": [
            37.563581,
            37.460459
           ],
           "legendgroup": "",
           "lon": [
            126.80205600000001,
            126.44068
           ],
           "marker": {
            "color": [
             14,
             1
            ],
            "coloraxis": "coloraxis",
            "size": [
             12600,
             900
            ],
            "sizemode": "area",
            "sizeref": 33.75
           },
           "mode": "markers",
           "name": "",
           "showlegend": false,
           "subplot": "mapbox",
           "type": "scattermapbox"
          }
         ],
         "name": "2020-01-19"
        },
        {
         "data": [
          {
           "hoverlabel": {
            "namelength": 0
           },
           "hovertemplate": "date=2020-01-20<br>size=%{marker.size}<br>latitude=%{lat}<br>longitude=%{lon}<br>id=%{marker.color}",
           "lat": [
            37.07994,
            37.486112,
            37.460459,
            37.478832000000004
           ],
           "legendgroup": "",
           "lon": [
            127.058282,
            126.781023,
            126.44068,
            126.668558
           ],
           "marker": {
            "color": [
             4,
             12,
             15,
             1
            ],
            "coloraxis": "coloraxis",
            "size": [
             3600,
             10800,
             13500,
             900
            ],
            "sizemode": "area",
            "sizeref": 33.75
           },
           "mode": "markers",
           "name": "",
           "showlegend": false,
           "subplot": "mapbox",
           "type": "scattermapbox"
          }
         ],
         "name": "2020-01-20"
        },
        {
         "data": [
          {
           "hoverlabel": {
            "namelength": 0
           },
           "hovertemplate": "date=2020-01-21<br>size=%{marker.size}<br>latitude=%{lat}<br>longitude=%{lon}<br>id=%{marker.color}",
           "lat": [
            37.052277000000004,
            37.4631
           ],
           "legendgroup": "",
           "lon": [
            127.057309,
            126.631371
           ],
           "marker": {
            "color": [
             4,
             12
            ],
            "coloraxis": "coloraxis",
            "size": [
             3600,
             10800
            ],
            "sizemode": "area",
            "sizeref": 33.75
           },
           "mode": "markers",
           "name": "",
           "showlegend": false,
           "subplot": "mapbox",
           "type": "scattermapbox"
          }
         ],
         "name": "2020-01-21"
        },
        {
         "data": [
          {
           "hoverlabel": {
            "namelength": 0
           },
           "hovertemplate": "date=2020-01-22<br>size=%{marker.size}<br>latitude=%{lat}<br>longitude=%{lon}<br>id=%{marker.color}",
           "lat": [
            37.68365,
            37.690782,
            37.755252,
            37.764239,
            37.562143,
            37.503359,
            37.524978000000004,
            37.527728,
            37.555062
           ],
           "legendgroup": "",
           "lon": [
            129.04382900000002,
            129.03203100000002,
            128.899762,
            128.89926499999999,
            126.80188400000002,
            127.049177,
            127.027718,
            127.03236000000001,
            126.97061799999999
           ],
           "marker": {
            "color": [
             12,
             12,
             12,
             12,
             2,
             3,
             3,
             6,
             12
            ],
            "coloraxis": "coloraxis",
            "size": [
             10800,
             10800,
             10800,
             10800,
             1800,
             2700,
             2700,
             5400,
             10800
            ],
            "sizemode": "area",
            "sizeref": 33.75
           },
           "mode": "markers",
           "name": "",
           "showlegend": false,
           "subplot": "mapbox",
           "type": "scattermapbox"
          }
         ],
         "name": "2020-01-22"
        },
        {
         "data": [
          {
           "hoverlabel": {
            "namelength": 0
           },
           "hovertemplate": "date=2020-01-23<br>size=%{marker.size}<br>latitude=%{lat}<br>longitude=%{lon}<br>id=%{marker.color}",
           "lat": [
            37.763697,
            37.483885,
            37.460459,
            37.524669,
            37.5292,
            37.567454
           ],
           "legendgroup": "",
           "lon": [
            128.897881,
            126.77806000000001,
            126.44068,
            127.01591100000002,
            127.032597,
            127.005627
           ],
           "marker": {
            "color": [
             12,
             12,
             8,
             3,
             3,
             2
            ],
            "coloraxis": "coloraxis",
            "size": [
             10800,
             10800,
             7200,
             2700,
             2700,
             1800
            ],
            "sizemode": "area",
            "sizeref": 33.75
           },
           "mode": "markers",
           "name": "",
           "showlegend": false,
           "subplot": "mapbox",
           "type": "scattermapbox"
          }
         ],
         "name": "2020-01-23"
        },
        {
         "data": [
          {
           "hoverlabel": {
            "namelength": 0
           },
           "hovertemplate": "date=2020-01-24<br>size=%{marker.size}<br>latitude=%{lat}<br>longitude=%{lon}<br>id=%{marker.color}",
           "lat": [
            37.266602,
            37.283066,
            37.674192,
            37.678158,
            37.682229,
            37.460459
           ],
           "legendgroup": "",
           "lon": [
            126.99980500000001,
            127.019904,
            126.776955,
            126.812165,
            126.770046,
            126.44068
           ],
           "marker": {
            "color": [
             12,
             12,
             3,
             3,
             3,
             5
            ],
            "coloraxis": "coloraxis",
            "size": [
             10800,
             10800,
             2700,
             2700,
             2700,
             4500
            ],
            "sizemode": "area",
            "sizeref": 33.75
           },
           "mode": "markers",
           "name": "",
           "showlegend": false,
           "subplot": "mapbox",
           "type": "scattermapbox"
          }
         ],
         "name": "2020-01-24"
        },
        {
         "data": [
          {
           "hoverlabel": {
            "namelength": 0
           },
           "hovertemplate": "date=2020-01-25<br>size=%{marker.size}<br>latitude=%{lat}<br>longitude=%{lon}<br>id=%{marker.color}",
           "lat": [
            37.359357,
            37.642457,
            37.491149
           ],
           "legendgroup": "",
           "lon": [
            126.93099199999999,
            126.831318,
            127.01176699999999
           ],
           "marker": {
            "color": [
             12,
             3,
             8
            ],
            "coloraxis": "coloraxis",
            "size": [
             10800,
             2700,
             7200
            ],
            "sizemode": "area",
            "sizeref": 33.75
           },
           "mode": "markers",
           "name": "",
           "showlegend": false,
           "subplot": "mapbox",
           "type": "scattermapbox"
          }
         ],
         "name": "2020-01-25"
        },
        {
         "data": [
          {
           "hoverlabel": {
            "namelength": 0
           },
           "hovertemplate": "date=2020-01-26<br>size=%{marker.size}<br>latitude=%{lat}<br>longitude=%{lon}<br>id=%{marker.color}",
           "lat": [
            37.350625,
            37.48587,
            35.986967,
            37.564119,
            37.587540000000004,
            37.592858
           ],
           "legendgroup": "",
           "lon": [
            127.12451499999999,
            126.780125,
            126.708147,
            127.02969399999999,
            127.000047,
            127.017016
           ],
           "marker": {
            "color": [
             4,
             12,
             8,
             5,
             6,
             5
            ],
            "coloraxis": "coloraxis",
            "size": [
             3600,
             10800,
             7200,
             4500,
             5400,
             4500
            ],
            "sizemode": "area",
            "sizeref": 33.75
           },
           "mode": "markers",
           "name": "",
           "showlegend": false,
           "subplot": "mapbox",
           "type": "scattermapbox"
          }
         ],
         "name": "2020-01-26"
        },
        {
         "data": [
          {
           "hoverlabel": {
            "namelength": 0
           },
           "hovertemplate": "date=2020-01-27<br>size=%{marker.size}<br>latitude=%{lat}<br>longitude=%{lon}<br>id=%{marker.color}",
           "lat": [
            35.968603,
            37.557078000000004
           ],
           "legendgroup": "",
           "lon": [
            126.716109,
            127.00766599999999
           ],
           "marker": {
            "color": [
             8,
             12
            ],
            "coloraxis": "coloraxis",
            "size": [
             7200,
             10800
            ],
            "sizemode": "area",
            "sizeref": 33.75
           },
           "mode": "markers",
           "name": "",
           "showlegend": false,
           "subplot": "mapbox",
           "type": "scattermapbox"
          }
         ],
         "name": "2020-01-27"
        },
        {
         "data": [
          {
           "hoverlabel": {
            "namelength": 0
           },
           "hovertemplate": "date=2020-01-28<br>size=%{marker.size}<br>latitude=%{lat}<br>longitude=%{lon}<br>id=%{marker.color}",
           "lat": [
            37.483885,
            35.955681,
            37.523938,
            37.585378999999996,
            37.588913,
            37.591819
           ],
           "legendgroup": "",
           "lon": [
            126.77806000000001,
            126.71196100000002,
            127.046554,
            127.088581,
            127.09111200000001,
            127.01831399999999
           ],
           "marker": {
            "color": [
             12,
             8,
             5,
             5,
             5,
             5
            ],
            "coloraxis": "coloraxis",
            "size": [
             10800,
             7200,
             4500,
             4500,
             4500,
             4500
            ],
            "sizemode": "area",
            "sizeref": 33.75
           },
           "mode": "markers",
           "name": "",
           "showlegend": false,
           "subplot": "mapbox",
           "type": "scattermapbox"
          }
         ],
         "name": "2020-01-28"
        },
        {
         "data": [
          {
           "hoverlabel": {
            "namelength": 0
           },
           "hovertemplate": "date=2020-01-29<br>size=%{marker.size}<br>latitude=%{lat}<br>longitude=%{lon}<br>id=%{marker.color}",
           "lat": [
            35.982997999999995,
            37.606770000000004
           ],
           "legendgroup": "",
           "lon": [
            126.73491899999999,
            127.092697
           ],
           "marker": {
            "color": [
             8,
             5
            ],
            "coloraxis": "coloraxis",
            "size": [
             7200,
             4500
            ],
            "sizemode": "area",
            "sizeref": 33.75
           },
           "mode": "markers",
           "name": "",
           "showlegend": false,
           "subplot": "mapbox",
           "type": "scattermapbox"
          }
         ],
         "name": "2020-01-29"
        },
        {
         "data": [
          {
           "hoverlabel": {
            "namelength": 0
           },
           "hovertemplate": "date=2020-01-30<br>size=%{marker.size}<br>latitude=%{lat}<br>longitude=%{lon}<br>id=%{marker.color}",
           "lat": [
            37.484044,
            37.498304,
            37.498619,
            37.641481,
            37.641736,
            37.579678,
            37.613102000000005
           ],
           "legendgroup": "",
           "lon": [
            126.782436,
            126.762864,
            126.762854,
            126.792022,
            126.79121699999999,
            126.99894499999999,
            127.098658
           ],
           "marker": {
            "color": [
             14,
             14,
             12,
             10,
             11,
             6,
             5
            ],
            "coloraxis": "coloraxis",
            "size": [
             12600,
             12600,
             10800,
             9000,
             9900,
             5400,
             4500
            ],
            "sizemode": "area",
            "sizeref": 33.75
           },
           "mode": "markers",
           "name": "",
           "showlegend": false,
           "subplot": "mapbox",
           "type": "scattermapbox"
          }
         ],
         "name": "2020-01-30"
        },
        {
         "data": [
          {
           "hoverlabel": {
            "namelength": 0
           },
           "hovertemplate": "date=2020-01-31<br>size=%{marker.size}<br>latitude=%{lat}<br>longitude=%{lon}<br>id=%{marker.color}",
           "lat": [
            37.579918,
            37.580486,
            37.613102000000005
           ],
           "legendgroup": "",
           "lon": [
            126.99836200000001,
            127.000701,
            127.098658
           ],
           "marker": {
            "color": [
             10,
             11,
             9
            ],
            "coloraxis": "coloraxis",
            "size": [
             9000,
             9900,
             8100
            ],
            "sizemode": "area",
            "sizeref": 33.75
           },
           "mode": "markers",
           "name": "",
           "showlegend": false,
           "subplot": "mapbox",
           "type": "scattermapbox"
          }
         ],
         "name": "2020-01-31"
        },
        {
         "data": [
          {
           "hoverlabel": {
            "namelength": 0
           },
           "hovertemplate": "date=2020-02-01<br>size=%{marker.size}<br>latitude=%{lat}<br>longitude=%{lon}<br>id=%{marker.color}",
           "lat": [
            37.304558,
            37.348152
           ],
           "legendgroup": "",
           "lon": [
            127.010198,
            127.124784
           ],
           "marker": {
            "color": [
             15,
             12
            ],
            "coloraxis": "coloraxis",
            "size": [
             13500,
             10800
            ],
            "sizemode": "area",
            "sizeref": 33.75
           },
           "mode": "markers",
           "name": "",
           "showlegend": false,
           "subplot": "mapbox",
           "type": "scattermapbox"
          }
         ],
         "name": "2020-02-01"
        },
        {
         "data": [
          {
           "hoverlabel": {
            "namelength": 0
           },
           "hovertemplate": "date=2020-02-02<br>size=%{marker.size}<br>latitude=%{lat}<br>longitude=%{lon}<br>id=%{marker.color}",
           "lat": [
            37.347722,
            37.390524,
            37.566876
           ],
           "legendgroup": "",
           "lon": [
            127.12432199999999,
            127.14976899999999,
            127.004962
           ],
           "marker": {
            "color": [
             14,
             15,
             13
            ],
            "coloraxis": "coloraxis",
            "size": [
             12600,
             13500,
             11700
            ],
            "sizemode": "area",
            "sizeref": 33.75
           },
           "mode": "markers",
           "name": "",
           "showlegend": false,
           "subplot": "mapbox",
           "type": "scattermapbox"
          }
         ],
         "name": "2020-02-02"
        }
       ],
       "layout": {
        "coloraxis": {
         "colorbar": {
          "title": {
           "text": "id"
          }
         },
         "colorscale": [
          [
           0,
           "rgb(251, 230, 197)"
          ],
          [
           0.16666666666666666,
           "rgb(245, 186, 152)"
          ],
          [
           0.3333333333333333,
           "rgb(238, 138, 130)"
          ],
          [
           0.5,
           "rgb(220, 113, 118)"
          ],
          [
           0.6666666666666666,
           "rgb(200, 88, 108)"
          ],
          [
           0.8333333333333334,
           "rgb(156, 63, 93)"
          ],
          [
           1,
           "rgb(112, 40, 74)"
          ]
         ],
         "showscale": true
        },
        "legend": {
         "itemsizing": "constant",
         "tracegroupgap": 0
        },
        "mapbox": {
         "center": {
          "lat": 37.421910015873,
          "lon": 127.0610676190476
         },
         "domain": {
          "x": [
           0,
           1
          ],
          "y": [
           0,
           1
          ]
         },
         "style": "carto-positron",
         "zoom": 3
        },
        "margin": {
         "b": 0,
         "l": 0,
         "r": 0,
         "t": 30
        },
        "sliders": [
         {
          "active": 0,
          "currentvalue": {
           "prefix": "date="
          },
          "len": 0.9,
          "pad": {
           "b": 10,
           "t": 60
          },
          "steps": [
           {
            "args": [
             [
              "2020-01-19"
             ],
             {
              "frame": {
               "duration": 0,
               "redraw": true
              },
              "fromcurrent": true,
              "mode": "immediate",
              "transition": {
               "duration": 0,
               "easing": "linear"
              }
             }
            ],
            "label": "2020-01-19",
            "method": "animate"
           },
           {
            "args": [
             [
              "2020-01-20"
             ],
             {
              "frame": {
               "duration": 0,
               "redraw": true
              },
              "fromcurrent": true,
              "mode": "immediate",
              "transition": {
               "duration": 0,
               "easing": "linear"
              }
             }
            ],
            "label": "2020-01-20",
            "method": "animate"
           },
           {
            "args": [
             [
              "2020-01-21"
             ],
             {
              "frame": {
               "duration": 0,
               "redraw": true
              },
              "fromcurrent": true,
              "mode": "immediate",
              "transition": {
               "duration": 0,
               "easing": "linear"
              }
             }
            ],
            "label": "2020-01-21",
            "method": "animate"
           },
           {
            "args": [
             [
              "2020-01-22"
             ],
             {
              "frame": {
               "duration": 0,
               "redraw": true
              },
              "fromcurrent": true,
              "mode": "immediate",
              "transition": {
               "duration": 0,
               "easing": "linear"
              }
             }
            ],
            "label": "2020-01-22",
            "method": "animate"
           },
           {
            "args": [
             [
              "2020-01-23"
             ],
             {
              "frame": {
               "duration": 0,
               "redraw": true
              },
              "fromcurrent": true,
              "mode": "immediate",
              "transition": {
               "duration": 0,
               "easing": "linear"
              }
             }
            ],
            "label": "2020-01-23",
            "method": "animate"
           },
           {
            "args": [
             [
              "2020-01-24"
             ],
             {
              "frame": {
               "duration": 0,
               "redraw": true
              },
              "fromcurrent": true,
              "mode": "immediate",
              "transition": {
               "duration": 0,
               "easing": "linear"
              }
             }
            ],
            "label": "2020-01-24",
            "method": "animate"
           },
           {
            "args": [
             [
              "2020-01-25"
             ],
             {
              "frame": {
               "duration": 0,
               "redraw": true
              },
              "fromcurrent": true,
              "mode": "immediate",
              "transition": {
               "duration": 0,
               "easing": "linear"
              }
             }
            ],
            "label": "2020-01-25",
            "method": "animate"
           },
           {
            "args": [
             [
              "2020-01-26"
             ],
             {
              "frame": {
               "duration": 0,
               "redraw": true
              },
              "fromcurrent": true,
              "mode": "immediate",
              "transition": {
               "duration": 0,
               "easing": "linear"
              }
             }
            ],
            "label": "2020-01-26",
            "method": "animate"
           },
           {
            "args": [
             [
              "2020-01-27"
             ],
             {
              "frame": {
               "duration": 0,
               "redraw": true
              },
              "fromcurrent": true,
              "mode": "immediate",
              "transition": {
               "duration": 0,
               "easing": "linear"
              }
             }
            ],
            "label": "2020-01-27",
            "method": "animate"
           },
           {
            "args": [
             [
              "2020-01-28"
             ],
             {
              "frame": {
               "duration": 0,
               "redraw": true
              },
              "fromcurrent": true,
              "mode": "immediate",
              "transition": {
               "duration": 0,
               "easing": "linear"
              }
             }
            ],
            "label": "2020-01-28",
            "method": "animate"
           },
           {
            "args": [
             [
              "2020-01-29"
             ],
             {
              "frame": {
               "duration": 0,
               "redraw": true
              },
              "fromcurrent": true,
              "mode": "immediate",
              "transition": {
               "duration": 0,
               "easing": "linear"
              }
             }
            ],
            "label": "2020-01-29",
            "method": "animate"
           },
           {
            "args": [
             [
              "2020-01-30"
             ],
             {
              "frame": {
               "duration": 0,
               "redraw": true
              },
              "fromcurrent": true,
              "mode": "immediate",
              "transition": {
               "duration": 0,
               "easing": "linear"
              }
             }
            ],
            "label": "2020-01-30",
            "method": "animate"
           },
           {
            "args": [
             [
              "2020-01-31"
             ],
             {
              "frame": {
               "duration": 0,
               "redraw": true
              },
              "fromcurrent": true,
              "mode": "immediate",
              "transition": {
               "duration": 0,
               "easing": "linear"
              }
             }
            ],
            "label": "2020-01-31",
            "method": "animate"
           },
           {
            "args": [
             [
              "2020-02-01"
             ],
             {
              "frame": {
               "duration": 0,
               "redraw": true
              },
              "fromcurrent": true,
              "mode": "immediate",
              "transition": {
               "duration": 0,
               "easing": "linear"
              }
             }
            ],
            "label": "2020-02-01",
            "method": "animate"
           },
           {
            "args": [
             [
              "2020-02-02"
             ],
             {
              "frame": {
               "duration": 0,
               "redraw": true
              },
              "fromcurrent": true,
              "mode": "immediate",
              "transition": {
               "duration": 0,
               "easing": "linear"
              }
             }
            ],
            "label": "2020-02-02",
            "method": "animate"
           }
          ],
          "x": 0.1,
          "xanchor": "left",
          "y": 0,
          "yanchor": "top"
         }
        ],
        "template": {
         "data": {
          "bar": [
           {
            "error_x": {
             "color": "#2a3f5f"
            },
            "error_y": {
             "color": "#2a3f5f"
            },
            "marker": {
             "line": {
              "color": "#E5ECF6",
              "width": 0.5
             }
            },
            "type": "bar"
           }
          ],
          "barpolar": [
           {
            "marker": {
             "line": {
              "color": "#E5ECF6",
              "width": 0.5
             }
            },
            "type": "barpolar"
           }
          ],
          "carpet": [
           {
            "aaxis": {
             "endlinecolor": "#2a3f5f",
             "gridcolor": "white",
             "linecolor": "white",
             "minorgridcolor": "white",
             "startlinecolor": "#2a3f5f"
            },
            "baxis": {
             "endlinecolor": "#2a3f5f",
             "gridcolor": "white",
             "linecolor": "white",
             "minorgridcolor": "white",
             "startlinecolor": "#2a3f5f"
            },
            "type": "carpet"
           }
          ],
          "choropleth": [
           {
            "colorbar": {
             "outlinewidth": 0,
             "ticks": ""
            },
            "type": "choropleth"
           }
          ],
          "contour": [
           {
            "colorbar": {
             "outlinewidth": 0,
             "ticks": ""
            },
            "colorscale": [
             [
              0,
              "#0d0887"
             ],
             [
              0.1111111111111111,
              "#46039f"
             ],
             [
              0.2222222222222222,
              "#7201a8"
             ],
             [
              0.3333333333333333,
              "#9c179e"
             ],
             [
              0.4444444444444444,
              "#bd3786"
             ],
             [
              0.5555555555555556,
              "#d8576b"
             ],
             [
              0.6666666666666666,
              "#ed7953"
             ],
             [
              0.7777777777777778,
              "#fb9f3a"
             ],
             [
              0.8888888888888888,
              "#fdca26"
             ],
             [
              1,
              "#f0f921"
             ]
            ],
            "type": "contour"
           }
          ],
          "contourcarpet": [
           {
            "colorbar": {
             "outlinewidth": 0,
             "ticks": ""
            },
            "type": "contourcarpet"
           }
          ],
          "heatmap": [
           {
            "colorbar": {
             "outlinewidth": 0,
             "ticks": ""
            },
            "colorscale": [
             [
              0,
              "#0d0887"
             ],
             [
              0.1111111111111111,
              "#46039f"
             ],
             [
              0.2222222222222222,
              "#7201a8"
             ],
             [
              0.3333333333333333,
              "#9c179e"
             ],
             [
              0.4444444444444444,
              "#bd3786"
             ],
             [
              0.5555555555555556,
              "#d8576b"
             ],
             [
              0.6666666666666666,
              "#ed7953"
             ],
             [
              0.7777777777777778,
              "#fb9f3a"
             ],
             [
              0.8888888888888888,
              "#fdca26"
             ],
             [
              1,
              "#f0f921"
             ]
            ],
            "type": "heatmap"
           }
          ],
          "heatmapgl": [
           {
            "colorbar": {
             "outlinewidth": 0,
             "ticks": ""
            },
            "colorscale": [
             [
              0,
              "#0d0887"
             ],
             [
              0.1111111111111111,
              "#46039f"
             ],
             [
              0.2222222222222222,
              "#7201a8"
             ],
             [
              0.3333333333333333,
              "#9c179e"
             ],
             [
              0.4444444444444444,
              "#bd3786"
             ],
             [
              0.5555555555555556,
              "#d8576b"
             ],
             [
              0.6666666666666666,
              "#ed7953"
             ],
             [
              0.7777777777777778,
              "#fb9f3a"
             ],
             [
              0.8888888888888888,
              "#fdca26"
             ],
             [
              1,
              "#f0f921"
             ]
            ],
            "type": "heatmapgl"
           }
          ],
          "histogram": [
           {
            "marker": {
             "colorbar": {
              "outlinewidth": 0,
              "ticks": ""
             }
            },
            "type": "histogram"
           }
          ],
          "histogram2d": [
           {
            "colorbar": {
             "outlinewidth": 0,
             "ticks": ""
            },
            "colorscale": [
             [
              0,
              "#0d0887"
             ],
             [
              0.1111111111111111,
              "#46039f"
             ],
             [
              0.2222222222222222,
              "#7201a8"
             ],
             [
              0.3333333333333333,
              "#9c179e"
             ],
             [
              0.4444444444444444,
              "#bd3786"
             ],
             [
              0.5555555555555556,
              "#d8576b"
             ],
             [
              0.6666666666666666,
              "#ed7953"
             ],
             [
              0.7777777777777778,
              "#fb9f3a"
             ],
             [
              0.8888888888888888,
              "#fdca26"
             ],
             [
              1,
              "#f0f921"
             ]
            ],
            "type": "histogram2d"
           }
          ],
          "histogram2dcontour": [
           {
            "colorbar": {
             "outlinewidth": 0,
             "ticks": ""
            },
            "colorscale": [
             [
              0,
              "#0d0887"
             ],
             [
              0.1111111111111111,
              "#46039f"
             ],
             [
              0.2222222222222222,
              "#7201a8"
             ],
             [
              0.3333333333333333,
              "#9c179e"
             ],
             [
              0.4444444444444444,
              "#bd3786"
             ],
             [
              0.5555555555555556,
              "#d8576b"
             ],
             [
              0.6666666666666666,
              "#ed7953"
             ],
             [
              0.7777777777777778,
              "#fb9f3a"
             ],
             [
              0.8888888888888888,
              "#fdca26"
             ],
             [
              1,
              "#f0f921"
             ]
            ],
            "type": "histogram2dcontour"
           }
          ],
          "mesh3d": [
           {
            "colorbar": {
             "outlinewidth": 0,
             "ticks": ""
            },
            "type": "mesh3d"
           }
          ],
          "parcoords": [
           {
            "line": {
             "colorbar": {
              "outlinewidth": 0,
              "ticks": ""
             }
            },
            "type": "parcoords"
           }
          ],
          "pie": [
           {
            "automargin": true,
            "type": "pie"
           }
          ],
          "scatter": [
           {
            "marker": {
             "colorbar": {
              "outlinewidth": 0,
              "ticks": ""
             }
            },
            "type": "scatter"
           }
          ],
          "scatter3d": [
           {
            "line": {
             "colorbar": {
              "outlinewidth": 0,
              "ticks": ""
             }
            },
            "marker": {
             "colorbar": {
              "outlinewidth": 0,
              "ticks": ""
             }
            },
            "type": "scatter3d"
           }
          ],
          "scattercarpet": [
           {
            "marker": {
             "colorbar": {
              "outlinewidth": 0,
              "ticks": ""
             }
            },
            "type": "scattercarpet"
           }
          ],
          "scattergeo": [
           {
            "marker": {
             "colorbar": {
              "outlinewidth": 0,
              "ticks": ""
             }
            },
            "type": "scattergeo"
           }
          ],
          "scattergl": [
           {
            "marker": {
             "colorbar": {
              "outlinewidth": 0,
              "ticks": ""
             }
            },
            "type": "scattergl"
           }
          ],
          "scattermapbox": [
           {
            "marker": {
             "colorbar": {
              "outlinewidth": 0,
              "ticks": ""
             }
            },
            "type": "scattermapbox"
           }
          ],
          "scatterpolar": [
           {
            "marker": {
             "colorbar": {
              "outlinewidth": 0,
              "ticks": ""
             }
            },
            "type": "scatterpolar"
           }
          ],
          "scatterpolargl": [
           {
            "marker": {
             "colorbar": {
              "outlinewidth": 0,
              "ticks": ""
             }
            },
            "type": "scatterpolargl"
           }
          ],
          "scatterternary": [
           {
            "marker": {
             "colorbar": {
              "outlinewidth": 0,
              "ticks": ""
             }
            },
            "type": "scatterternary"
           }
          ],
          "surface": [
           {
            "colorbar": {
             "outlinewidth": 0,
             "ticks": ""
            },
            "colorscale": [
             [
              0,
              "#0d0887"
             ],
             [
              0.1111111111111111,
              "#46039f"
             ],
             [
              0.2222222222222222,
              "#7201a8"
             ],
             [
              0.3333333333333333,
              "#9c179e"
             ],
             [
              0.4444444444444444,
              "#bd3786"
             ],
             [
              0.5555555555555556,
              "#d8576b"
             ],
             [
              0.6666666666666666,
              "#ed7953"
             ],
             [
              0.7777777777777778,
              "#fb9f3a"
             ],
             [
              0.8888888888888888,
              "#fdca26"
             ],
             [
              1,
              "#f0f921"
             ]
            ],
            "type": "surface"
           }
          ],
          "table": [
           {
            "cells": {
             "fill": {
              "color": "#EBF0F8"
             },
             "line": {
              "color": "white"
             }
            },
            "header": {
             "fill": {
              "color": "#C8D4E3"
             },
             "line": {
              "color": "white"
             }
            },
            "type": "table"
           }
          ]
         },
         "layout": {
          "annotationdefaults": {
           "arrowcolor": "#2a3f5f",
           "arrowhead": 0,
           "arrowwidth": 1
          },
          "coloraxis": {
           "colorbar": {
            "outlinewidth": 0,
            "ticks": ""
           }
          },
          "colorscale": {
           "diverging": [
            [
             0,
             "#8e0152"
            ],
            [
             0.1,
             "#c51b7d"
            ],
            [
             0.2,
             "#de77ae"
            ],
            [
             0.3,
             "#f1b6da"
            ],
            [
             0.4,
             "#fde0ef"
            ],
            [
             0.5,
             "#f7f7f7"
            ],
            [
             0.6,
             "#e6f5d0"
            ],
            [
             0.7,
             "#b8e186"
            ],
            [
             0.8,
             "#7fbc41"
            ],
            [
             0.9,
             "#4d9221"
            ],
            [
             1,
             "#276419"
            ]
           ],
           "sequential": [
            [
             0,
             "#0d0887"
            ],
            [
             0.1111111111111111,
             "#46039f"
            ],
            [
             0.2222222222222222,
             "#7201a8"
            ],
            [
             0.3333333333333333,
             "#9c179e"
            ],
            [
             0.4444444444444444,
             "#bd3786"
            ],
            [
             0.5555555555555556,
             "#d8576b"
            ],
            [
             0.6666666666666666,
             "#ed7953"
            ],
            [
             0.7777777777777778,
             "#fb9f3a"
            ],
            [
             0.8888888888888888,
             "#fdca26"
            ],
            [
             1,
             "#f0f921"
            ]
           ],
           "sequentialminus": [
            [
             0,
             "#0d0887"
            ],
            [
             0.1111111111111111,
             "#46039f"
            ],
            [
             0.2222222222222222,
             "#7201a8"
            ],
            [
             0.3333333333333333,
             "#9c179e"
            ],
            [
             0.4444444444444444,
             "#bd3786"
            ],
            [
             0.5555555555555556,
             "#d8576b"
            ],
            [
             0.6666666666666666,
             "#ed7953"
            ],
            [
             0.7777777777777778,
             "#fb9f3a"
            ],
            [
             0.8888888888888888,
             "#fdca26"
            ],
            [
             1,
             "#f0f921"
            ]
           ]
          },
          "colorway": [
           "#636efa",
           "#EF553B",
           "#00cc96",
           "#ab63fa",
           "#FFA15A",
           "#19d3f3",
           "#FF6692",
           "#B6E880",
           "#FF97FF",
           "#FECB52"
          ],
          "font": {
           "color": "#2a3f5f"
          },
          "geo": {
           "bgcolor": "white",
           "lakecolor": "white",
           "landcolor": "#E5ECF6",
           "showlakes": true,
           "showland": true,
           "subunitcolor": "white"
          },
          "hoverlabel": {
           "align": "left"
          },
          "hovermode": "closest",
          "mapbox": {
           "style": "light"
          },
          "paper_bgcolor": "white",
          "plot_bgcolor": "#E5ECF6",
          "polar": {
           "angularaxis": {
            "gridcolor": "white",
            "linecolor": "white",
            "ticks": ""
           },
           "bgcolor": "#E5ECF6",
           "radialaxis": {
            "gridcolor": "white",
            "linecolor": "white",
            "ticks": ""
           }
          },
          "scene": {
           "xaxis": {
            "backgroundcolor": "#E5ECF6",
            "gridcolor": "white",
            "gridwidth": 2,
            "linecolor": "white",
            "showbackground": true,
            "ticks": "",
            "zerolinecolor": "white"
           },
           "yaxis": {
            "backgroundcolor": "#E5ECF6",
            "gridcolor": "white",
            "gridwidth": 2,
            "linecolor": "white",
            "showbackground": true,
            "ticks": "",
            "zerolinecolor": "white"
           },
           "zaxis": {
            "backgroundcolor": "#E5ECF6",
            "gridcolor": "white",
            "gridwidth": 2,
            "linecolor": "white",
            "showbackground": true,
            "ticks": "",
            "zerolinecolor": "white"
           }
          },
          "shapedefaults": {
           "line": {
            "color": "#2a3f5f"
           }
          },
          "ternary": {
           "aaxis": {
            "gridcolor": "white",
            "linecolor": "white",
            "ticks": ""
           },
           "baxis": {
            "gridcolor": "white",
            "linecolor": "white",
            "ticks": ""
           },
           "bgcolor": "#E5ECF6",
           "caxis": {
            "gridcolor": "white",
            "linecolor": "white",
            "ticks": ""
           }
          },
          "title": {
           "x": 0.05
          },
          "xaxis": {
           "automargin": true,
           "gridcolor": "white",
           "linecolor": "white",
           "ticks": "",
           "title": {
            "standoff": 15
           },
           "zerolinecolor": "white",
           "zerolinewidth": 2
          },
          "yaxis": {
           "automargin": true,
           "gridcolor": "white",
           "linecolor": "white",
           "ticks": "",
           "title": {
            "standoff": 15
           },
           "zerolinecolor": "white",
           "zerolinewidth": 2
          }
         }
        },
        "title": {
         "text": "Spread total cases over time"
        },
        "updatemenus": [
         {
          "buttons": [
           {
            "args": [
             null,
             {
              "frame": {
               "duration": 500,
               "redraw": true
              },
              "fromcurrent": true,
              "mode": "immediate",
              "transition": {
               "duration": 500,
               "easing": "linear"
              }
             }
            ],
            "label": "&#9654;",
            "method": "animate"
           },
           {
            "args": [
             [
              null
             ],
             {
              "frame": {
               "duration": 0,
               "redraw": true
              },
              "fromcurrent": true,
              "mode": "immediate",
              "transition": {
               "duration": 0,
               "easing": "linear"
              }
             }
            ],
            "label": "&#9724;",
            "method": "animate"
           }
          ],
          "direction": "left",
          "pad": {
           "r": 10,
           "t": 70
          },
          "showactive": false,
          "type": "buttons",
          "x": 0.1,
          "xanchor": "right",
          "y": 0,
          "yanchor": "top"
         }
        ]
       }
      },
      "text/html": [
       "<div>\n",
       "        \n",
       "        \n",
       "            <div id=\"b41787f2-0e7c-4316-b446-3f91295b360e\" class=\"plotly-graph-div\" style=\"height:525px; width:100%;\"></div>\n",
       "            <script type=\"text/javascript\">\n",
       "                require([\"plotly\"], function(Plotly) {\n",
       "                    window.PLOTLYENV=window.PLOTLYENV || {};\n",
       "                    \n",
       "                if (document.getElementById(\"b41787f2-0e7c-4316-b446-3f91295b360e\")) {\n",
       "                    Plotly.newPlot(\n",
       "                        'b41787f2-0e7c-4316-b446-3f91295b360e',\n",
       "                        [{\"hoverlabel\": {\"namelength\": 0}, \"hovertemplate\": \"date=2020-01-19<br>size=%{marker.size}<br>latitude=%{lat}<br>longitude=%{lon}<br>id=%{marker.color}\", \"lat\": [37.563581, 37.460459], \"legendgroup\": \"\", \"lon\": [126.80205600000001, 126.44068], \"marker\": {\"color\": [14, 1], \"coloraxis\": \"coloraxis\", \"size\": [12600, 900], \"sizemode\": \"area\", \"sizeref\": 33.75}, \"mode\": \"markers\", \"name\": \"\", \"showlegend\": false, \"subplot\": \"mapbox\", \"type\": \"scattermapbox\"}],\n",
       "                        {\"coloraxis\": {\"colorbar\": {\"title\": {\"text\": \"id\"}}, \"colorscale\": [[0.0, \"rgb(251, 230, 197)\"], [0.16666666666666666, \"rgb(245, 186, 152)\"], [0.3333333333333333, \"rgb(238, 138, 130)\"], [0.5, \"rgb(220, 113, 118)\"], [0.6666666666666666, \"rgb(200, 88, 108)\"], [0.8333333333333334, \"rgb(156, 63, 93)\"], [1.0, \"rgb(112, 40, 74)\"]], \"showscale\": true}, \"legend\": {\"itemsizing\": \"constant\", \"tracegroupgap\": 0}, \"mapbox\": {\"center\": {\"lat\": 37.421910015873, \"lon\": 127.0610676190476}, \"domain\": {\"x\": [0.0, 1.0], \"y\": [0.0, 1.0]}, \"style\": \"carto-positron\", \"zoom\": 3}, \"margin\": {\"b\": 0, \"l\": 0, \"r\": 0, \"t\": 30}, \"sliders\": [{\"active\": 0, \"currentvalue\": {\"prefix\": \"date=\"}, \"len\": 0.9, \"pad\": {\"b\": 10, \"t\": 60}, \"steps\": [{\"args\": [[\"2020-01-19\"], {\"frame\": {\"duration\": 0, \"redraw\": true}, \"fromcurrent\": true, \"mode\": \"immediate\", \"transition\": {\"duration\": 0, \"easing\": \"linear\"}}], \"label\": \"2020-01-19\", \"method\": \"animate\"}, {\"args\": [[\"2020-01-20\"], {\"frame\": {\"duration\": 0, \"redraw\": true}, \"fromcurrent\": true, \"mode\": \"immediate\", \"transition\": {\"duration\": 0, \"easing\": \"linear\"}}], \"label\": \"2020-01-20\", \"method\": \"animate\"}, {\"args\": [[\"2020-01-21\"], {\"frame\": {\"duration\": 0, \"redraw\": true}, \"fromcurrent\": true, \"mode\": \"immediate\", \"transition\": {\"duration\": 0, \"easing\": \"linear\"}}], \"label\": \"2020-01-21\", \"method\": \"animate\"}, {\"args\": [[\"2020-01-22\"], {\"frame\": {\"duration\": 0, \"redraw\": true}, \"fromcurrent\": true, \"mode\": \"immediate\", \"transition\": {\"duration\": 0, \"easing\": \"linear\"}}], \"label\": \"2020-01-22\", \"method\": \"animate\"}, {\"args\": [[\"2020-01-23\"], {\"frame\": {\"duration\": 0, \"redraw\": true}, \"fromcurrent\": true, \"mode\": \"immediate\", \"transition\": {\"duration\": 0, \"easing\": \"linear\"}}], \"label\": \"2020-01-23\", \"method\": \"animate\"}, {\"args\": [[\"2020-01-24\"], {\"frame\": {\"duration\": 0, \"redraw\": true}, \"fromcurrent\": true, \"mode\": \"immediate\", \"transition\": {\"duration\": 0, \"easing\": \"linear\"}}], \"label\": \"2020-01-24\", \"method\": \"animate\"}, {\"args\": [[\"2020-01-25\"], {\"frame\": {\"duration\": 0, \"redraw\": true}, \"fromcurrent\": true, \"mode\": \"immediate\", \"transition\": {\"duration\": 0, \"easing\": \"linear\"}}], \"label\": \"2020-01-25\", \"method\": \"animate\"}, {\"args\": [[\"2020-01-26\"], {\"frame\": {\"duration\": 0, \"redraw\": true}, \"fromcurrent\": true, \"mode\": \"immediate\", \"transition\": {\"duration\": 0, \"easing\": \"linear\"}}], \"label\": \"2020-01-26\", \"method\": \"animate\"}, {\"args\": [[\"2020-01-27\"], {\"frame\": {\"duration\": 0, \"redraw\": true}, \"fromcurrent\": true, \"mode\": \"immediate\", \"transition\": {\"duration\": 0, \"easing\": \"linear\"}}], \"label\": \"2020-01-27\", \"method\": \"animate\"}, {\"args\": [[\"2020-01-28\"], {\"frame\": {\"duration\": 0, \"redraw\": true}, \"fromcurrent\": true, \"mode\": \"immediate\", \"transition\": {\"duration\": 0, \"easing\": \"linear\"}}], \"label\": \"2020-01-28\", \"method\": \"animate\"}, {\"args\": [[\"2020-01-29\"], {\"frame\": {\"duration\": 0, \"redraw\": true}, \"fromcurrent\": true, \"mode\": \"immediate\", \"transition\": {\"duration\": 0, \"easing\": \"linear\"}}], \"label\": \"2020-01-29\", \"method\": \"animate\"}, {\"args\": [[\"2020-01-30\"], {\"frame\": {\"duration\": 0, \"redraw\": true}, \"fromcurrent\": true, \"mode\": \"immediate\", \"transition\": {\"duration\": 0, \"easing\": \"linear\"}}], \"label\": \"2020-01-30\", \"method\": \"animate\"}, {\"args\": [[\"2020-01-31\"], {\"frame\": {\"duration\": 0, \"redraw\": true}, \"fromcurrent\": true, \"mode\": \"immediate\", \"transition\": {\"duration\": 0, \"easing\": \"linear\"}}], \"label\": \"2020-01-31\", \"method\": \"animate\"}, {\"args\": [[\"2020-02-01\"], {\"frame\": {\"duration\": 0, \"redraw\": true}, \"fromcurrent\": true, \"mode\": \"immediate\", \"transition\": {\"duration\": 0, \"easing\": \"linear\"}}], \"label\": \"2020-02-01\", \"method\": \"animate\"}, {\"args\": [[\"2020-02-02\"], {\"frame\": {\"duration\": 0, \"redraw\": true}, \"fromcurrent\": true, \"mode\": \"immediate\", \"transition\": {\"duration\": 0, \"easing\": \"linear\"}}], \"label\": \"2020-02-02\", \"method\": \"animate\"}], \"x\": 0.1, \"xanchor\": \"left\", \"y\": 0, \"yanchor\": \"top\"}], \"template\": {\"data\": {\"bar\": [{\"error_x\": {\"color\": \"#2a3f5f\"}, \"error_y\": {\"color\": \"#2a3f5f\"}, \"marker\": {\"line\": {\"color\": \"#E5ECF6\", \"width\": 0.5}}, \"type\": \"bar\"}], \"barpolar\": [{\"marker\": {\"line\": {\"color\": \"#E5ECF6\", \"width\": 0.5}}, \"type\": \"barpolar\"}], \"carpet\": [{\"aaxis\": {\"endlinecolor\": \"#2a3f5f\", \"gridcolor\": \"white\", \"linecolor\": \"white\", \"minorgridcolor\": \"white\", \"startlinecolor\": \"#2a3f5f\"}, \"baxis\": {\"endlinecolor\": \"#2a3f5f\", \"gridcolor\": \"white\", \"linecolor\": \"white\", \"minorgridcolor\": \"white\", \"startlinecolor\": \"#2a3f5f\"}, \"type\": \"carpet\"}], \"choropleth\": [{\"colorbar\": {\"outlinewidth\": 0, \"ticks\": \"\"}, \"type\": \"choropleth\"}], \"contour\": [{\"colorbar\": {\"outlinewidth\": 0, \"ticks\": \"\"}, \"colorscale\": [[0.0, \"#0d0887\"], [0.1111111111111111, \"#46039f\"], [0.2222222222222222, \"#7201a8\"], [0.3333333333333333, \"#9c179e\"], [0.4444444444444444, \"#bd3786\"], [0.5555555555555556, \"#d8576b\"], [0.6666666666666666, \"#ed7953\"], [0.7777777777777778, \"#fb9f3a\"], [0.8888888888888888, \"#fdca26\"], [1.0, \"#f0f921\"]], \"type\": \"contour\"}], \"contourcarpet\": [{\"colorbar\": {\"outlinewidth\": 0, \"ticks\": \"\"}, \"type\": \"contourcarpet\"}], \"heatmap\": [{\"colorbar\": {\"outlinewidth\": 0, \"ticks\": \"\"}, \"colorscale\": [[0.0, \"#0d0887\"], [0.1111111111111111, \"#46039f\"], [0.2222222222222222, \"#7201a8\"], [0.3333333333333333, \"#9c179e\"], [0.4444444444444444, \"#bd3786\"], [0.5555555555555556, \"#d8576b\"], [0.6666666666666666, \"#ed7953\"], [0.7777777777777778, \"#fb9f3a\"], [0.8888888888888888, \"#fdca26\"], [1.0, \"#f0f921\"]], \"type\": \"heatmap\"}], \"heatmapgl\": [{\"colorbar\": {\"outlinewidth\": 0, \"ticks\": \"\"}, \"colorscale\": [[0.0, \"#0d0887\"], [0.1111111111111111, \"#46039f\"], [0.2222222222222222, \"#7201a8\"], [0.3333333333333333, \"#9c179e\"], [0.4444444444444444, \"#bd3786\"], [0.5555555555555556, \"#d8576b\"], [0.6666666666666666, \"#ed7953\"], [0.7777777777777778, \"#fb9f3a\"], [0.8888888888888888, \"#fdca26\"], [1.0, \"#f0f921\"]], \"type\": \"heatmapgl\"}], \"histogram\": [{\"marker\": {\"colorbar\": {\"outlinewidth\": 0, \"ticks\": \"\"}}, \"type\": \"histogram\"}], \"histogram2d\": [{\"colorbar\": {\"outlinewidth\": 0, \"ticks\": \"\"}, \"colorscale\": [[0.0, \"#0d0887\"], [0.1111111111111111, \"#46039f\"], [0.2222222222222222, \"#7201a8\"], [0.3333333333333333, \"#9c179e\"], [0.4444444444444444, \"#bd3786\"], [0.5555555555555556, \"#d8576b\"], [0.6666666666666666, \"#ed7953\"], [0.7777777777777778, \"#fb9f3a\"], [0.8888888888888888, \"#fdca26\"], [1.0, \"#f0f921\"]], \"type\": \"histogram2d\"}], \"histogram2dcontour\": [{\"colorbar\": {\"outlinewidth\": 0, \"ticks\": \"\"}, \"colorscale\": [[0.0, \"#0d0887\"], [0.1111111111111111, \"#46039f\"], [0.2222222222222222, \"#7201a8\"], [0.3333333333333333, \"#9c179e\"], [0.4444444444444444, \"#bd3786\"], [0.5555555555555556, \"#d8576b\"], [0.6666666666666666, \"#ed7953\"], [0.7777777777777778, \"#fb9f3a\"], [0.8888888888888888, \"#fdca26\"], [1.0, \"#f0f921\"]], \"type\": \"histogram2dcontour\"}], \"mesh3d\": [{\"colorbar\": {\"outlinewidth\": 0, \"ticks\": \"\"}, \"type\": \"mesh3d\"}], \"parcoords\": [{\"line\": {\"colorbar\": {\"outlinewidth\": 0, \"ticks\": \"\"}}, \"type\": \"parcoords\"}], \"pie\": [{\"automargin\": true, \"type\": \"pie\"}], \"scatter\": [{\"marker\": {\"colorbar\": {\"outlinewidth\": 0, \"ticks\": \"\"}}, \"type\": \"scatter\"}], \"scatter3d\": [{\"line\": {\"colorbar\": {\"outlinewidth\": 0, \"ticks\": \"\"}}, \"marker\": {\"colorbar\": {\"outlinewidth\": 0, \"ticks\": \"\"}}, \"type\": \"scatter3d\"}], \"scattercarpet\": [{\"marker\": {\"colorbar\": {\"outlinewidth\": 0, \"ticks\": \"\"}}, \"type\": \"scattercarpet\"}], \"scattergeo\": [{\"marker\": {\"colorbar\": {\"outlinewidth\": 0, \"ticks\": \"\"}}, \"type\": \"scattergeo\"}], \"scattergl\": [{\"marker\": {\"colorbar\": {\"outlinewidth\": 0, \"ticks\": \"\"}}, \"type\": \"scattergl\"}], \"scattermapbox\": [{\"marker\": {\"colorbar\": {\"outlinewidth\": 0, \"ticks\": \"\"}}, \"type\": \"scattermapbox\"}], \"scatterpolar\": [{\"marker\": {\"colorbar\": {\"outlinewidth\": 0, \"ticks\": \"\"}}, \"type\": \"scatterpolar\"}], \"scatterpolargl\": [{\"marker\": {\"colorbar\": {\"outlinewidth\": 0, \"ticks\": \"\"}}, \"type\": \"scatterpolargl\"}], \"scatterternary\": [{\"marker\": {\"colorbar\": {\"outlinewidth\": 0, \"ticks\": \"\"}}, \"type\": \"scatterternary\"}], \"surface\": [{\"colorbar\": {\"outlinewidth\": 0, \"ticks\": \"\"}, \"colorscale\": [[0.0, \"#0d0887\"], [0.1111111111111111, \"#46039f\"], [0.2222222222222222, \"#7201a8\"], [0.3333333333333333, \"#9c179e\"], [0.4444444444444444, \"#bd3786\"], [0.5555555555555556, \"#d8576b\"], [0.6666666666666666, \"#ed7953\"], [0.7777777777777778, \"#fb9f3a\"], [0.8888888888888888, \"#fdca26\"], [1.0, \"#f0f921\"]], \"type\": \"surface\"}], \"table\": [{\"cells\": {\"fill\": {\"color\": \"#EBF0F8\"}, \"line\": {\"color\": \"white\"}}, \"header\": {\"fill\": {\"color\": \"#C8D4E3\"}, \"line\": {\"color\": \"white\"}}, \"type\": \"table\"}]}, \"layout\": {\"annotationdefaults\": {\"arrowcolor\": \"#2a3f5f\", \"arrowhead\": 0, \"arrowwidth\": 1}, \"coloraxis\": {\"colorbar\": {\"outlinewidth\": 0, \"ticks\": \"\"}}, \"colorscale\": {\"diverging\": [[0, \"#8e0152\"], [0.1, \"#c51b7d\"], [0.2, \"#de77ae\"], [0.3, \"#f1b6da\"], [0.4, \"#fde0ef\"], [0.5, \"#f7f7f7\"], [0.6, \"#e6f5d0\"], [0.7, \"#b8e186\"], [0.8, \"#7fbc41\"], [0.9, \"#4d9221\"], [1, \"#276419\"]], \"sequential\": [[0.0, \"#0d0887\"], [0.1111111111111111, \"#46039f\"], [0.2222222222222222, \"#7201a8\"], [0.3333333333333333, \"#9c179e\"], [0.4444444444444444, \"#bd3786\"], [0.5555555555555556, \"#d8576b\"], [0.6666666666666666, \"#ed7953\"], [0.7777777777777778, \"#fb9f3a\"], [0.8888888888888888, \"#fdca26\"], [1.0, \"#f0f921\"]], \"sequentialminus\": [[0.0, \"#0d0887\"], [0.1111111111111111, \"#46039f\"], [0.2222222222222222, \"#7201a8\"], [0.3333333333333333, \"#9c179e\"], [0.4444444444444444, \"#bd3786\"], [0.5555555555555556, \"#d8576b\"], [0.6666666666666666, \"#ed7953\"], [0.7777777777777778, \"#fb9f3a\"], [0.8888888888888888, \"#fdca26\"], [1.0, \"#f0f921\"]]}, \"colorway\": [\"#636efa\", \"#EF553B\", \"#00cc96\", \"#ab63fa\", \"#FFA15A\", \"#19d3f3\", \"#FF6692\", \"#B6E880\", \"#FF97FF\", \"#FECB52\"], \"font\": {\"color\": \"#2a3f5f\"}, \"geo\": {\"bgcolor\": \"white\", \"lakecolor\": \"white\", \"landcolor\": \"#E5ECF6\", \"showlakes\": true, \"showland\": true, \"subunitcolor\": \"white\"}, \"hoverlabel\": {\"align\": \"left\"}, \"hovermode\": \"closest\", \"mapbox\": {\"style\": \"light\"}, \"paper_bgcolor\": \"white\", \"plot_bgcolor\": \"#E5ECF6\", \"polar\": {\"angularaxis\": {\"gridcolor\": \"white\", \"linecolor\": \"white\", \"ticks\": \"\"}, \"bgcolor\": \"#E5ECF6\", \"radialaxis\": {\"gridcolor\": \"white\", \"linecolor\": \"white\", \"ticks\": \"\"}}, \"scene\": {\"xaxis\": {\"backgroundcolor\": \"#E5ECF6\", \"gridcolor\": \"white\", \"gridwidth\": 2, \"linecolor\": \"white\", \"showbackground\": true, \"ticks\": \"\", \"zerolinecolor\": \"white\"}, \"yaxis\": {\"backgroundcolor\": \"#E5ECF6\", \"gridcolor\": \"white\", \"gridwidth\": 2, \"linecolor\": \"white\", \"showbackground\": true, \"ticks\": \"\", \"zerolinecolor\": \"white\"}, \"zaxis\": {\"backgroundcolor\": \"#E5ECF6\", \"gridcolor\": \"white\", \"gridwidth\": 2, \"linecolor\": \"white\", \"showbackground\": true, \"ticks\": \"\", \"zerolinecolor\": \"white\"}}, \"shapedefaults\": {\"line\": {\"color\": \"#2a3f5f\"}}, \"ternary\": {\"aaxis\": {\"gridcolor\": \"white\", \"linecolor\": \"white\", \"ticks\": \"\"}, \"baxis\": {\"gridcolor\": \"white\", \"linecolor\": \"white\", \"ticks\": \"\"}, \"bgcolor\": \"#E5ECF6\", \"caxis\": {\"gridcolor\": \"white\", \"linecolor\": \"white\", \"ticks\": \"\"}}, \"title\": {\"x\": 0.05}, \"xaxis\": {\"automargin\": true, \"gridcolor\": \"white\", \"linecolor\": \"white\", \"ticks\": \"\", \"title\": {\"standoff\": 15}, \"zerolinecolor\": \"white\", \"zerolinewidth\": 2}, \"yaxis\": {\"automargin\": true, \"gridcolor\": \"white\", \"linecolor\": \"white\", \"ticks\": \"\", \"title\": {\"standoff\": 15}, \"zerolinecolor\": \"white\", \"zerolinewidth\": 2}}}, \"title\": {\"text\": \"Spread total cases over time\"}, \"updatemenus\": [{\"buttons\": [{\"args\": [null, {\"frame\": {\"duration\": 500, \"redraw\": true}, \"fromcurrent\": true, \"mode\": \"immediate\", \"transition\": {\"duration\": 500, \"easing\": \"linear\"}}], \"label\": \"&#9654;\", \"method\": \"animate\"}, {\"args\": [[null], {\"frame\": {\"duration\": 0, \"redraw\": true}, \"fromcurrent\": true, \"mode\": \"immediate\", \"transition\": {\"duration\": 0, \"easing\": \"linear\"}}], \"label\": \"&#9724;\", \"method\": \"animate\"}], \"direction\": \"left\", \"pad\": {\"r\": 10, \"t\": 70}, \"showactive\": false, \"type\": \"buttons\", \"x\": 0.1, \"xanchor\": \"right\", \"y\": 0, \"yanchor\": \"top\"}]},\n",
       "                        {\"responsive\": true}\n",
       "                    ).then(function(){\n",
       "                            Plotly.addFrames('b41787f2-0e7c-4316-b446-3f91295b360e', [{\"data\": [{\"hoverlabel\": {\"namelength\": 0}, \"hovertemplate\": \"date=2020-01-19<br>size=%{marker.size}<br>latitude=%{lat}<br>longitude=%{lon}<br>id=%{marker.color}\", \"lat\": [37.563581, 37.460459], \"legendgroup\": \"\", \"lon\": [126.80205600000001, 126.44068], \"marker\": {\"color\": [14, 1], \"coloraxis\": \"coloraxis\", \"size\": [12600, 900], \"sizemode\": \"area\", \"sizeref\": 33.75}, \"mode\": \"markers\", \"name\": \"\", \"showlegend\": false, \"subplot\": \"mapbox\", \"type\": \"scattermapbox\"}], \"name\": \"2020-01-19\"}, {\"data\": [{\"hoverlabel\": {\"namelength\": 0}, \"hovertemplate\": \"date=2020-01-20<br>size=%{marker.size}<br>latitude=%{lat}<br>longitude=%{lon}<br>id=%{marker.color}\", \"lat\": [37.07994, 37.486112, 37.460459, 37.478832000000004], \"legendgroup\": \"\", \"lon\": [127.058282, 126.781023, 126.44068, 126.668558], \"marker\": {\"color\": [4, 12, 15, 1], \"coloraxis\": \"coloraxis\", \"size\": [3600, 10800, 13500, 900], \"sizemode\": \"area\", \"sizeref\": 33.75}, \"mode\": \"markers\", \"name\": \"\", \"showlegend\": false, \"subplot\": \"mapbox\", \"type\": \"scattermapbox\"}], \"name\": \"2020-01-20\"}, {\"data\": [{\"hoverlabel\": {\"namelength\": 0}, \"hovertemplate\": \"date=2020-01-21<br>size=%{marker.size}<br>latitude=%{lat}<br>longitude=%{lon}<br>id=%{marker.color}\", \"lat\": [37.052277000000004, 37.4631], \"legendgroup\": \"\", \"lon\": [127.057309, 126.631371], \"marker\": {\"color\": [4, 12], \"coloraxis\": \"coloraxis\", \"size\": [3600, 10800], \"sizemode\": \"area\", \"sizeref\": 33.75}, \"mode\": \"markers\", \"name\": \"\", \"showlegend\": false, \"subplot\": \"mapbox\", \"type\": \"scattermapbox\"}], \"name\": \"2020-01-21\"}, {\"data\": [{\"hoverlabel\": {\"namelength\": 0}, \"hovertemplate\": \"date=2020-01-22<br>size=%{marker.size}<br>latitude=%{lat}<br>longitude=%{lon}<br>id=%{marker.color}\", \"lat\": [37.68365, 37.690782, 37.755252, 37.764239, 37.562143, 37.503359, 37.524978000000004, 37.527728, 37.555062], \"legendgroup\": \"\", \"lon\": [129.04382900000002, 129.03203100000002, 128.899762, 128.89926499999999, 126.80188400000002, 127.049177, 127.027718, 127.03236000000001, 126.97061799999999], \"marker\": {\"color\": [12, 12, 12, 12, 2, 3, 3, 6, 12], \"coloraxis\": \"coloraxis\", \"size\": [10800, 10800, 10800, 10800, 1800, 2700, 2700, 5400, 10800], \"sizemode\": \"area\", \"sizeref\": 33.75}, \"mode\": \"markers\", \"name\": \"\", \"showlegend\": false, \"subplot\": \"mapbox\", \"type\": \"scattermapbox\"}], \"name\": \"2020-01-22\"}, {\"data\": [{\"hoverlabel\": {\"namelength\": 0}, \"hovertemplate\": \"date=2020-01-23<br>size=%{marker.size}<br>latitude=%{lat}<br>longitude=%{lon}<br>id=%{marker.color}\", \"lat\": [37.763697, 37.483885, 37.460459, 37.524669, 37.5292, 37.567454], \"legendgroup\": \"\", \"lon\": [128.897881, 126.77806000000001, 126.44068, 127.01591100000002, 127.032597, 127.005627], \"marker\": {\"color\": [12, 12, 8, 3, 3, 2], \"coloraxis\": \"coloraxis\", \"size\": [10800, 10800, 7200, 2700, 2700, 1800], \"sizemode\": \"area\", \"sizeref\": 33.75}, \"mode\": \"markers\", \"name\": \"\", \"showlegend\": false, \"subplot\": \"mapbox\", \"type\": \"scattermapbox\"}], \"name\": \"2020-01-23\"}, {\"data\": [{\"hoverlabel\": {\"namelength\": 0}, \"hovertemplate\": \"date=2020-01-24<br>size=%{marker.size}<br>latitude=%{lat}<br>longitude=%{lon}<br>id=%{marker.color}\", \"lat\": [37.266602, 37.283066, 37.674192, 37.678158, 37.682229, 37.460459], \"legendgroup\": \"\", \"lon\": [126.99980500000001, 127.019904, 126.776955, 126.812165, 126.770046, 126.44068], \"marker\": {\"color\": [12, 12, 3, 3, 3, 5], \"coloraxis\": \"coloraxis\", \"size\": [10800, 10800, 2700, 2700, 2700, 4500], \"sizemode\": \"area\", \"sizeref\": 33.75}, \"mode\": \"markers\", \"name\": \"\", \"showlegend\": false, \"subplot\": \"mapbox\", \"type\": \"scattermapbox\"}], \"name\": \"2020-01-24\"}, {\"data\": [{\"hoverlabel\": {\"namelength\": 0}, \"hovertemplate\": \"date=2020-01-25<br>size=%{marker.size}<br>latitude=%{lat}<br>longitude=%{lon}<br>id=%{marker.color}\", \"lat\": [37.359357, 37.642457, 37.491149], \"legendgroup\": \"\", \"lon\": [126.93099199999999, 126.831318, 127.01176699999999], \"marker\": {\"color\": [12, 3, 8], \"coloraxis\": \"coloraxis\", \"size\": [10800, 2700, 7200], \"sizemode\": \"area\", \"sizeref\": 33.75}, \"mode\": \"markers\", \"name\": \"\", \"showlegend\": false, \"subplot\": \"mapbox\", \"type\": \"scattermapbox\"}], \"name\": \"2020-01-25\"}, {\"data\": [{\"hoverlabel\": {\"namelength\": 0}, \"hovertemplate\": \"date=2020-01-26<br>size=%{marker.size}<br>latitude=%{lat}<br>longitude=%{lon}<br>id=%{marker.color}\", \"lat\": [37.350625, 37.48587, 35.986967, 37.564119, 37.587540000000004, 37.592858], \"legendgroup\": \"\", \"lon\": [127.12451499999999, 126.780125, 126.708147, 127.02969399999999, 127.000047, 127.017016], \"marker\": {\"color\": [4, 12, 8, 5, 6, 5], \"coloraxis\": \"coloraxis\", \"size\": [3600, 10800, 7200, 4500, 5400, 4500], \"sizemode\": \"area\", \"sizeref\": 33.75}, \"mode\": \"markers\", \"name\": \"\", \"showlegend\": false, \"subplot\": \"mapbox\", \"type\": \"scattermapbox\"}], \"name\": \"2020-01-26\"}, {\"data\": [{\"hoverlabel\": {\"namelength\": 0}, \"hovertemplate\": \"date=2020-01-27<br>size=%{marker.size}<br>latitude=%{lat}<br>longitude=%{lon}<br>id=%{marker.color}\", \"lat\": [35.968603, 37.557078000000004], \"legendgroup\": \"\", \"lon\": [126.716109, 127.00766599999999], \"marker\": {\"color\": [8, 12], \"coloraxis\": \"coloraxis\", \"size\": [7200, 10800], \"sizemode\": \"area\", \"sizeref\": 33.75}, \"mode\": \"markers\", \"name\": \"\", \"showlegend\": false, \"subplot\": \"mapbox\", \"type\": \"scattermapbox\"}], \"name\": \"2020-01-27\"}, {\"data\": [{\"hoverlabel\": {\"namelength\": 0}, \"hovertemplate\": \"date=2020-01-28<br>size=%{marker.size}<br>latitude=%{lat}<br>longitude=%{lon}<br>id=%{marker.color}\", \"lat\": [37.483885, 35.955681, 37.523938, 37.585378999999996, 37.588913, 37.591819], \"legendgroup\": \"\", \"lon\": [126.77806000000001, 126.71196100000002, 127.046554, 127.088581, 127.09111200000001, 127.01831399999999], \"marker\": {\"color\": [12, 8, 5, 5, 5, 5], \"coloraxis\": \"coloraxis\", \"size\": [10800, 7200, 4500, 4500, 4500, 4500], \"sizemode\": \"area\", \"sizeref\": 33.75}, \"mode\": \"markers\", \"name\": \"\", \"showlegend\": false, \"subplot\": \"mapbox\", \"type\": \"scattermapbox\"}], \"name\": \"2020-01-28\"}, {\"data\": [{\"hoverlabel\": {\"namelength\": 0}, \"hovertemplate\": \"date=2020-01-29<br>size=%{marker.size}<br>latitude=%{lat}<br>longitude=%{lon}<br>id=%{marker.color}\", \"lat\": [35.982997999999995, 37.606770000000004], \"legendgroup\": \"\", \"lon\": [126.73491899999999, 127.092697], \"marker\": {\"color\": [8, 5], \"coloraxis\": \"coloraxis\", \"size\": [7200, 4500], \"sizemode\": \"area\", \"sizeref\": 33.75}, \"mode\": \"markers\", \"name\": \"\", \"showlegend\": false, \"subplot\": \"mapbox\", \"type\": \"scattermapbox\"}], \"name\": \"2020-01-29\"}, {\"data\": [{\"hoverlabel\": {\"namelength\": 0}, \"hovertemplate\": \"date=2020-01-30<br>size=%{marker.size}<br>latitude=%{lat}<br>longitude=%{lon}<br>id=%{marker.color}\", \"lat\": [37.484044, 37.498304, 37.498619, 37.641481, 37.641736, 37.579678, 37.613102000000005], \"legendgroup\": \"\", \"lon\": [126.782436, 126.762864, 126.762854, 126.792022, 126.79121699999999, 126.99894499999999, 127.098658], \"marker\": {\"color\": [14, 14, 12, 10, 11, 6, 5], \"coloraxis\": \"coloraxis\", \"size\": [12600, 12600, 10800, 9000, 9900, 5400, 4500], \"sizemode\": \"area\", \"sizeref\": 33.75}, \"mode\": \"markers\", \"name\": \"\", \"showlegend\": false, \"subplot\": \"mapbox\", \"type\": \"scattermapbox\"}], \"name\": \"2020-01-30\"}, {\"data\": [{\"hoverlabel\": {\"namelength\": 0}, \"hovertemplate\": \"date=2020-01-31<br>size=%{marker.size}<br>latitude=%{lat}<br>longitude=%{lon}<br>id=%{marker.color}\", \"lat\": [37.579918, 37.580486, 37.613102000000005], \"legendgroup\": \"\", \"lon\": [126.99836200000001, 127.000701, 127.098658], \"marker\": {\"color\": [10, 11, 9], \"coloraxis\": \"coloraxis\", \"size\": [9000, 9900, 8100], \"sizemode\": \"area\", \"sizeref\": 33.75}, \"mode\": \"markers\", \"name\": \"\", \"showlegend\": false, \"subplot\": \"mapbox\", \"type\": \"scattermapbox\"}], \"name\": \"2020-01-31\"}, {\"data\": [{\"hoverlabel\": {\"namelength\": 0}, \"hovertemplate\": \"date=2020-02-01<br>size=%{marker.size}<br>latitude=%{lat}<br>longitude=%{lon}<br>id=%{marker.color}\", \"lat\": [37.304558, 37.348152], \"legendgroup\": \"\", \"lon\": [127.010198, 127.124784], \"marker\": {\"color\": [15, 12], \"coloraxis\": \"coloraxis\", \"size\": [13500, 10800], \"sizemode\": \"area\", \"sizeref\": 33.75}, \"mode\": \"markers\", \"name\": \"\", \"showlegend\": false, \"subplot\": \"mapbox\", \"type\": \"scattermapbox\"}], \"name\": \"2020-02-01\"}, {\"data\": [{\"hoverlabel\": {\"namelength\": 0}, \"hovertemplate\": \"date=2020-02-02<br>size=%{marker.size}<br>latitude=%{lat}<br>longitude=%{lon}<br>id=%{marker.color}\", \"lat\": [37.347722, 37.390524, 37.566876], \"legendgroup\": \"\", \"lon\": [127.12432199999999, 127.14976899999999, 127.004962], \"marker\": {\"color\": [14, 15, 13], \"coloraxis\": \"coloraxis\", \"size\": [12600, 13500, 11700], \"sizemode\": \"area\", \"sizeref\": 33.75}, \"mode\": \"markers\", \"name\": \"\", \"showlegend\": false, \"subplot\": \"mapbox\", \"type\": \"scattermapbox\"}], \"name\": \"2020-02-02\"}]);\n",
       "                        }).then(function(){\n",
       "                            \n",
       "var gd = document.getElementById('b41787f2-0e7c-4316-b446-3f91295b360e');\n",
       "var x = new MutationObserver(function (mutations, observer) {{\n",
       "        var display = window.getComputedStyle(gd).display;\n",
       "        if (!display || display === 'none') {{\n",
       "            console.log([gd, 'removed!']);\n",
       "            Plotly.purge(gd);\n",
       "            observer.disconnect();\n",
       "        }}\n",
       "}});\n",
       "\n",
       "// Listen for the removal of the full notebook cells\n",
       "var notebookContainer = gd.closest('#notebook-container');\n",
       "if (notebookContainer) {{\n",
       "    x.observe(notebookContainer, {childList: true});\n",
       "}}\n",
       "\n",
       "// Listen for the clearing of the current output cell\n",
       "var outputEl = gd.closest('.output');\n",
       "if (outputEl) {{\n",
       "    x.observe(outputEl, {childList: true});\n",
       "}}\n",
       "\n",
       "                        })\n",
       "                };\n",
       "                });\n",
       "            </script>\n",
       "        </div>"
      ]
     },
     "metadata": {},
     "output_type": "display_data"
    }
   ],
   "source": [
    "cmap1 = df_route\n",
    "cmap1  = cmap1.groupby(['date', 'province','latitude','longitude'])['id'].max()\n",
    "\n",
    "\n",
    "cmap1 = cmap1.reset_index()\n",
    "cmap1.head()\n",
    "cmap1['size'] = cmap1['id']*900\n",
    "cmap1\n",
    "fig = px.scatter_mapbox(cmap1, lat=\"latitude\", lon=\"longitude\",\n",
    "                     color=\"id\", size='size',\n",
    "                     color_continuous_scale='burgyl',\n",
    "                     animation_frame=\"date\", \n",
    "                     title='Spread total cases over time')\n",
    "fig.update(layout_coloraxis_showscale=True)\n",
    "fig.update_layout(mapbox_style=\"carto-positron\",\n",
    "                  mapbox_zoom=3)\n",
    "fig.update_layout(margin={\"r\":0,\"t\":30,\"l\":0,\"b\":0})\n",
    "fig.show()"
   ]
  },
  {
   "cell_type": "code",
   "execution_count": 18,
   "metadata": {},
   "outputs": [],
   "source": [
    "data = daily_count.resample('D').first().fillna(0).cumsum()\n",
    "data = data[20:]\n",
    "x = np.arange(len(data)).reshape(-1, 1)\n",
    "y = data.values"
   ]
  },
  {
   "cell_type": "markdown",
   "metadata": {},
   "source": [
    "**Regression Model**"
   ]
  },
  {
   "cell_type": "code",
   "execution_count": 19,
   "metadata": {},
   "outputs": [],
   "source": [
    "from sklearn.neural_network import MLPRegressor\n",
    "model = MLPRegressor(hidden_layer_sizes=[32, 32, 10], max_iter=50000, alpha=0.0005, random_state=26)\n",
    "_=model.fit(x, y)"
   ]
  },
  {
   "cell_type": "code",
   "execution_count": 20,
   "metadata": {},
   "outputs": [],
   "source": [
    "test = np.arange(len(data)+7).reshape(-1, 1)\n",
    "pred = model.predict(test)\n",
    "prediction = pred.round().astype(int)\n",
    "week = [data.index[0] + timedelta(days=i) for i in range(len(prediction))]\n",
    "dt_idx = pd.DatetimeIndex(week)\n",
    "predicted_count = pd.Series(prediction, dt_idx)"
   ]
  },
  {
   "cell_type": "markdown",
   "metadata": {},
   "source": [
    "**Graphical representatoin of current confirmed and predicted confirmed**"
   ]
  },
  {
   "cell_type": "code",
   "execution_count": 21,
   "metadata": {},
   "outputs": [
    {
     "data": {
      "image/png": "[encoded data removed]",
      "text/plain": [
       "<Figure size 432x288 with 1 Axes>"
      ]
     },
     "metadata": {
      "needs_background": "light"
     },
     "output_type": "display_data"
    }
   ],
   "source": [
    "accumulated_count.plot()\n",
    "predicted_count.plot()\n",
    "plt.title('Prediction of Accumulated Confirmed Count')\n",
    "plt.legend(['current confirmd count', 'predicted confirmed count'])\n",
    "plt.show()"
   ]
  },
  {
   "cell_type": "markdown",
   "metadata": {},
   "source": [
    "**Prophet**"
   ]
  },
  {
   "cell_type": "markdown",
   "metadata": {},
   "source": [
    "**Making data ready for Prophet**"
   ]
  },
  {
   "cell_type": "code",
   "execution_count": 22,
   "metadata": {},
   "outputs": [
    {
     "data": {
      "text/html": [
       "<div>\n",
       "<style scoped>\n",
       "    .dataframe tbody tr th:only-of-type {\n",
       "        vertical-align: middle;\n",
       "    }\n",
       "\n",
       "    .dataframe tbody tr th {\n",
       "        vertical-align: top;\n",
       "    }\n",
       "\n",
       "    .dataframe thead th {\n",
       "        text-align: right;\n",
       "    }\n",
       "</style>\n",
       "<table border=\"1\" class=\"dataframe\">\n",
       "  <thead>\n",
       "    <tr style=\"text-align: right;\">\n",
       "      <th></th>\n",
       "      <th>ds</th>\n",
       "      <th>y</th>\n",
       "    </tr>\n",
       "  </thead>\n",
       "  <tbody>\n",
       "    <tr>\n",
       "      <th>0</th>\n",
       "      <td>2020-02-09</td>\n",
       "      <td>27.0</td>\n",
       "    </tr>\n",
       "    <tr>\n",
       "      <th>1</th>\n",
       "      <td>2020-02-10</td>\n",
       "      <td>28.0</td>\n",
       "    </tr>\n",
       "    <tr>\n",
       "      <th>2</th>\n",
       "      <td>2020-02-11</td>\n",
       "      <td>28.0</td>\n",
       "    </tr>\n",
       "    <tr>\n",
       "      <th>3</th>\n",
       "      <td>2020-02-12</td>\n",
       "      <td>28.0</td>\n",
       "    </tr>\n",
       "    <tr>\n",
       "      <th>4</th>\n",
       "      <td>2020-02-13</td>\n",
       "      <td>28.0</td>\n",
       "    </tr>\n",
       "    <tr>\n",
       "      <th>5</th>\n",
       "      <td>2020-02-14</td>\n",
       "      <td>28.0</td>\n",
       "    </tr>\n",
       "    <tr>\n",
       "      <th>6</th>\n",
       "      <td>2020-02-15</td>\n",
       "      <td>28.0</td>\n",
       "    </tr>\n",
       "    <tr>\n",
       "      <th>7</th>\n",
       "      <td>2020-02-16</td>\n",
       "      <td>30.0</td>\n",
       "    </tr>\n",
       "    <tr>\n",
       "      <th>8</th>\n",
       "      <td>2020-02-17</td>\n",
       "      <td>30.0</td>\n",
       "    </tr>\n",
       "    <tr>\n",
       "      <th>9</th>\n",
       "      <td>2020-02-18</td>\n",
       "      <td>39.0</td>\n",
       "    </tr>\n",
       "    <tr>\n",
       "      <th>10</th>\n",
       "      <td>2020-02-19</td>\n",
       "      <td>65.0</td>\n",
       "    </tr>\n",
       "    <tr>\n",
       "      <th>11</th>\n",
       "      <td>2020-02-20</td>\n",
       "      <td>104.0</td>\n",
       "    </tr>\n",
       "    <tr>\n",
       "      <th>12</th>\n",
       "      <td>2020-02-21</td>\n",
       "      <td>204.0</td>\n",
       "    </tr>\n",
       "    <tr>\n",
       "      <th>13</th>\n",
       "      <td>2020-02-22</td>\n",
       "      <td>433.0</td>\n",
       "    </tr>\n",
       "    <tr>\n",
       "      <th>14</th>\n",
       "      <td>2020-02-23</td>\n",
       "      <td>602.0</td>\n",
       "    </tr>\n",
       "    <tr>\n",
       "      <th>15</th>\n",
       "      <td>2020-02-24</td>\n",
       "      <td>833.0</td>\n",
       "    </tr>\n",
       "    <tr>\n",
       "      <th>16</th>\n",
       "      <td>2020-02-25</td>\n",
       "      <td>976.0</td>\n",
       "    </tr>\n",
       "    <tr>\n",
       "      <th>17</th>\n",
       "      <td>2020-02-26</td>\n",
       "      <td>1261.0</td>\n",
       "    </tr>\n",
       "    <tr>\n",
       "      <th>18</th>\n",
       "      <td>2020-02-27</td>\n",
       "      <td>1766.0</td>\n",
       "    </tr>\n",
       "    <tr>\n",
       "      <th>19</th>\n",
       "      <td>2020-02-28</td>\n",
       "      <td>2337.0</td>\n",
       "    </tr>\n",
       "    <tr>\n",
       "      <th>20</th>\n",
       "      <td>2020-02-29</td>\n",
       "      <td>3150.0</td>\n",
       "    </tr>\n",
       "    <tr>\n",
       "      <th>21</th>\n",
       "      <td>2020-03-01</td>\n",
       "      <td>4212.0</td>\n",
       "    </tr>\n",
       "    <tr>\n",
       "      <th>22</th>\n",
       "      <td>2020-03-02</td>\n",
       "      <td>4812.0</td>\n",
       "    </tr>\n",
       "    <tr>\n",
       "      <th>23</th>\n",
       "      <td>2020-03-03</td>\n",
       "      <td>5328.0</td>\n",
       "    </tr>\n",
       "  </tbody>\n",
       "</table>\n",
       "</div>"
      ],
      "text/plain": [
       "           ds       y\n",
       "0  2020-02-09    27.0\n",
       "1  2020-02-10    28.0\n",
       "2  2020-02-11    28.0\n",
       "3  2020-02-12    28.0\n",
       "4  2020-02-13    28.0\n",
       "5  2020-02-14    28.0\n",
       "6  2020-02-15    28.0\n",
       "7  2020-02-16    30.0\n",
       "8  2020-02-17    30.0\n",
       "9  2020-02-18    39.0\n",
       "10 2020-02-19    65.0\n",
       "11 2020-02-20   104.0\n",
       "12 2020-02-21   204.0\n",
       "13 2020-02-22   433.0\n",
       "14 2020-02-23   602.0\n",
       "15 2020-02-24   833.0\n",
       "16 2020-02-25   976.0\n",
       "17 2020-02-26  1261.0\n",
       "18 2020-02-27  1766.0\n",
       "19 2020-02-28  2337.0\n",
       "20 2020-02-29  3150.0\n",
       "21 2020-03-01  4212.0\n",
       "22 2020-03-02  4812.0\n",
       "23 2020-03-03  5328.0"
      ]
     },
     "execution_count": 22,
     "metadata": {},
     "output_type": "execute_result"
    }
   ],
   "source": [
    "prophet= pd.DataFrame(data)\n",
    "prophet\n",
    "pr_data = prophet.reset_index()\n",
    "pr_data.columns = ['ds','y']\n",
    "pr_data"
   ]
  },
  {
   "cell_type": "markdown",
   "metadata": {},
   "source": [
    "**Model and prediction**"
   ]
  },
  {
   "cell_type": "code",
   "execution_count": 23,
   "metadata": {},
   "outputs": [
    {
     "data": {
      "text/html": [
       "<div>\n",
       "<style scoped>\n",
       "    .dataframe tbody tr th:only-of-type {\n",
       "        vertical-align: middle;\n",
       "    }\n",
       "\n",
       "    .dataframe tbody tr th {\n",
       "        vertical-align: top;\n",
       "    }\n",
       "\n",
       "    .dataframe thead th {\n",
       "        text-align: right;\n",
       "    }\n",
       "</style>\n",
       "<table border=\"1\" class=\"dataframe\">\n",
       "  <thead>\n",
       "    <tr style=\"text-align: right;\">\n",
       "      <th></th>\n",
       "      <th>ds</th>\n",
       "      <th>trend</th>\n",
       "      <th>yhat_lower</th>\n",
       "      <th>yhat_upper</th>\n",
       "      <th>trend_lower</th>\n",
       "      <th>trend_upper</th>\n",
       "      <th>additive_terms</th>\n",
       "      <th>additive_terms_lower</th>\n",
       "      <th>additive_terms_upper</th>\n",
       "      <th>weekly</th>\n",
       "      <th>weekly_lower</th>\n",
       "      <th>weekly_upper</th>\n",
       "      <th>multiplicative_terms</th>\n",
       "      <th>multiplicative_terms_lower</th>\n",
       "      <th>multiplicative_terms_upper</th>\n",
       "      <th>yhat</th>\n",
       "    </tr>\n",
       "  </thead>\n",
       "  <tbody>\n",
       "    <tr>\n",
       "      <th>0</th>\n",
       "      <td>2020-02-09</td>\n",
       "      <td>-1155.825903</td>\n",
       "      <td>-1865.612285</td>\n",
       "      <td>205.591689</td>\n",
       "      <td>-1155.825903</td>\n",
       "      <td>-1155.825903</td>\n",
       "      <td>355.579119</td>\n",
       "      <td>355.579119</td>\n",
       "      <td>355.579119</td>\n",
       "      <td>355.579119</td>\n",
       "      <td>355.579119</td>\n",
       "      <td>355.579119</td>\n",
       "      <td>0.0</td>\n",
       "      <td>0.0</td>\n",
       "      <td>0.0</td>\n",
       "      <td>-800.246784</td>\n",
       "    </tr>\n",
       "    <tr>\n",
       "      <th>1</th>\n",
       "      <td>2020-02-10</td>\n",
       "      <td>-963.640137</td>\n",
       "      <td>-1675.140393</td>\n",
       "      <td>513.275542</td>\n",
       "      <td>-963.640137</td>\n",
       "      <td>-963.640137</td>\n",
       "      <td>371.364637</td>\n",
       "      <td>371.364637</td>\n",
       "      <td>371.364637</td>\n",
       "      <td>371.364637</td>\n",
       "      <td>371.364637</td>\n",
       "      <td>371.364637</td>\n",
       "      <td>0.0</td>\n",
       "      <td>0.0</td>\n",
       "      <td>0.0</td>\n",
       "      <td>-592.275501</td>\n",
       "    </tr>\n",
       "    <tr>\n",
       "      <th>2</th>\n",
       "      <td>2020-02-11</td>\n",
       "      <td>-771.454371</td>\n",
       "      <td>-1515.914193</td>\n",
       "      <td>624.393780</td>\n",
       "      <td>-771.454371</td>\n",
       "      <td>-771.454371</td>\n",
       "      <td>346.150900</td>\n",
       "      <td>346.150900</td>\n",
       "      <td>346.150900</td>\n",
       "      <td>346.150900</td>\n",
       "      <td>346.150900</td>\n",
       "      <td>346.150900</td>\n",
       "      <td>0.0</td>\n",
       "      <td>0.0</td>\n",
       "      <td>0.0</td>\n",
       "      <td>-425.303471</td>\n",
       "    </tr>\n",
       "    <tr>\n",
       "      <th>3</th>\n",
       "      <td>2020-02-12</td>\n",
       "      <td>-579.268606</td>\n",
       "      <td>-1965.411444</td>\n",
       "      <td>174.665388</td>\n",
       "      <td>-579.268606</td>\n",
       "      <td>-579.268606</td>\n",
       "      <td>-314.629615</td>\n",
       "      <td>-314.629615</td>\n",
       "      <td>-314.629615</td>\n",
       "      <td>-314.629615</td>\n",
       "      <td>-314.629615</td>\n",
       "      <td>-314.629615</td>\n",
       "      <td>0.0</td>\n",
       "      <td>0.0</td>\n",
       "      <td>0.0</td>\n",
       "      <td>-893.898220</td>\n",
       "    </tr>\n",
       "    <tr>\n",
       "      <th>4</th>\n",
       "      <td>2020-02-13</td>\n",
       "      <td>-387.082840</td>\n",
       "      <td>-1733.722919</td>\n",
       "      <td>454.221692</td>\n",
       "      <td>-387.082840</td>\n",
       "      <td>-387.082840</td>\n",
       "      <td>-325.484037</td>\n",
       "      <td>-325.484037</td>\n",
       "      <td>-325.484037</td>\n",
       "      <td>-325.484037</td>\n",
       "      <td>-325.484037</td>\n",
       "      <td>-325.484037</td>\n",
       "      <td>0.0</td>\n",
       "      <td>0.0</td>\n",
       "      <td>0.0</td>\n",
       "      <td>-712.566877</td>\n",
       "    </tr>\n",
       "    <tr>\n",
       "      <th>5</th>\n",
       "      <td>2020-02-14</td>\n",
       "      <td>-194.897074</td>\n",
       "      <td>-1636.584306</td>\n",
       "      <td>602.223501</td>\n",
       "      <td>-194.897074</td>\n",
       "      <td>-194.897074</td>\n",
       "      <td>-294.042904</td>\n",
       "      <td>-294.042904</td>\n",
       "      <td>-294.042904</td>\n",
       "      <td>-294.042904</td>\n",
       "      <td>-294.042904</td>\n",
       "      <td>-294.042904</td>\n",
       "      <td>0.0</td>\n",
       "      <td>0.0</td>\n",
       "      <td>0.0</td>\n",
       "      <td>-488.939978</td>\n",
       "    </tr>\n",
       "    <tr>\n",
       "      <th>6</th>\n",
       "      <td>2020-02-15</td>\n",
       "      <td>-2.711308</td>\n",
       "      <td>-1225.038738</td>\n",
       "      <td>897.090730</td>\n",
       "      <td>-2.711308</td>\n",
       "      <td>-2.711308</td>\n",
       "      <td>-138.938101</td>\n",
       "      <td>-138.938101</td>\n",
       "      <td>-138.938101</td>\n",
       "      <td>-138.938101</td>\n",
       "      <td>-138.938101</td>\n",
       "      <td>-138.938101</td>\n",
       "      <td>0.0</td>\n",
       "      <td>0.0</td>\n",
       "      <td>0.0</td>\n",
       "      <td>-141.649409</td>\n",
       "    </tr>\n",
       "    <tr>\n",
       "      <th>7</th>\n",
       "      <td>2020-02-16</td>\n",
       "      <td>189.474458</td>\n",
       "      <td>-504.573368</td>\n",
       "      <td>1539.508108</td>\n",
       "      <td>189.474458</td>\n",
       "      <td>189.474458</td>\n",
       "      <td>355.579119</td>\n",
       "      <td>355.579119</td>\n",
       "      <td>355.579119</td>\n",
       "      <td>355.579119</td>\n",
       "      <td>355.579119</td>\n",
       "      <td>355.579119</td>\n",
       "      <td>0.0</td>\n",
       "      <td>0.0</td>\n",
       "      <td>0.0</td>\n",
       "      <td>545.053577</td>\n",
       "    </tr>\n",
       "    <tr>\n",
       "      <th>8</th>\n",
       "      <td>2020-02-17</td>\n",
       "      <td>381.660224</td>\n",
       "      <td>-361.995754</td>\n",
       "      <td>1818.121628</td>\n",
       "      <td>381.660224</td>\n",
       "      <td>381.660224</td>\n",
       "      <td>371.364637</td>\n",
       "      <td>371.364637</td>\n",
       "      <td>371.364637</td>\n",
       "      <td>371.364637</td>\n",
       "      <td>371.364637</td>\n",
       "      <td>371.364637</td>\n",
       "      <td>0.0</td>\n",
       "      <td>0.0</td>\n",
       "      <td>0.0</td>\n",
       "      <td>753.024860</td>\n",
       "    </tr>\n",
       "    <tr>\n",
       "      <th>9</th>\n",
       "      <td>2020-02-18</td>\n",
       "      <td>573.845990</td>\n",
       "      <td>-103.159231</td>\n",
       "      <td>2100.669104</td>\n",
       "      <td>573.845990</td>\n",
       "      <td>573.845990</td>\n",
       "      <td>346.150900</td>\n",
       "      <td>346.150900</td>\n",
       "      <td>346.150900</td>\n",
       "      <td>346.150900</td>\n",
       "      <td>346.150900</td>\n",
       "      <td>346.150900</td>\n",
       "      <td>0.0</td>\n",
       "      <td>0.0</td>\n",
       "      <td>0.0</td>\n",
       "      <td>919.996890</td>\n",
       "    </tr>\n",
       "    <tr>\n",
       "      <th>10</th>\n",
       "      <td>2020-02-19</td>\n",
       "      <td>766.031755</td>\n",
       "      <td>-546.291609</td>\n",
       "      <td>1539.072996</td>\n",
       "      <td>766.031755</td>\n",
       "      <td>766.031755</td>\n",
       "      <td>-314.629615</td>\n",
       "      <td>-314.629615</td>\n",
       "      <td>-314.629615</td>\n",
       "      <td>-314.629615</td>\n",
       "      <td>-314.629615</td>\n",
       "      <td>-314.629615</td>\n",
       "      <td>0.0</td>\n",
       "      <td>0.0</td>\n",
       "      <td>0.0</td>\n",
       "      <td>451.402141</td>\n",
       "    </tr>\n",
       "    <tr>\n",
       "      <th>11</th>\n",
       "      <td>2020-02-20</td>\n",
       "      <td>958.220864</td>\n",
       "      <td>-453.953755</td>\n",
       "      <td>1763.764941</td>\n",
       "      <td>958.220864</td>\n",
       "      <td>958.220864</td>\n",
       "      <td>-325.484037</td>\n",
       "      <td>-325.484037</td>\n",
       "      <td>-325.484037</td>\n",
       "      <td>-325.484037</td>\n",
       "      <td>-325.484037</td>\n",
       "      <td>-325.484037</td>\n",
       "      <td>0.0</td>\n",
       "      <td>0.0</td>\n",
       "      <td>0.0</td>\n",
       "      <td>632.736827</td>\n",
       "    </tr>\n",
       "    <tr>\n",
       "      <th>12</th>\n",
       "      <td>2020-02-21</td>\n",
       "      <td>1150.409973</td>\n",
       "      <td>-165.600134</td>\n",
       "      <td>1904.381893</td>\n",
       "      <td>1150.409973</td>\n",
       "      <td>1150.409973</td>\n",
       "      <td>-294.042904</td>\n",
       "      <td>-294.042904</td>\n",
       "      <td>-294.042904</td>\n",
       "      <td>-294.042904</td>\n",
       "      <td>-294.042904</td>\n",
       "      <td>-294.042904</td>\n",
       "      <td>0.0</td>\n",
       "      <td>0.0</td>\n",
       "      <td>0.0</td>\n",
       "      <td>856.367070</td>\n",
       "    </tr>\n",
       "    <tr>\n",
       "      <th>13</th>\n",
       "      <td>2020-02-22</td>\n",
       "      <td>1342.599082</td>\n",
       "      <td>154.345155</td>\n",
       "      <td>2349.968487</td>\n",
       "      <td>1342.599082</td>\n",
       "      <td>1342.599082</td>\n",
       "      <td>-138.938101</td>\n",
       "      <td>-138.938101</td>\n",
       "      <td>-138.938101</td>\n",
       "      <td>-138.938101</td>\n",
       "      <td>-138.938101</td>\n",
       "      <td>-138.938101</td>\n",
       "      <td>0.0</td>\n",
       "      <td>0.0</td>\n",
       "      <td>0.0</td>\n",
       "      <td>1203.660982</td>\n",
       "    </tr>\n",
       "    <tr>\n",
       "      <th>14</th>\n",
       "      <td>2020-02-23</td>\n",
       "      <td>1534.789243</td>\n",
       "      <td>884.261414</td>\n",
       "      <td>2945.518975</td>\n",
       "      <td>1534.789243</td>\n",
       "      <td>1534.789243</td>\n",
       "      <td>355.579119</td>\n",
       "      <td>355.579119</td>\n",
       "      <td>355.579119</td>\n",
       "      <td>355.579119</td>\n",
       "      <td>355.579119</td>\n",
       "      <td>355.579119</td>\n",
       "      <td>0.0</td>\n",
       "      <td>0.0</td>\n",
       "      <td>0.0</td>\n",
       "      <td>1890.368362</td>\n",
       "    </tr>\n",
       "    <tr>\n",
       "      <th>15</th>\n",
       "      <td>2020-02-24</td>\n",
       "      <td>1726.979403</td>\n",
       "      <td>965.208063</td>\n",
       "      <td>3246.543863</td>\n",
       "      <td>1726.979403</td>\n",
       "      <td>1726.979403</td>\n",
       "      <td>371.364637</td>\n",
       "      <td>371.364637</td>\n",
       "      <td>371.364637</td>\n",
       "      <td>371.364637</td>\n",
       "      <td>371.364637</td>\n",
       "      <td>371.364637</td>\n",
       "      <td>0.0</td>\n",
       "      <td>0.0</td>\n",
       "      <td>0.0</td>\n",
       "      <td>2098.344040</td>\n",
       "    </tr>\n",
       "    <tr>\n",
       "      <th>16</th>\n",
       "      <td>2020-02-25</td>\n",
       "      <td>1919.169564</td>\n",
       "      <td>1017.592179</td>\n",
       "      <td>3316.126285</td>\n",
       "      <td>1919.169564</td>\n",
       "      <td>1919.169564</td>\n",
       "      <td>346.150900</td>\n",
       "      <td>346.150900</td>\n",
       "      <td>346.150900</td>\n",
       "      <td>346.150900</td>\n",
       "      <td>346.150900</td>\n",
       "      <td>346.150900</td>\n",
       "      <td>0.0</td>\n",
       "      <td>0.0</td>\n",
       "      <td>0.0</td>\n",
       "      <td>2265.320464</td>\n",
       "    </tr>\n",
       "    <tr>\n",
       "      <th>17</th>\n",
       "      <td>2020-02-26</td>\n",
       "      <td>2111.360876</td>\n",
       "      <td>672.989475</td>\n",
       "      <td>2883.133343</td>\n",
       "      <td>2111.360876</td>\n",
       "      <td>2111.360876</td>\n",
       "      <td>-314.629615</td>\n",
       "      <td>-314.629615</td>\n",
       "      <td>-314.629615</td>\n",
       "      <td>-314.629615</td>\n",
       "      <td>-314.629615</td>\n",
       "      <td>-314.629615</td>\n",
       "      <td>0.0</td>\n",
       "      <td>0.0</td>\n",
       "      <td>0.0</td>\n",
       "      <td>1796.731261</td>\n",
       "    </tr>\n",
       "    <tr>\n",
       "      <th>18</th>\n",
       "      <td>2020-02-27</td>\n",
       "      <td>2303.552188</td>\n",
       "      <td>866.234467</td>\n",
       "      <td>3068.582699</td>\n",
       "      <td>2303.552188</td>\n",
       "      <td>2303.552188</td>\n",
       "      <td>-325.484037</td>\n",
       "      <td>-325.484037</td>\n",
       "      <td>-325.484037</td>\n",
       "      <td>-325.484037</td>\n",
       "      <td>-325.484037</td>\n",
       "      <td>-325.484037</td>\n",
       "      <td>0.0</td>\n",
       "      <td>0.0</td>\n",
       "      <td>0.0</td>\n",
       "      <td>1978.068151</td>\n",
       "    </tr>\n",
       "    <tr>\n",
       "      <th>19</th>\n",
       "      <td>2020-02-28</td>\n",
       "      <td>2495.743500</td>\n",
       "      <td>1099.199016</td>\n",
       "      <td>3346.906246</td>\n",
       "      <td>2495.743500</td>\n",
       "      <td>2495.743500</td>\n",
       "      <td>-294.042904</td>\n",
       "      <td>-294.042904</td>\n",
       "      <td>-294.042904</td>\n",
       "      <td>-294.042904</td>\n",
       "      <td>-294.042904</td>\n",
       "      <td>-294.042904</td>\n",
       "      <td>0.0</td>\n",
       "      <td>0.0</td>\n",
       "      <td>0.0</td>\n",
       "      <td>2201.700596</td>\n",
       "    </tr>\n",
       "    <tr>\n",
       "      <th>20</th>\n",
       "      <td>2020-02-29</td>\n",
       "      <td>2687.934812</td>\n",
       "      <td>1440.654028</td>\n",
       "      <td>3582.343346</td>\n",
       "      <td>2687.934812</td>\n",
       "      <td>2687.934812</td>\n",
       "      <td>-138.938101</td>\n",
       "      <td>-138.938101</td>\n",
       "      <td>-138.938101</td>\n",
       "      <td>-138.938101</td>\n",
       "      <td>-138.938101</td>\n",
       "      <td>-138.938101</td>\n",
       "      <td>0.0</td>\n",
       "      <td>0.0</td>\n",
       "      <td>0.0</td>\n",
       "      <td>2548.996711</td>\n",
       "    </tr>\n",
       "    <tr>\n",
       "      <th>21</th>\n",
       "      <td>2020-03-01</td>\n",
       "      <td>2880.126124</td>\n",
       "      <td>2159.176066</td>\n",
       "      <td>4360.546835</td>\n",
       "      <td>2880.126124</td>\n",
       "      <td>2880.126124</td>\n",
       "      <td>355.579119</td>\n",
       "      <td>355.579119</td>\n",
       "      <td>355.579119</td>\n",
       "      <td>355.579119</td>\n",
       "      <td>355.579119</td>\n",
       "      <td>355.579119</td>\n",
       "      <td>0.0</td>\n",
       "      <td>0.0</td>\n",
       "      <td>0.0</td>\n",
       "      <td>3235.705243</td>\n",
       "    </tr>\n",
       "    <tr>\n",
       "      <th>22</th>\n",
       "      <td>2020-03-02</td>\n",
       "      <td>3072.317436</td>\n",
       "      <td>2309.283767</td>\n",
       "      <td>4483.708114</td>\n",
       "      <td>3072.317436</td>\n",
       "      <td>3072.317436</td>\n",
       "      <td>371.364637</td>\n",
       "      <td>371.364637</td>\n",
       "      <td>371.364637</td>\n",
       "      <td>371.364637</td>\n",
       "      <td>371.364637</td>\n",
       "      <td>371.364637</td>\n",
       "      <td>0.0</td>\n",
       "      <td>0.0</td>\n",
       "      <td>0.0</td>\n",
       "      <td>3443.682072</td>\n",
       "    </tr>\n",
       "    <tr>\n",
       "      <th>23</th>\n",
       "      <td>2020-03-03</td>\n",
       "      <td>3264.508748</td>\n",
       "      <td>2571.525715</td>\n",
       "      <td>4863.412676</td>\n",
       "      <td>3264.508748</td>\n",
       "      <td>3264.508748</td>\n",
       "      <td>346.150900</td>\n",
       "      <td>346.150900</td>\n",
       "      <td>346.150900</td>\n",
       "      <td>346.150900</td>\n",
       "      <td>346.150900</td>\n",
       "      <td>346.150900</td>\n",
       "      <td>0.0</td>\n",
       "      <td>0.0</td>\n",
       "      <td>0.0</td>\n",
       "      <td>3610.659648</td>\n",
       "    </tr>\n",
       "    <tr>\n",
       "      <th>24</th>\n",
       "      <td>2020-03-04</td>\n",
       "      <td>3456.700060</td>\n",
       "      <td>1975.608203</td>\n",
       "      <td>4276.174804</td>\n",
       "      <td>3456.699888</td>\n",
       "      <td>3456.700240</td>\n",
       "      <td>-314.629615</td>\n",
       "      <td>-314.629615</td>\n",
       "      <td>-314.629615</td>\n",
       "      <td>-314.629615</td>\n",
       "      <td>-314.629615</td>\n",
       "      <td>-314.629615</td>\n",
       "      <td>0.0</td>\n",
       "      <td>0.0</td>\n",
       "      <td>0.0</td>\n",
       "      <td>3142.070445</td>\n",
       "    </tr>\n",
       "    <tr>\n",
       "      <th>25</th>\n",
       "      <td>2020-03-05</td>\n",
       "      <td>3648.891372</td>\n",
       "      <td>2295.590893</td>\n",
       "      <td>4386.339206</td>\n",
       "      <td>3648.890741</td>\n",
       "      <td>3648.892148</td>\n",
       "      <td>-325.484037</td>\n",
       "      <td>-325.484037</td>\n",
       "      <td>-325.484037</td>\n",
       "      <td>-325.484037</td>\n",
       "      <td>-325.484037</td>\n",
       "      <td>-325.484037</td>\n",
       "      <td>0.0</td>\n",
       "      <td>0.0</td>\n",
       "      <td>0.0</td>\n",
       "      <td>3323.407335</td>\n",
       "    </tr>\n",
       "    <tr>\n",
       "      <th>26</th>\n",
       "      <td>2020-03-06</td>\n",
       "      <td>3841.082684</td>\n",
       "      <td>2431.601003</td>\n",
       "      <td>4668.348673</td>\n",
       "      <td>3841.081362</td>\n",
       "      <td>3841.084134</td>\n",
       "      <td>-294.042904</td>\n",
       "      <td>-294.042904</td>\n",
       "      <td>-294.042904</td>\n",
       "      <td>-294.042904</td>\n",
       "      <td>-294.042904</td>\n",
       "      <td>-294.042904</td>\n",
       "      <td>0.0</td>\n",
       "      <td>0.0</td>\n",
       "      <td>0.0</td>\n",
       "      <td>3547.039780</td>\n",
       "    </tr>\n",
       "    <tr>\n",
       "      <th>27</th>\n",
       "      <td>2020-03-07</td>\n",
       "      <td>4033.273996</td>\n",
       "      <td>2789.495052</td>\n",
       "      <td>4964.261908</td>\n",
       "      <td>4033.271933</td>\n",
       "      <td>4033.276200</td>\n",
       "      <td>-138.938101</td>\n",
       "      <td>-138.938101</td>\n",
       "      <td>-138.938101</td>\n",
       "      <td>-138.938101</td>\n",
       "      <td>-138.938101</td>\n",
       "      <td>-138.938101</td>\n",
       "      <td>0.0</td>\n",
       "      <td>0.0</td>\n",
       "      <td>0.0</td>\n",
       "      <td>3894.335896</td>\n",
       "    </tr>\n",
       "    <tr>\n",
       "      <th>28</th>\n",
       "      <td>2020-03-08</td>\n",
       "      <td>4225.465308</td>\n",
       "      <td>3496.645176</td>\n",
       "      <td>5648.801662</td>\n",
       "      <td>4225.462565</td>\n",
       "      <td>4225.468441</td>\n",
       "      <td>355.579119</td>\n",
       "      <td>355.579119</td>\n",
       "      <td>355.579119</td>\n",
       "      <td>355.579119</td>\n",
       "      <td>355.579119</td>\n",
       "      <td>355.579119</td>\n",
       "      <td>0.0</td>\n",
       "      <td>0.0</td>\n",
       "      <td>0.0</td>\n",
       "      <td>4581.044427</td>\n",
       "    </tr>\n",
       "    <tr>\n",
       "      <th>29</th>\n",
       "      <td>2020-03-09</td>\n",
       "      <td>4417.656620</td>\n",
       "      <td>3632.289836</td>\n",
       "      <td>5855.795165</td>\n",
       "      <td>4417.653087</td>\n",
       "      <td>4417.660760</td>\n",
       "      <td>371.364637</td>\n",
       "      <td>371.364637</td>\n",
       "      <td>371.364637</td>\n",
       "      <td>371.364637</td>\n",
       "      <td>371.364637</td>\n",
       "      <td>371.364637</td>\n",
       "      <td>0.0</td>\n",
       "      <td>0.0</td>\n",
       "      <td>0.0</td>\n",
       "      <td>4789.021257</td>\n",
       "    </tr>\n",
       "    <tr>\n",
       "      <th>30</th>\n",
       "      <td>2020-03-10</td>\n",
       "      <td>4609.847932</td>\n",
       "      <td>3864.467982</td>\n",
       "      <td>5979.212366</td>\n",
       "      <td>4609.843275</td>\n",
       "      <td>4609.853101</td>\n",
       "      <td>346.150900</td>\n",
       "      <td>346.150900</td>\n",
       "      <td>346.150900</td>\n",
       "      <td>346.150900</td>\n",
       "      <td>346.150900</td>\n",
       "      <td>346.150900</td>\n",
       "      <td>0.0</td>\n",
       "      <td>0.0</td>\n",
       "      <td>0.0</td>\n",
       "      <td>4955.998833</td>\n",
       "    </tr>\n",
       "    <tr>\n",
       "      <th>31</th>\n",
       "      <td>2020-03-11</td>\n",
       "      <td>4802.039244</td>\n",
       "      <td>3379.100288</td>\n",
       "      <td>5638.964272</td>\n",
       "      <td>4802.033602</td>\n",
       "      <td>4802.045842</td>\n",
       "      <td>-314.629615</td>\n",
       "      <td>-314.629615</td>\n",
       "      <td>-314.629615</td>\n",
       "      <td>-314.629615</td>\n",
       "      <td>-314.629615</td>\n",
       "      <td>-314.629615</td>\n",
       "      <td>0.0</td>\n",
       "      <td>0.0</td>\n",
       "      <td>0.0</td>\n",
       "      <td>4487.409630</td>\n",
       "    </tr>\n",
       "    <tr>\n",
       "      <th>32</th>\n",
       "      <td>2020-03-12</td>\n",
       "      <td>4994.230557</td>\n",
       "      <td>3635.817704</td>\n",
       "      <td>5727.775128</td>\n",
       "      <td>4994.223703</td>\n",
       "      <td>4994.238324</td>\n",
       "      <td>-325.484037</td>\n",
       "      <td>-325.484037</td>\n",
       "      <td>-325.484037</td>\n",
       "      <td>-325.484037</td>\n",
       "      <td>-325.484037</td>\n",
       "      <td>-325.484037</td>\n",
       "      <td>0.0</td>\n",
       "      <td>0.0</td>\n",
       "      <td>0.0</td>\n",
       "      <td>4668.746520</td>\n",
       "    </tr>\n",
       "    <tr>\n",
       "      <th>33</th>\n",
       "      <td>2020-03-13</td>\n",
       "      <td>5186.421869</td>\n",
       "      <td>3766.440500</td>\n",
       "      <td>5963.335692</td>\n",
       "      <td>5186.413763</td>\n",
       "      <td>5186.430804</td>\n",
       "      <td>-294.042904</td>\n",
       "      <td>-294.042904</td>\n",
       "      <td>-294.042904</td>\n",
       "      <td>-294.042904</td>\n",
       "      <td>-294.042904</td>\n",
       "      <td>-294.042904</td>\n",
       "      <td>0.0</td>\n",
       "      <td>0.0</td>\n",
       "      <td>0.0</td>\n",
       "      <td>4892.378965</td>\n",
       "    </tr>\n",
       "    <tr>\n",
       "      <th>34</th>\n",
       "      <td>2020-03-14</td>\n",
       "      <td>5378.613181</td>\n",
       "      <td>4129.986541</td>\n",
       "      <td>6342.540793</td>\n",
       "      <td>5378.603838</td>\n",
       "      <td>5378.623350</td>\n",
       "      <td>-138.938101</td>\n",
       "      <td>-138.938101</td>\n",
       "      <td>-138.938101</td>\n",
       "      <td>-138.938101</td>\n",
       "      <td>-138.938101</td>\n",
       "      <td>-138.938101</td>\n",
       "      <td>0.0</td>\n",
       "      <td>0.0</td>\n",
       "      <td>0.0</td>\n",
       "      <td>5239.675080</td>\n",
       "    </tr>\n",
       "    <tr>\n",
       "      <th>35</th>\n",
       "      <td>2020-03-15</td>\n",
       "      <td>5570.804493</td>\n",
       "      <td>4770.399417</td>\n",
       "      <td>7046.158296</td>\n",
       "      <td>5570.794015</td>\n",
       "      <td>5570.815867</td>\n",
       "      <td>355.579119</td>\n",
       "      <td>355.579119</td>\n",
       "      <td>355.579119</td>\n",
       "      <td>355.579119</td>\n",
       "      <td>355.579119</td>\n",
       "      <td>355.579119</td>\n",
       "      <td>0.0</td>\n",
       "      <td>0.0</td>\n",
       "      <td>0.0</td>\n",
       "      <td>5926.383612</td>\n",
       "    </tr>\n",
       "    <tr>\n",
       "      <th>36</th>\n",
       "      <td>2020-03-16</td>\n",
       "      <td>5762.995805</td>\n",
       "      <td>5012.020909</td>\n",
       "      <td>7200.183320</td>\n",
       "      <td>5762.983784</td>\n",
       "      <td>5763.008701</td>\n",
       "      <td>371.364637</td>\n",
       "      <td>371.364637</td>\n",
       "      <td>371.364637</td>\n",
       "      <td>371.364637</td>\n",
       "      <td>371.364637</td>\n",
       "      <td>371.364637</td>\n",
       "      <td>0.0</td>\n",
       "      <td>0.0</td>\n",
       "      <td>0.0</td>\n",
       "      <td>6134.360441</td>\n",
       "    </tr>\n",
       "    <tr>\n",
       "      <th>37</th>\n",
       "      <td>2020-03-17</td>\n",
       "      <td>5955.187117</td>\n",
       "      <td>5237.637675</td>\n",
       "      <td>7329.303373</td>\n",
       "      <td>5955.173221</td>\n",
       "      <td>5955.201114</td>\n",
       "      <td>346.150900</td>\n",
       "      <td>346.150900</td>\n",
       "      <td>346.150900</td>\n",
       "      <td>346.150900</td>\n",
       "      <td>346.150900</td>\n",
       "      <td>346.150900</td>\n",
       "      <td>0.0</td>\n",
       "      <td>0.0</td>\n",
       "      <td>0.0</td>\n",
       "      <td>6301.338017</td>\n",
       "    </tr>\n",
       "    <tr>\n",
       "      <th>38</th>\n",
       "      <td>2020-03-18</td>\n",
       "      <td>6147.378429</td>\n",
       "      <td>4809.746499</td>\n",
       "      <td>6932.667391</td>\n",
       "      <td>6147.362568</td>\n",
       "      <td>6147.394459</td>\n",
       "      <td>-314.629615</td>\n",
       "      <td>-314.629615</td>\n",
       "      <td>-314.629615</td>\n",
       "      <td>-314.629615</td>\n",
       "      <td>-314.629615</td>\n",
       "      <td>-314.629615</td>\n",
       "      <td>0.0</td>\n",
       "      <td>0.0</td>\n",
       "      <td>0.0</td>\n",
       "      <td>5832.748814</td>\n",
       "    </tr>\n",
       "    <tr>\n",
       "      <th>39</th>\n",
       "      <td>2020-03-19</td>\n",
       "      <td>6339.569741</td>\n",
       "      <td>4835.361081</td>\n",
       "      <td>7097.681973</td>\n",
       "      <td>6339.551998</td>\n",
       "      <td>6339.587231</td>\n",
       "      <td>-325.484037</td>\n",
       "      <td>-325.484037</td>\n",
       "      <td>-325.484037</td>\n",
       "      <td>-325.484037</td>\n",
       "      <td>-325.484037</td>\n",
       "      <td>-325.484037</td>\n",
       "      <td>0.0</td>\n",
       "      <td>0.0</td>\n",
       "      <td>0.0</td>\n",
       "      <td>6014.085704</td>\n",
       "    </tr>\n",
       "    <tr>\n",
       "      <th>40</th>\n",
       "      <td>2020-03-20</td>\n",
       "      <td>6531.761053</td>\n",
       "      <td>5191.132592</td>\n",
       "      <td>7313.957148</td>\n",
       "      <td>6531.741074</td>\n",
       "      <td>6531.780495</td>\n",
       "      <td>-294.042904</td>\n",
       "      <td>-294.042904</td>\n",
       "      <td>-294.042904</td>\n",
       "      <td>-294.042904</td>\n",
       "      <td>-294.042904</td>\n",
       "      <td>-294.042904</td>\n",
       "      <td>0.0</td>\n",
       "      <td>0.0</td>\n",
       "      <td>0.0</td>\n",
       "      <td>6237.718149</td>\n",
       "    </tr>\n",
       "    <tr>\n",
       "      <th>41</th>\n",
       "      <td>2020-03-21</td>\n",
       "      <td>6723.952365</td>\n",
       "      <td>5460.085572</td>\n",
       "      <td>7661.555164</td>\n",
       "      <td>6723.931065</td>\n",
       "      <td>6723.973507</td>\n",
       "      <td>-138.938101</td>\n",
       "      <td>-138.938101</td>\n",
       "      <td>-138.938101</td>\n",
       "      <td>-138.938101</td>\n",
       "      <td>-138.938101</td>\n",
       "      <td>-138.938101</td>\n",
       "      <td>0.0</td>\n",
       "      <td>0.0</td>\n",
       "      <td>0.0</td>\n",
       "      <td>6585.014265</td>\n",
       "    </tr>\n",
       "    <tr>\n",
       "      <th>42</th>\n",
       "      <td>2020-03-22</td>\n",
       "      <td>6916.143677</td>\n",
       "      <td>6174.700306</td>\n",
       "      <td>8333.927873</td>\n",
       "      <td>6916.120635</td>\n",
       "      <td>6916.166906</td>\n",
       "      <td>355.579119</td>\n",
       "      <td>355.579119</td>\n",
       "      <td>355.579119</td>\n",
       "      <td>355.579119</td>\n",
       "      <td>355.579119</td>\n",
       "      <td>355.579119</td>\n",
       "      <td>0.0</td>\n",
       "      <td>0.0</td>\n",
       "      <td>0.0</td>\n",
       "      <td>7271.722796</td>\n",
       "    </tr>\n",
       "    <tr>\n",
       "      <th>43</th>\n",
       "      <td>2020-03-23</td>\n",
       "      <td>7108.334989</td>\n",
       "      <td>6432.832369</td>\n",
       "      <td>8528.673112</td>\n",
       "      <td>7108.310461</td>\n",
       "      <td>7108.360385</td>\n",
       "      <td>371.364637</td>\n",
       "      <td>371.364637</td>\n",
       "      <td>371.364637</td>\n",
       "      <td>371.364637</td>\n",
       "      <td>371.364637</td>\n",
       "      <td>371.364637</td>\n",
       "      <td>0.0</td>\n",
       "      <td>0.0</td>\n",
       "      <td>0.0</td>\n",
       "      <td>7479.699626</td>\n",
       "    </tr>\n",
       "    <tr>\n",
       "      <th>44</th>\n",
       "      <td>2020-03-24</td>\n",
       "      <td>7300.526301</td>\n",
       "      <td>6572.419239</td>\n",
       "      <td>8706.860405</td>\n",
       "      <td>7300.500246</td>\n",
       "      <td>7300.553855</td>\n",
       "      <td>346.150900</td>\n",
       "      <td>346.150900</td>\n",
       "      <td>346.150900</td>\n",
       "      <td>346.150900</td>\n",
       "      <td>346.150900</td>\n",
       "      <td>346.150900</td>\n",
       "      <td>0.0</td>\n",
       "      <td>0.0</td>\n",
       "      <td>0.0</td>\n",
       "      <td>7646.677202</td>\n",
       "    </tr>\n",
       "    <tr>\n",
       "      <th>45</th>\n",
       "      <td>2020-03-25</td>\n",
       "      <td>7492.717613</td>\n",
       "      <td>6139.201175</td>\n",
       "      <td>8262.981615</td>\n",
       "      <td>7492.689396</td>\n",
       "      <td>7492.747225</td>\n",
       "      <td>-314.629615</td>\n",
       "      <td>-314.629615</td>\n",
       "      <td>-314.629615</td>\n",
       "      <td>-314.629615</td>\n",
       "      <td>-314.629615</td>\n",
       "      <td>-314.629615</td>\n",
       "      <td>0.0</td>\n",
       "      <td>0.0</td>\n",
       "      <td>0.0</td>\n",
       "      <td>7178.087999</td>\n",
       "    </tr>\n",
       "    <tr>\n",
       "      <th>46</th>\n",
       "      <td>2020-03-26</td>\n",
       "      <td>7684.908925</td>\n",
       "      <td>6242.491065</td>\n",
       "      <td>8413.633797</td>\n",
       "      <td>7684.879140</td>\n",
       "      <td>7684.940826</td>\n",
       "      <td>-325.484037</td>\n",
       "      <td>-325.484037</td>\n",
       "      <td>-325.484037</td>\n",
       "      <td>-325.484037</td>\n",
       "      <td>-325.484037</td>\n",
       "      <td>-325.484037</td>\n",
       "      <td>0.0</td>\n",
       "      <td>0.0</td>\n",
       "      <td>0.0</td>\n",
       "      <td>7359.424888</td>\n",
       "    </tr>\n",
       "    <tr>\n",
       "      <th>47</th>\n",
       "      <td>2020-03-27</td>\n",
       "      <td>7877.100238</td>\n",
       "      <td>6535.553799</td>\n",
       "      <td>8746.214230</td>\n",
       "      <td>7877.068281</td>\n",
       "      <td>7877.134490</td>\n",
       "      <td>-294.042904</td>\n",
       "      <td>-294.042904</td>\n",
       "      <td>-294.042904</td>\n",
       "      <td>-294.042904</td>\n",
       "      <td>-294.042904</td>\n",
       "      <td>-294.042904</td>\n",
       "      <td>0.0</td>\n",
       "      <td>0.0</td>\n",
       "      <td>0.0</td>\n",
       "      <td>7583.057334</td>\n",
       "    </tr>\n",
       "    <tr>\n",
       "      <th>48</th>\n",
       "      <td>2020-03-28</td>\n",
       "      <td>8069.291550</td>\n",
       "      <td>6820.128285</td>\n",
       "      <td>9138.553729</td>\n",
       "      <td>8069.257864</td>\n",
       "      <td>8069.328525</td>\n",
       "      <td>-138.938101</td>\n",
       "      <td>-138.938101</td>\n",
       "      <td>-138.938101</td>\n",
       "      <td>-138.938101</td>\n",
       "      <td>-138.938101</td>\n",
       "      <td>-138.938101</td>\n",
       "      <td>0.0</td>\n",
       "      <td>0.0</td>\n",
       "      <td>0.0</td>\n",
       "      <td>7930.353449</td>\n",
       "    </tr>\n",
       "    <tr>\n",
       "      <th>49</th>\n",
       "      <td>2020-03-29</td>\n",
       "      <td>8261.482862</td>\n",
       "      <td>7567.354588</td>\n",
       "      <td>9680.337341</td>\n",
       "      <td>8261.447047</td>\n",
       "      <td>8261.522729</td>\n",
       "      <td>355.579119</td>\n",
       "      <td>355.579119</td>\n",
       "      <td>355.579119</td>\n",
       "      <td>355.579119</td>\n",
       "      <td>355.579119</td>\n",
       "      <td>355.579119</td>\n",
       "      <td>0.0</td>\n",
       "      <td>0.0</td>\n",
       "      <td>0.0</td>\n",
       "      <td>8617.061981</td>\n",
       "    </tr>\n",
       "    <tr>\n",
       "      <th>50</th>\n",
       "      <td>2020-03-30</td>\n",
       "      <td>8453.674174</td>\n",
       "      <td>7687.917063</td>\n",
       "      <td>9930.333810</td>\n",
       "      <td>8453.636588</td>\n",
       "      <td>8453.716654</td>\n",
       "      <td>371.364637</td>\n",
       "      <td>371.364637</td>\n",
       "      <td>371.364637</td>\n",
       "      <td>371.364637</td>\n",
       "      <td>371.364637</td>\n",
       "      <td>371.364637</td>\n",
       "      <td>0.0</td>\n",
       "      <td>0.0</td>\n",
       "      <td>0.0</td>\n",
       "      <td>8825.038810</td>\n",
       "    </tr>\n",
       "    <tr>\n",
       "      <th>51</th>\n",
       "      <td>2020-03-31</td>\n",
       "      <td>8645.865486</td>\n",
       "      <td>7864.011232</td>\n",
       "      <td>10136.642773</td>\n",
       "      <td>8645.826193</td>\n",
       "      <td>8645.910273</td>\n",
       "      <td>346.150900</td>\n",
       "      <td>346.150900</td>\n",
       "      <td>346.150900</td>\n",
       "      <td>346.150900</td>\n",
       "      <td>346.150900</td>\n",
       "      <td>346.150900</td>\n",
       "      <td>0.0</td>\n",
       "      <td>0.0</td>\n",
       "      <td>0.0</td>\n",
       "      <td>8992.016386</td>\n",
       "    </tr>\n",
       "    <tr>\n",
       "      <th>52</th>\n",
       "      <td>2020-04-01</td>\n",
       "      <td>8838.056798</td>\n",
       "      <td>7433.081151</td>\n",
       "      <td>9599.767454</td>\n",
       "      <td>8838.014937</td>\n",
       "      <td>8838.104608</td>\n",
       "      <td>-314.629615</td>\n",
       "      <td>-314.629615</td>\n",
       "      <td>-314.629615</td>\n",
       "      <td>-314.629615</td>\n",
       "      <td>-314.629615</td>\n",
       "      <td>-314.629615</td>\n",
       "      <td>0.0</td>\n",
       "      <td>0.0</td>\n",
       "      <td>0.0</td>\n",
       "      <td>8523.427183</td>\n",
       "    </tr>\n",
       "    <tr>\n",
       "      <th>53</th>\n",
       "      <td>2020-04-02</td>\n",
       "      <td>9030.248110</td>\n",
       "      <td>7561.486147</td>\n",
       "      <td>9757.097214</td>\n",
       "      <td>9030.204630</td>\n",
       "      <td>9030.298504</td>\n",
       "      <td>-325.484037</td>\n",
       "      <td>-325.484037</td>\n",
       "      <td>-325.484037</td>\n",
       "      <td>-325.484037</td>\n",
       "      <td>-325.484037</td>\n",
       "      <td>-325.484037</td>\n",
       "      <td>0.0</td>\n",
       "      <td>0.0</td>\n",
       "      <td>0.0</td>\n",
       "      <td>8704.764073</td>\n",
       "    </tr>\n",
       "  </tbody>\n",
       "</table>\n",
       "</div>"
      ],
      "text/plain": [
       "           ds        trend   yhat_lower    yhat_upper  trend_lower  \\\n",
       "0  2020-02-09 -1155.825903 -1865.612285    205.591689 -1155.825903   \n",
       "1  2020-02-10  -963.640137 -1675.140393    513.275542  -963.640137   \n",
       "2  2020-02-11  -771.454371 -1515.914193    624.393780  -771.454371   \n",
       "3  2020-02-12  -579.268606 -1965.411444    174.665388  -579.268606   \n",
       "4  2020-02-13  -387.082840 -1733.722919    454.221692  -387.082840   \n",
       "5  2020-02-14  -194.897074 -1636.584306    602.223501  -194.897074   \n",
       "6  2020-02-15    -2.711308 -1225.038738    897.090730    -2.711308   \n",
       "7  2020-02-16   189.474458  -504.573368   1539.508108   189.474458   \n",
       "8  2020-02-17   381.660224  -361.995754   1818.121628   381.660224   \n",
       "9  2020-02-18   573.845990  -103.159231   2100.669104   573.845990   \n",
       "10 2020-02-19   766.031755  -546.291609   1539.072996   766.031755   \n",
       "11 2020-02-20   958.220864  -453.953755   1763.764941   958.220864   \n",
       "12 2020-02-21  1150.409973  -165.600134   1904.381893  1150.409973   \n",
       "13 2020-02-22  1342.599082   154.345155   2349.968487  1342.599082   \n",
       "14 2020-02-23  1534.789243   884.261414   2945.518975  1534.789243   \n",
       "15 2020-02-24  1726.979403   965.208063   3246.543863  1726.979403   \n",
       "16 2020-02-25  1919.169564  1017.592179   3316.126285  1919.169564   \n",
       "17 2020-02-26  2111.360876   672.989475   2883.133343  2111.360876   \n",
       "18 2020-02-27  2303.552188   866.234467   3068.582699  2303.552188   \n",
       "19 2020-02-28  2495.743500  1099.199016   3346.906246  2495.743500   \n",
       "20 2020-02-29  2687.934812  1440.654028   3582.343346  2687.934812   \n",
       "21 2020-03-01  2880.126124  2159.176066   4360.546835  2880.126124   \n",
       "22 2020-03-02  3072.317436  2309.283767   4483.708114  3072.317436   \n",
       "23 2020-03-03  3264.508748  2571.525715   4863.412676  3264.508748   \n",
       "24 2020-03-04  3456.700060  1975.608203   4276.174804  3456.699888   \n",
       "25 2020-03-05  3648.891372  2295.590893   4386.339206  3648.890741   \n",
       "26 2020-03-06  3841.082684  2431.601003   4668.348673  3841.081362   \n",
       "27 2020-03-07  4033.273996  2789.495052   4964.261908  4033.271933   \n",
       "28 2020-03-08  4225.465308  3496.645176   5648.801662  4225.462565   \n",
       "29 2020-03-09  4417.656620  3632.289836   5855.795165  4417.653087   \n",
       "30 2020-03-10  4609.847932  3864.467982   5979.212366  4609.843275   \n",
       "31 2020-03-11  4802.039244  3379.100288   5638.964272  4802.033602   \n",
       "32 2020-03-12  4994.230557  3635.817704   5727.775128  4994.223703   \n",
       "33 2020-03-13  5186.421869  3766.440500   5963.335692  5186.413763   \n",
       "34 2020-03-14  5378.613181  4129.986541   6342.540793  5378.603838   \n",
       "35 2020-03-15  5570.804493  4770.399417   7046.158296  5570.794015   \n",
       "36 2020-03-16  5762.995805  5012.020909   7200.183320  5762.983784   \n",
       "37 2020-03-17  5955.187117  5237.637675   7329.303373  5955.173221   \n",
       "38 2020-03-18  6147.378429  4809.746499   6932.667391  6147.362568   \n",
       "39 2020-03-19  6339.569741  4835.361081   7097.681973  6339.551998   \n",
       "40 2020-03-20  6531.761053  5191.132592   7313.957148  6531.741074   \n",
       "41 2020-03-21  6723.952365  5460.085572   7661.555164  6723.931065   \n",
       "42 2020-03-22  6916.143677  6174.700306   8333.927873  6916.120635   \n",
       "43 2020-03-23  7108.334989  6432.832369   8528.673112  7108.310461   \n",
       "44 2020-03-24  7300.526301  6572.419239   8706.860405  7300.500246   \n",
       "45 2020-03-25  7492.717613  6139.201175   8262.981615  7492.689396   \n",
       "46 2020-03-26  7684.908925  6242.491065   8413.633797  7684.879140   \n",
       "47 2020-03-27  7877.100238  6535.553799   8746.214230  7877.068281   \n",
       "48 2020-03-28  8069.291550  6820.128285   9138.553729  8069.257864   \n",
       "49 2020-03-29  8261.482862  7567.354588   9680.337341  8261.447047   \n",
       "50 2020-03-30  8453.674174  7687.917063   9930.333810  8453.636588   \n",
       "51 2020-03-31  8645.865486  7864.011232  10136.642773  8645.826193   \n",
       "52 2020-04-01  8838.056798  7433.081151   9599.767454  8838.014937   \n",
       "53 2020-04-02  9030.248110  7561.486147   9757.097214  9030.204630   \n",
       "\n",
       "    trend_upper  additive_terms  additive_terms_lower  additive_terms_upper  \\\n",
       "0  -1155.825903      355.579119            355.579119            355.579119   \n",
       "1   -963.640137      371.364637            371.364637            371.364637   \n",
       "2   -771.454371      346.150900            346.150900            346.150900   \n",
       "3   -579.268606     -314.629615           -314.629615           -314.629615   \n",
       "4   -387.082840     -325.484037           -325.484037           -325.484037   \n",
       "5   -194.897074     -294.042904           -294.042904           -294.042904   \n",
       "6     -2.711308     -138.938101           -138.938101           -138.938101   \n",
       "7    189.474458      355.579119            355.579119            355.579119   \n",
       "8    381.660224      371.364637            371.364637            371.364637   \n",
       "9    573.845990      346.150900            346.150900            346.150900   \n",
       "10   766.031755     -314.629615           -314.629615           -314.629615   \n",
       "11   958.220864     -325.484037           -325.484037           -325.484037   \n",
       "12  1150.409973     -294.042904           -294.042904           -294.042904   \n",
       "13  1342.599082     -138.938101           -138.938101           -138.938101   \n",
       "14  1534.789243      355.579119            355.579119            355.579119   \n",
       "15  1726.979403      371.364637            371.364637            371.364637   \n",
       "16  1919.169564      346.150900            346.150900            346.150900   \n",
       "17  2111.360876     -314.629615           -314.629615           -314.629615   \n",
       "18  2303.552188     -325.484037           -325.484037           -325.484037   \n",
       "19  2495.743500     -294.042904           -294.042904           -294.042904   \n",
       "20  2687.934812     -138.938101           -138.938101           -138.938101   \n",
       "21  2880.126124      355.579119            355.579119            355.579119   \n",
       "22  3072.317436      371.364637            371.364637            371.364637   \n",
       "23  3264.508748      346.150900            346.150900            346.150900   \n",
       "24  3456.700240     -314.629615           -314.629615           -314.629615   \n",
       "25  3648.892148     -325.484037           -325.484037           -325.484037   \n",
       "26  3841.084134     -294.042904           -294.042904           -294.042904   \n",
       "27  4033.276200     -138.938101           -138.938101           -138.938101   \n",
       "28  4225.468441      355.579119            355.579119            355.579119   \n",
       "29  4417.660760      371.364637            371.364637            371.364637   \n",
       "30  4609.853101      346.150900            346.150900            346.150900   \n",
       "31  4802.045842     -314.629615           -314.629615           -314.629615   \n",
       "32  4994.238324     -325.484037           -325.484037           -325.484037   \n",
       "33  5186.430804     -294.042904           -294.042904           -294.042904   \n",
       "34  5378.623350     -138.938101           -138.938101           -138.938101   \n",
       "35  5570.815867      355.579119            355.579119            355.579119   \n",
       "36  5763.008701      371.364637            371.364637            371.364637   \n",
       "37  5955.201114      346.150900            346.150900            346.150900   \n",
       "38  6147.394459     -314.629615           -314.629615           -314.629615   \n",
       "39  6339.587231     -325.484037           -325.484037           -325.484037   \n",
       "40  6531.780495     -294.042904           -294.042904           -294.042904   \n",
       "41  6723.973507     -138.938101           -138.938101           -138.938101   \n",
       "42  6916.166906      355.579119            355.579119            355.579119   \n",
       "43  7108.360385      371.364637            371.364637            371.364637   \n",
       "44  7300.553855      346.150900            346.150900            346.150900   \n",
       "45  7492.747225     -314.629615           -314.629615           -314.629615   \n",
       "46  7684.940826     -325.484037           -325.484037           -325.484037   \n",
       "47  7877.134490     -294.042904           -294.042904           -294.042904   \n",
       "48  8069.328525     -138.938101           -138.938101           -138.938101   \n",
       "49  8261.522729      355.579119            355.579119            355.579119   \n",
       "50  8453.716654      371.364637            371.364637            371.364637   \n",
       "51  8645.910273      346.150900            346.150900            346.150900   \n",
       "52  8838.104608     -314.629615           -314.629615           -314.629615   \n",
       "53  9030.298504     -325.484037           -325.484037           -325.484037   \n",
       "\n",
       "        weekly  weekly_lower  weekly_upper  multiplicative_terms  \\\n",
       "0   355.579119    355.579119    355.579119                   0.0   \n",
       "1   371.364637    371.364637    371.364637                   0.0   \n",
       "2   346.150900    346.150900    346.150900                   0.0   \n",
       "3  -314.629615   -314.629615   -314.629615                   0.0   \n",
       "4  -325.484037   -325.484037   -325.484037                   0.0   \n",
       "5  -294.042904   -294.042904   -294.042904                   0.0   \n",
       "6  -138.938101   -138.938101   -138.938101                   0.0   \n",
       "7   355.579119    355.579119    355.579119                   0.0   \n",
       "8   371.364637    371.364637    371.364637                   0.0   \n",
       "9   346.150900    346.150900    346.150900                   0.0   \n",
       "10 -314.629615   -314.629615   -314.629615                   0.0   \n",
       "11 -325.484037   -325.484037   -325.484037                   0.0   \n",
       "12 -294.042904   -294.042904   -294.042904                   0.0   \n",
       "13 -138.938101   -138.938101   -138.938101                   0.0   \n",
       "14  355.579119    355.579119    355.579119                   0.0   \n",
       "15  371.364637    371.364637    371.364637                   0.0   \n",
       "16  346.150900    346.150900    346.150900                   0.0   \n",
       "17 -314.629615   -314.629615   -314.629615                   0.0   \n",
       "18 -325.484037   -325.484037   -325.484037                   0.0   \n",
       "19 -294.042904   -294.042904   -294.042904                   0.0   \n",
       "20 -138.938101   -138.938101   -138.938101                   0.0   \n",
       "21  355.579119    355.579119    355.579119                   0.0   \n",
       "22  371.364637    371.364637    371.364637                   0.0   \n",
       "23  346.150900    346.150900    346.150900                   0.0   \n",
       "24 -314.629615   -314.629615   -314.629615                   0.0   \n",
       "25 -325.484037   -325.484037   -325.484037                   0.0   \n",
       "26 -294.042904   -294.042904   -294.042904                   0.0   \n",
       "27 -138.938101   -138.938101   -138.938101                   0.0   \n",
       "28  355.579119    355.579119    355.579119                   0.0   \n",
       "29  371.364637    371.364637    371.364637                   0.0   \n",
       "30  346.150900    346.150900    346.150900                   0.0   \n",
       "31 -314.629615   -314.629615   -314.629615                   0.0   \n",
       "32 -325.484037   -325.484037   -325.484037                   0.0   \n",
       "33 -294.042904   -294.042904   -294.042904                   0.0   \n",
       "34 -138.938101   -138.938101   -138.938101                   0.0   \n",
       "35  355.579119    355.579119    355.579119                   0.0   \n",
       "36  371.364637    371.364637    371.364637                   0.0   \n",
       "37  346.150900    346.150900    346.150900                   0.0   \n",
       "38 -314.629615   -314.629615   -314.629615                   0.0   \n",
       "39 -325.484037   -325.484037   -325.484037                   0.0   \n",
       "40 -294.042904   -294.042904   -294.042904                   0.0   \n",
       "41 -138.938101   -138.938101   -138.938101                   0.0   \n",
       "42  355.579119    355.579119    355.579119                   0.0   \n",
       "43  371.364637    371.364637    371.364637                   0.0   \n",
       "44  346.150900    346.150900    346.150900                   0.0   \n",
       "45 -314.629615   -314.629615   -314.629615                   0.0   \n",
       "46 -325.484037   -325.484037   -325.484037                   0.0   \n",
       "47 -294.042904   -294.042904   -294.042904                   0.0   \n",
       "48 -138.938101   -138.938101   -138.938101                   0.0   \n",
       "49  355.579119    355.579119    355.579119                   0.0   \n",
       "50  371.364637    371.364637    371.364637                   0.0   \n",
       "51  346.150900    346.150900    346.150900                   0.0   \n",
       "52 -314.629615   -314.629615   -314.629615                   0.0   \n",
       "53 -325.484037   -325.484037   -325.484037                   0.0   \n",
       "\n",
       "    multiplicative_terms_lower  multiplicative_terms_upper         yhat  \n",
       "0                          0.0                         0.0  -800.246784  \n",
       "1                          0.0                         0.0  -592.275501  \n",
       "2                          0.0                         0.0  -425.303471  \n",
       "3                          0.0                         0.0  -893.898220  \n",
       "4                          0.0                         0.0  -712.566877  \n",
       "5                          0.0                         0.0  -488.939978  \n",
       "6                          0.0                         0.0  -141.649409  \n",
       "7                          0.0                         0.0   545.053577  \n",
       "8                          0.0                         0.0   753.024860  \n",
       "9                          0.0                         0.0   919.996890  \n",
       "10                         0.0                         0.0   451.402141  \n",
       "11                         0.0                         0.0   632.736827  \n",
       "12                         0.0                         0.0   856.367070  \n",
       "13                         0.0                         0.0  1203.660982  \n",
       "14                         0.0                         0.0  1890.368362  \n",
       "15                         0.0                         0.0  2098.344040  \n",
       "16                         0.0                         0.0  2265.320464  \n",
       "17                         0.0                         0.0  1796.731261  \n",
       "18                         0.0                         0.0  1978.068151  \n",
       "19                         0.0                         0.0  2201.700596  \n",
       "20                         0.0                         0.0  2548.996711  \n",
       "21                         0.0                         0.0  3235.705243  \n",
       "22                         0.0                         0.0  3443.682072  \n",
       "23                         0.0                         0.0  3610.659648  \n",
       "24                         0.0                         0.0  3142.070445  \n",
       "25                         0.0                         0.0  3323.407335  \n",
       "26                         0.0                         0.0  3547.039780  \n",
       "27                         0.0                         0.0  3894.335896  \n",
       "28                         0.0                         0.0  4581.044427  \n",
       "29                         0.0                         0.0  4789.021257  \n",
       "30                         0.0                         0.0  4955.998833  \n",
       "31                         0.0                         0.0  4487.409630  \n",
       "32                         0.0                         0.0  4668.746520  \n",
       "33                         0.0                         0.0  4892.378965  \n",
       "34                         0.0                         0.0  5239.675080  \n",
       "35                         0.0                         0.0  5926.383612  \n",
       "36                         0.0                         0.0  6134.360441  \n",
       "37                         0.0                         0.0  6301.338017  \n",
       "38                         0.0                         0.0  5832.748814  \n",
       "39                         0.0                         0.0  6014.085704  \n",
       "40                         0.0                         0.0  6237.718149  \n",
       "41                         0.0                         0.0  6585.014265  \n",
       "42                         0.0                         0.0  7271.722796  \n",
       "43                         0.0                         0.0  7479.699626  \n",
       "44                         0.0                         0.0  7646.677202  \n",
       "45                         0.0                         0.0  7178.087999  \n",
       "46                         0.0                         0.0  7359.424888  \n",
       "47                         0.0                         0.0  7583.057334  \n",
       "48                         0.0                         0.0  7930.353449  \n",
       "49                         0.0                         0.0  8617.061981  \n",
       "50                         0.0                         0.0  8825.038810  \n",
       "51                         0.0                         0.0  8992.016386  \n",
       "52                         0.0                         0.0  8523.427183  \n",
       "53                         0.0                         0.0  8704.764073  "
      ]
     },
     "execution_count": 23,
     "metadata": {},
     "output_type": "execute_result"
    }
   ],
   "source": [
    "m=Prophet()\n",
    "m.fit(pr_data)\n",
    "future=m.make_future_dataframe(periods=30)\n",
    "forecast=m.predict(future)\n",
    "forecast"
   ]
  },
  {
   "cell_type": "code",
   "execution_count": 24,
   "metadata": {},
   "outputs": [
    {
     "data": {
      "text/html": [
       "<div>\n",
       "<style scoped>\n",
       "    .dataframe tbody tr th:only-of-type {\n",
       "        vertical-align: middle;\n",
       "    }\n",
       "\n",
       "    .dataframe tbody tr th {\n",
       "        vertical-align: top;\n",
       "    }\n",
       "\n",
       "    .dataframe thead th {\n",
       "        text-align: right;\n",
       "    }\n",
       "</style>\n",
       "<table border=\"1\" class=\"dataframe\">\n",
       "  <thead>\n",
       "    <tr style=\"text-align: right;\">\n",
       "      <th></th>\n",
       "      <th>Date</th>\n",
       "      <th>Confirm</th>\n",
       "    </tr>\n",
       "  </thead>\n",
       "  <tbody>\n",
       "    <tr>\n",
       "      <th>39</th>\n",
       "      <td>2020-03-19</td>\n",
       "      <td>6339.569741</td>\n",
       "    </tr>\n",
       "    <tr>\n",
       "      <th>40</th>\n",
       "      <td>2020-03-20</td>\n",
       "      <td>6531.761053</td>\n",
       "    </tr>\n",
       "    <tr>\n",
       "      <th>41</th>\n",
       "      <td>2020-03-21</td>\n",
       "      <td>6723.952365</td>\n",
       "    </tr>\n",
       "    <tr>\n",
       "      <th>42</th>\n",
       "      <td>2020-03-22</td>\n",
       "      <td>6916.143677</td>\n",
       "    </tr>\n",
       "    <tr>\n",
       "      <th>43</th>\n",
       "      <td>2020-03-23</td>\n",
       "      <td>7108.334989</td>\n",
       "    </tr>\n",
       "  </tbody>\n",
       "</table>\n",
       "</div>"
      ],
      "text/plain": [
       "         Date      Confirm\n",
       "39 2020-03-19  6339.569741\n",
       "40 2020-03-20  6531.761053\n",
       "41 2020-03-21  6723.952365\n",
       "42 2020-03-22  6916.143677\n",
       "43 2020-03-23  7108.334989"
      ]
     },
     "execution_count": 24,
     "metadata": {},
     "output_type": "execute_result"
    }
   ],
   "source": [
    "cnfrm = forecast.loc[:,['ds','trend']]\n",
    "cnfrm = cnfrm[cnfrm['trend']>0]\n",
    "cnfrm=cnfrm.tail(15)\n",
    "cnfrm.columns = ['Date','Confirm']\n",
    "cnfrm.head()"
   ]
  },
  {
   "cell_type": "markdown",
   "metadata": {},
   "source": [
    "**Graphical Representation of Prediction**"
   ]
  },
  {
   "cell_type": "code",
   "execution_count": 25,
   "metadata": {},
   "outputs": [
    {
     "data": {
      "application/vnd.plotly.v1+json": {
       "config": {
        "linkText": "Export to plot.ly",
        "plotlyServerURL": "https://plot.ly",
        "showLink": false
       },
       "data": [
        {
         "marker": {
          "color": "black",
          "size": 4
         },
         "mode": "markers",
         "name": "Actual",
         "type": "scatter",
         "x": [
          "2020-02-09T00:00:00",
          "2020-02-10T00:00:00",
          "2020-02-11T00:00:00",
          "2020-02-12T00:00:00",
          "2020-02-13T00:00:00",
          "2020-02-14T00:00:00",
          "2020-02-15T00:00:00",
          "2020-02-16T00:00:00",
          "2020-02-17T00:00:00",
          "2020-02-18T00:00:00",
          "2020-02-19T00:00:00",
          "2020-02-20T00:00:00",
          "2020-02-21T00:00:00",
          "2020-02-22T00:00:00",
          "2020-02-23T00:00:00",
          "2020-02-24T00:00:00",
          "2020-02-25T00:00:00",
          "2020-02-26T00:00:00",
          "2020-02-27T00:00:00",
          "2020-02-28T00:00:00",
          "2020-02-29T00:00:00",
          "2020-03-01T00:00:00",
          "2020-03-02T00:00:00",
          "2020-03-03T00:00:00"
         ],
         "y": [
          27,
          28,
          28,
          28,
          28,
          28,
          28,
          30,
          30,
          39,
          65,
          104,
          204,
          433,
          602,
          833,
          976,
          1261,
          1766,
          2337,
          3150,
          4212,
          4812,
          5328
         ]
        },
        {
         "hoverinfo": "skip",
         "line": {
          "width": 0
         },
         "mode": "lines",
         "type": "scatter",
         "x": [
          "2020-02-09T00:00:00",
          "2020-02-10T00:00:00",
          "2020-02-11T00:00:00",
          "2020-02-12T00:00:00",
          "2020-02-13T00:00:00",
          "2020-02-14T00:00:00",
          "2020-02-15T00:00:00",
          "2020-02-16T00:00:00",
          "2020-02-17T00:00:00",
          "2020-02-18T00:00:00",
          "2020-02-19T00:00:00",
          "2020-02-20T00:00:00",
          "2020-02-21T00:00:00",
          "2020-02-22T00:00:00",
          "2020-02-23T00:00:00",
          "2020-02-24T00:00:00",
          "2020-02-25T00:00:00",
          "2020-02-26T00:00:00",
          "2020-02-27T00:00:00",
          "2020-02-28T00:00:00",
          "2020-02-29T00:00:00",
          "2020-03-01T00:00:00",
          "2020-03-02T00:00:00",
          "2020-03-03T00:00:00",
          "2020-03-04T00:00:00",
          "2020-03-05T00:00:00",
          "2020-03-06T00:00:00",
          "2020-03-07T00:00:00",
          "2020-03-08T00:00:00",
          "2020-03-09T00:00:00",
          "2020-03-10T00:00:00",
          "2020-03-11T00:00:00",
          "2020-03-12T00:00:00",
          "2020-03-13T00:00:00",
          "2020-03-14T00:00:00",
          "2020-03-15T00:00:00",
          "2020-03-16T00:00:00",
          "2020-03-17T00:00:00",
          "2020-03-18T00:00:00",
          "2020-03-19T00:00:00",
          "2020-03-20T00:00:00",
          "2020-03-21T00:00:00",
          "2020-03-22T00:00:00",
          "2020-03-23T00:00:00",
          "2020-03-24T00:00:00",
          "2020-03-25T00:00:00",
          "2020-03-26T00:00:00",
          "2020-03-27T00:00:00",
          "2020-03-28T00:00:00",
          "2020-03-29T00:00:00",
          "2020-03-30T00:00:00",
          "2020-03-31T00:00:00",
          "2020-04-01T00:00:00",
          "2020-04-02T00:00:00"
         ],
         "y": [
          -1865.612284652169,
          -1675.1403930870142,
          -1515.9141929720633,
          -1965.4114444041656,
          -1733.722919253526,
          -1636.5843062519832,
          -1225.0387379939145,
          -504.5733677901191,
          -361.9957542310634,
          -103.15923117773117,
          -546.2916092051263,
          -453.9537549482511,
          -165.60013376008405,
          154.34515467702423,
          884.2614139367769,
          965.2080631440551,
          1017.5921793593996,
          672.9894752618219,
          866.2344667335211,
          1099.199015915148,
          1440.6540283823654,
          2159.1760656487627,
          2309.2837667586714,
          2571.525714589893,
          1975.6082028724122,
          2295.5908932882526,
          2431.6010027687303,
          2789.495052234021,
          3496.6451760433665,
          3632.2898359917212,
          3864.4679817501055,
          3379.100287560776,
          3635.817704310738,
          3766.440500448887,
          4129.986541193222,
          4770.399417100095,
          5012.020909420513,
          5237.637674637991,
          4809.74649861707,
          4835.3610811201115,
          5191.132592019452,
          5460.085571560347,
          6174.700305773427,
          6432.83236854457,
          6572.419238661354,
          6139.201175405903,
          6242.491065232225,
          6535.553798748337,
          6820.128284918759,
          7567.354587780121,
          7687.917062724596,
          7864.011232160134,
          7433.081150906815,
          7561.486147455251
         ]
        },
        {
         "fill": "tonexty",
         "fillcolor": "rgba(0, 114, 178, 0.2)",
         "line": {
          "color": "#0072B2",
          "width": 2
         },
         "mode": "lines",
         "name": "Predicted",
         "type": "scatter",
         "x": [
          "2020-02-09T00:00:00",
          "2020-02-10T00:00:00",
          "2020-02-11T00:00:00",
          "2020-02-12T00:00:00",
          "2020-02-13T00:00:00",
          "2020-02-14T00:00:00",
          "2020-02-15T00:00:00",
          "2020-02-16T00:00:00",
          "2020-02-17T00:00:00",
          "2020-02-18T00:00:00",
          "2020-02-19T00:00:00",
          "2020-02-20T00:00:00",
          "2020-02-21T00:00:00",
          "2020-02-22T00:00:00",
          "2020-02-23T00:00:00",
          "2020-02-24T00:00:00",
          "2020-02-25T00:00:00",
          "2020-02-26T00:00:00",
          "2020-02-27T00:00:00",
          "2020-02-28T00:00:00",
          "2020-02-29T00:00:00",
          "2020-03-01T00:00:00",
          "2020-03-02T00:00:00",
          "2020-03-03T00:00:00",
          "2020-03-04T00:00:00",
          "2020-03-05T00:00:00",
          "2020-03-06T00:00:00",
          "2020-03-07T00:00:00",
          "2020-03-08T00:00:00",
          "2020-03-09T00:00:00",
          "2020-03-10T00:00:00",
          "2020-03-11T00:00:00",
          "2020-03-12T00:00:00",
          "2020-03-13T00:00:00",
          "2020-03-14T00:00:00",
          "2020-03-15T00:00:00",
          "2020-03-16T00:00:00",
          "2020-03-17T00:00:00",
          "2020-03-18T00:00:00",
          "2020-03-19T00:00:00",
          "2020-03-20T00:00:00",
          "2020-03-21T00:00:00",
          "2020-03-22T00:00:00",
          "2020-03-23T00:00:00",
          "2020-03-24T00:00:00",
          "2020-03-25T00:00:00",
          "2020-03-26T00:00:00",
          "2020-03-27T00:00:00",
          "2020-03-28T00:00:00",
          "2020-03-29T00:00:00",
          "2020-03-30T00:00:00",
          "2020-03-31T00:00:00",
          "2020-04-01T00:00:00",
          "2020-04-02T00:00:00"
         ],
         "y": [
          -800.2467840555001,
          -592.2755006307411,
          -425.30347108749123,
          -893.8982203147953,
          -712.5668766546842,
          -488.9399775394252,
          -141.6494085648964,
          545.0535769796315,
          753.0248603536113,
          919.9968898464576,
          451.4021406025717,
          632.7368273646058,
          856.3670696272688,
          1203.6609818108716,
          1890.368361788339,
          2098.344039743224,
          2265.320463862014,
          1796.731260813855,
          1978.0681506178232,
          2201.7005959465473,
          2548.9967111326937,
          3235.7052428873976,
          3443.682072493138,
          3610.6596482276655,
          3142.0704452295086,
          3323.4073350799526,
          3547.039780409056,
          3894.335895595006,
          4581.044427350317,
          4789.0212569561745,
          4955.9988326903685,
          4487.40962969245,
          4668.7465195436325,
          4892.3789648733045,
          5239.6750800589025,
          5926.383611813795,
          6134.3604414192005,
          6301.338017153246,
          5832.748814155393,
          6014.0857040073115,
          6237.71814933524,
          6585.014264522007,
          7271.722796277272,
          7479.699625882441,
          7646.677201615775,
          7178.08799861921,
          7359.424888469442,
          7583.057333798621,
          7930.353448985112,
          8617.061980740751,
          8825.038810345253,
          8992.016386080493,
          8523.42718308215,
          8704.764072933121
         ]
        },
        {
         "fill": "tonexty",
         "fillcolor": "rgba(0, 114, 178, 0.2)",
         "hoverinfo": "skip",
         "line": {
          "width": 0
         },
         "mode": "lines",
         "type": "scatter",
         "x": [
          "2020-02-09T00:00:00",
          "2020-02-10T00:00:00",
          "2020-02-11T00:00:00",
          "2020-02-12T00:00:00",
          "2020-02-13T00:00:00",
          "2020-02-14T00:00:00",
          "2020-02-15T00:00:00",
          "2020-02-16T00:00:00",
          "2020-02-17T00:00:00",
          "2020-02-18T00:00:00",
          "2020-02-19T00:00:00",
          "2020-02-20T00:00:00",
          "2020-02-21T00:00:00",
          "2020-02-22T00:00:00",
          "2020-02-23T00:00:00",
          "2020-02-24T00:00:00",
          "2020-02-25T00:00:00",
          "2020-02-26T00:00:00",
          "2020-02-27T00:00:00",
          "2020-02-28T00:00:00",
          "2020-02-29T00:00:00",
          "2020-03-01T00:00:00",
          "2020-03-02T00:00:00",
          "2020-03-03T00:00:00",
          "2020-03-04T00:00:00",
          "2020-03-05T00:00:00",
          "2020-03-06T00:00:00",
          "2020-03-07T00:00:00",
          "2020-03-08T00:00:00",
          "2020-03-09T00:00:00",
          "2020-03-10T00:00:00",
          "2020-03-11T00:00:00",
          "2020-03-12T00:00:00",
          "2020-03-13T00:00:00",
          "2020-03-14T00:00:00",
          "2020-03-15T00:00:00",
          "2020-03-16T00:00:00",
          "2020-03-17T00:00:00",
          "2020-03-18T00:00:00",
          "2020-03-19T00:00:00",
          "2020-03-20T00:00:00",
          "2020-03-21T00:00:00",
          "2020-03-22T00:00:00",
          "2020-03-23T00:00:00",
          "2020-03-24T00:00:00",
          "2020-03-25T00:00:00",
          "2020-03-26T00:00:00",
          "2020-03-27T00:00:00",
          "2020-03-28T00:00:00",
          "2020-03-29T00:00:00",
          "2020-03-30T00:00:00",
          "2020-03-31T00:00:00",
          "2020-04-01T00:00:00",
          "2020-04-02T00:00:00"
         ],
         "y": [
          205.5916886391708,
          513.275542449407,
          624.3937804472016,
          174.66538789192293,
          454.2216916927939,
          602.2235012581314,
          897.0907304710415,
          1539.5081078691492,
          1818.121627871787,
          2100.669103611259,
          1539.0729956212144,
          1763.7649413025324,
          1904.3818933553032,
          2349.9684870660517,
          2945.51897542233,
          3246.5438634786165,
          3316.1262851715437,
          2883.1333431421326,
          3068.582699184422,
          3346.9062462059646,
          3582.343346403572,
          4360.546835446335,
          4483.7081137355535,
          4863.412676085239,
          4276.174804279564,
          4386.339206430265,
          4668.348673295199,
          4964.261908476274,
          5648.801661996582,
          5855.79516501449,
          5979.212366453296,
          5638.964271570963,
          5727.77512812958,
          5963.335691637355,
          6342.540792588904,
          7046.158296305814,
          7200.183319528151,
          7329.303373394553,
          6932.667391388774,
          7097.681972615178,
          7313.957148305174,
          7661.555163940466,
          8333.927873190458,
          8528.673111505228,
          8706.860404936064,
          8262.9816145277,
          8413.633797035385,
          8746.214230151314,
          9138.5537289836,
          9680.33734075527,
          9930.333809511689,
          10136.642772603418,
          9599.767453677023,
          9757.097213595756
         ]
        }
       ],
       "layout": {
        "height": 600,
        "showlegend": false,
        "template": {
         "data": {
          "bar": [
           {
            "error_x": {
             "color": "#2a3f5f"
            },
            "error_y": {
             "color": "#2a3f5f"
            },
            "marker": {
             "line": {
              "color": "#E5ECF6",
              "width": 0.5
             }
            },
            "type": "bar"
           }
          ],
          "barpolar": [
           {
            "marker": {
             "line": {
              "color": "#E5ECF6",
              "width": 0.5
             }
            },
            "type": "barpolar"
           }
          ],
          "carpet": [
           {
            "aaxis": {
             "endlinecolor": "#2a3f5f",
             "gridcolor": "white",
             "linecolor": "white",
             "minorgridcolor": "white",
             "startlinecolor": "#2a3f5f"
            },
            "baxis": {
             "endlinecolor": "#2a3f5f",
             "gridcolor": "white",
             "linecolor": "white",
             "minorgridcolor": "white",
             "startlinecolor": "#2a3f5f"
            },
            "type": "carpet"
           }
          ],
          "choropleth": [
           {
            "colorbar": {
             "outlinewidth": 0,
             "ticks": ""
            },
            "type": "choropleth"
           }
          ],
          "contour": [
           {
            "colorbar": {
             "outlinewidth": 0,
             "ticks": ""
            },
            "colorscale": [
             [
              0,
              "#0d0887"
             ],
             [
              0.1111111111111111,
              "#46039f"
             ],
             [
              0.2222222222222222,
              "#7201a8"
             ],
             [
              0.3333333333333333,
              "#9c179e"
             ],
             [
              0.4444444444444444,
              "#bd3786"
             ],
             [
              0.5555555555555556,
              "#d8576b"
             ],
             [
              0.6666666666666666,
              "#ed7953"
             ],
             [
              0.7777777777777778,
              "#fb9f3a"
             ],
             [
              0.8888888888888888,
              "#fdca26"
             ],
             [
              1,
              "#f0f921"
             ]
            ],
            "type": "contour"
           }
          ],
          "contourcarpet": [
           {
            "colorbar": {
             "outlinewidth": 0,
             "ticks": ""
            },
            "type": "contourcarpet"
           }
          ],
          "heatmap": [
           {
            "colorbar": {
             "outlinewidth": 0,
             "ticks": ""
            },
            "colorscale": [
             [
              0,
              "#0d0887"
             ],
             [
              0.1111111111111111,
              "#46039f"
             ],
             [
              0.2222222222222222,
              "#7201a8"
             ],
             [
              0.3333333333333333,
              "#9c179e"
             ],
             [
              0.4444444444444444,
              "#bd3786"
             ],
             [
              0.5555555555555556,
              "#d8576b"
             ],
             [
              0.6666666666666666,
              "#ed7953"
             ],
             [
              0.7777777777777778,
              "#fb9f3a"
             ],
             [
              0.8888888888888888,
              "#fdca26"
             ],
             [
              1,
              "#f0f921"
             ]
            ],
            "type": "heatmap"
           }
          ],
          "heatmapgl": [
           {
            "colorbar": {
             "outlinewidth": 0,
             "ticks": ""
            },
            "colorscale": [
             [
              0,
              "#0d0887"
             ],
             [
              0.1111111111111111,
              "#46039f"
             ],
             [
              0.2222222222222222,
              "#7201a8"
             ],
             [
              0.3333333333333333,
              "#9c179e"
             ],
             [
              0.4444444444444444,
              "#bd3786"
             ],
             [
              0.5555555555555556,
              "#d8576b"
             ],
             [
              0.6666666666666666,
              "#ed7953"
             ],
             [
              0.7777777777777778,
              "#fb9f3a"
             ],
             [
              0.8888888888888888,
              "#fdca26"
             ],
             [
              1,
              "#f0f921"
             ]
            ],
            "type": "heatmapgl"
           }
          ],
          "histogram": [
           {
            "marker": {
             "colorbar": {
              "outlinewidth": 0,
              "ticks": ""
             }
            },
            "type": "histogram"
           }
          ],
          "histogram2d": [
           {
            "colorbar": {
             "outlinewidth": 0,
             "ticks": ""
            },
            "colorscale": [
             [
              0,
              "#0d0887"
             ],
             [
              0.1111111111111111,
              "#46039f"
             ],
             [
              0.2222222222222222,
              "#7201a8"
             ],
             [
              0.3333333333333333,
              "#9c179e"
             ],
             [
              0.4444444444444444,
              "#bd3786"
             ],
             [
              0.5555555555555556,
              "#d8576b"
             ],
             [
              0.6666666666666666,
              "#ed7953"
             ],
             [
              0.7777777777777778,
              "#fb9f3a"
             ],
             [
              0.8888888888888888,
              "#fdca26"
             ],
             [
              1,
              "#f0f921"
             ]
            ],
            "type": "histogram2d"
           }
          ],
          "histogram2dcontour": [
           {
            "colorbar": {
             "outlinewidth": 0,
             "ticks": ""
            },
            "colorscale": [
             [
              0,
              "#0d0887"
             ],
             [
              0.1111111111111111,
              "#46039f"
             ],
             [
              0.2222222222222222,
              "#7201a8"
             ],
             [
              0.3333333333333333,
              "#9c179e"
             ],
             [
              0.4444444444444444,
              "#bd3786"
             ],
             [
              0.5555555555555556,
              "#d8576b"
             ],
             [
              0.6666666666666666,
              "#ed7953"
             ],
             [
              0.7777777777777778,
              "#fb9f3a"
             ],
             [
              0.8888888888888888,
              "#fdca26"
             ],
             [
              1,
              "#f0f921"
             ]
            ],
            "type": "histogram2dcontour"
           }
          ],
          "mesh3d": [
           {
            "colorbar": {
             "outlinewidth": 0,
             "ticks": ""
            },
            "type": "mesh3d"
           }
          ],
          "parcoords": [
           {
            "line": {
             "colorbar": {
              "outlinewidth": 0,
              "ticks": ""
             }
            },
            "type": "parcoords"
           }
          ],
          "pie": [
           {
            "automargin": true,
            "type": "pie"
           }
          ],
          "scatter": [
           {
            "marker": {
             "colorbar": {
              "outlinewidth": 0,
              "ticks": ""
             }
            },
            "type": "scatter"
           }
          ],
          "scatter3d": [
           {
            "line": {
             "colorbar": {
              "outlinewidth": 0,
              "ticks": ""
             }
            },
            "marker": {
             "colorbar": {
              "outlinewidth": 0,
              "ticks": ""
             }
            },
            "type": "scatter3d"
           }
          ],
          "scattercarpet": [
           {
            "marker": {
             "colorbar": {
              "outlinewidth": 0,
              "ticks": ""
             }
            },
            "type": "scattercarpet"
           }
          ],
          "scattergeo": [
           {
            "marker": {
             "colorbar": {
              "outlinewidth": 0,
              "ticks": ""
             }
            },
            "type": "scattergeo"
           }
          ],
          "scattergl": [
           {
            "marker": {
             "colorbar": {
              "outlinewidth": 0,
              "ticks": ""
             }
            },
            "type": "scattergl"
           }
          ],
          "scattermapbox": [
           {
            "marker": {
             "colorbar": {
              "outlinewidth": 0,
              "ticks": ""
             }
            },
            "type": "scattermapbox"
           }
          ],
          "scatterpolar": [
           {
            "marker": {
             "colorbar": {
              "outlinewidth": 0,
              "ticks": ""
             }
            },
            "type": "scatterpolar"
           }
          ],
          "scatterpolargl": [
           {
            "marker": {
             "colorbar": {
              "outlinewidth": 0,
              "ticks": ""
             }
            },
            "type": "scatterpolargl"
           }
          ],
          "scatterternary": [
           {
            "marker": {
             "colorbar": {
              "outlinewidth": 0,
              "ticks": ""
             }
            },
            "type": "scatterternary"
           }
          ],
          "surface": [
           {
            "colorbar": {
             "outlinewidth": 0,
             "ticks": ""
            },
            "colorscale": [
             [
              0,
              "#0d0887"
             ],
             [
              0.1111111111111111,
              "#46039f"
             ],
             [
              0.2222222222222222,
              "#7201a8"
             ],
             [
              0.3333333333333333,
              "#9c179e"
             ],
             [
              0.4444444444444444,
              "#bd3786"
             ],
             [
              0.5555555555555556,
              "#d8576b"
             ],
             [
              0.6666666666666666,
              "#ed7953"
             ],
             [
              0.7777777777777778,
              "#fb9f3a"
             ],
             [
              0.8888888888888888,
              "#fdca26"
             ],
             [
              1,
              "#f0f921"
             ]
            ],
            "type": "surface"
           }
          ],
          "table": [
           {
            "cells": {
             "fill": {
              "color": "#EBF0F8"
             },
             "line": {
              "color": "white"
             }
            },
            "header": {
             "fill": {
              "color": "#C8D4E3"
             },
             "line": {
              "color": "white"
             }
            },
            "type": "table"
           }
          ]
         },
         "layout": {
          "annotationdefaults": {
           "arrowcolor": "#2a3f5f",
           "arrowhead": 0,
           "arrowwidth": 1
          },
          "coloraxis": {
           "colorbar": {
            "outlinewidth": 0,
            "ticks": ""
           }
          },
          "colorscale": {
           "diverging": [
            [
             0,
             "#8e0152"
            ],
            [
             0.1,
             "#c51b7d"
            ],
            [
             0.2,
             "#de77ae"
            ],
            [
             0.3,
             "#f1b6da"
            ],
            [
             0.4,
             "#fde0ef"
            ],
            [
             0.5,
             "#f7f7f7"
            ],
            [
             0.6,
             "#e6f5d0"
            ],
            [
             0.7,
             "#b8e186"
            ],
            [
             0.8,
             "#7fbc41"
            ],
            [
             0.9,
             "#4d9221"
            ],
            [
             1,
             "#276419"
            ]
           ],
           "sequential": [
            [
             0,
             "#0d0887"
            ],
            [
             0.1111111111111111,
             "#46039f"
            ],
            [
             0.2222222222222222,
             "#7201a8"
            ],
            [
             0.3333333333333333,
             "#9c179e"
            ],
            [
             0.4444444444444444,
             "#bd3786"
            ],
            [
             0.5555555555555556,
             "#d8576b"
            ],
            [
             0.6666666666666666,
             "#ed7953"
            ],
            [
             0.7777777777777778,
             "#fb9f3a"
            ],
            [
             0.8888888888888888,
             "#fdca26"
            ],
            [
             1,
             "#f0f921"
            ]
           ],
           "sequentialminus": [
            [
             0,
             "#0d0887"
            ],
            [
             0.1111111111111111,
             "#46039f"
            ],
            [
             0.2222222222222222,
             "#7201a8"
            ],
            [
             0.3333333333333333,
             "#9c179e"
            ],
            [
             0.4444444444444444,
             "#bd3786"
            ],
            [
             0.5555555555555556,
             "#d8576b"
            ],
            [
             0.6666666666666666,
             "#ed7953"
            ],
            [
             0.7777777777777778,
             "#fb9f3a"
            ],
            [
             0.8888888888888888,
             "#fdca26"
            ],
            [
             1,
             "#f0f921"
            ]
           ]
          },
          "colorway": [
           "#636efa",
           "#EF553B",
           "#00cc96",
           "#ab63fa",
           "#FFA15A",
           "#19d3f3",
           "#FF6692",
           "#B6E880",
           "#FF97FF",
           "#FECB52"
          ],
          "font": {
           "color": "#2a3f5f"
          },
          "geo": {
           "bgcolor": "white",
           "lakecolor": "white",
           "landcolor": "#E5ECF6",
           "showlakes": true,
           "showland": true,
           "subunitcolor": "white"
          },
          "hoverlabel": {
           "align": "left"
          },
          "hovermode": "closest",
          "mapbox": {
           "style": "light"
          },
          "paper_bgcolor": "white",
          "plot_bgcolor": "#E5ECF6",
          "polar": {
           "angularaxis": {
            "gridcolor": "white",
            "linecolor": "white",
            "ticks": ""
           },
           "bgcolor": "#E5ECF6",
           "radialaxis": {
            "gridcolor": "white",
            "linecolor": "white",
            "ticks": ""
           }
          },
          "scene": {
           "xaxis": {
            "backgroundcolor": "#E5ECF6",
            "gridcolor": "white",
            "gridwidth": 2,
            "linecolor": "white",
            "showbackground": true,
            "ticks": "",
            "zerolinecolor": "white"
           },
           "yaxis": {
            "backgroundcolor": "#E5ECF6",
            "gridcolor": "white",
            "gridwidth": 2,
            "linecolor": "white",
            "showbackground": true,
            "ticks": "",
            "zerolinecolor": "white"
           },
           "zaxis": {
            "backgroundcolor": "#E5ECF6",
            "gridcolor": "white",
            "gridwidth": 2,
            "linecolor": "white",
            "showbackground": true,
            "ticks": "",
            "zerolinecolor": "white"
           }
          },
          "shapedefaults": {
           "line": {
            "color": "#2a3f5f"
           }
          },
          "ternary": {
           "aaxis": {
            "gridcolor": "white",
            "linecolor": "white",
            "ticks": ""
           },
           "baxis": {
            "gridcolor": "white",
            "linecolor": "white",
            "ticks": ""
           },
           "bgcolor": "#E5ECF6",
           "caxis": {
            "gridcolor": "white",
            "linecolor": "white",
            "ticks": ""
           }
          },
          "title": {
           "x": 0.05
          },
          "xaxis": {
           "automargin": true,
           "gridcolor": "white",
           "linecolor": "white",
           "ticks": "",
           "title": {
            "standoff": 15
           },
           "zerolinecolor": "white",
           "zerolinewidth": 2
          },
          "yaxis": {
           "automargin": true,
           "gridcolor": "white",
           "linecolor": "white",
           "ticks": "",
           "title": {
            "standoff": 15
           },
           "zerolinecolor": "white",
           "zerolinewidth": 2
          }
         }
        },
        "width": 900,
        "xaxis": {
         "rangeselector": {
          "buttons": [
           {
            "count": 7,
            "label": "1w",
            "step": "day",
            "stepmode": "backward"
           },
           {
            "count": 1,
            "label": "1m",
            "step": "month",
            "stepmode": "backward"
           },
           {
            "count": 6,
            "label": "6m",
            "step": "month",
            "stepmode": "backward"
           },
           {
            "count": 1,
            "label": "1y",
            "step": "year",
            "stepmode": "backward"
           },
           {
            "step": "all"
           }
          ]
         },
         "rangeslider": {
          "visible": true
         },
         "title": {
          "text": "ds"
         },
         "type": "date"
        },
        "yaxis": {
         "title": {
          "text": "y"
         }
        }
       }
      },
      "text/html": [
       "<div>\n",
       "        \n",
       "        \n",
       "            <div id=\"dc522f5d-b95b-429f-b9a7-01b93dfd131d\" class=\"plotly-graph-div\" style=\"height:600px; width:900px;\"></div>\n",
       "            <script type=\"text/javascript\">\n",
       "                require([\"plotly\"], function(Plotly) {\n",
       "                    window.PLOTLYENV=window.PLOTLYENV || {};\n",
       "                    \n",
       "                if (document.getElementById(\"dc522f5d-b95b-429f-b9a7-01b93dfd131d\")) {\n",
       "                    Plotly.newPlot(\n",
       "                        'dc522f5d-b95b-429f-b9a7-01b93dfd131d',\n",
       "                        [{\"marker\": {\"color\": \"black\", \"size\": 4}, \"mode\": \"markers\", \"name\": \"Actual\", \"type\": \"scatter\", \"x\": [\"2020-02-09T00:00:00\", \"2020-02-10T00:00:00\", \"2020-02-11T00:00:00\", \"2020-02-12T00:00:00\", \"2020-02-13T00:00:00\", \"2020-02-14T00:00:00\", \"2020-02-15T00:00:00\", \"2020-02-16T00:00:00\", \"2020-02-17T00:00:00\", \"2020-02-18T00:00:00\", \"2020-02-19T00:00:00\", \"2020-02-20T00:00:00\", \"2020-02-21T00:00:00\", \"2020-02-22T00:00:00\", \"2020-02-23T00:00:00\", \"2020-02-24T00:00:00\", \"2020-02-25T00:00:00\", \"2020-02-26T00:00:00\", \"2020-02-27T00:00:00\", \"2020-02-28T00:00:00\", \"2020-02-29T00:00:00\", \"2020-03-01T00:00:00\", \"2020-03-02T00:00:00\", \"2020-03-03T00:00:00\"], \"y\": [27.0, 28.0, 28.0, 28.0, 28.0, 28.0, 28.0, 30.0, 30.0, 39.0, 65.0, 104.0, 204.0, 433.0, 602.0, 833.0, 976.0, 1261.0, 1766.0, 2337.0, 3150.0, 4212.0, 4812.0, 5328.0]}, {\"hoverinfo\": \"skip\", \"line\": {\"width\": 0}, \"mode\": \"lines\", \"type\": \"scatter\", \"x\": [\"2020-02-09T00:00:00\", \"2020-02-10T00:00:00\", \"2020-02-11T00:00:00\", \"2020-02-12T00:00:00\", \"2020-02-13T00:00:00\", \"2020-02-14T00:00:00\", \"2020-02-15T00:00:00\", \"2020-02-16T00:00:00\", \"2020-02-17T00:00:00\", \"2020-02-18T00:00:00\", \"2020-02-19T00:00:00\", \"2020-02-20T00:00:00\", \"2020-02-21T00:00:00\", \"2020-02-22T00:00:00\", \"2020-02-23T00:00:00\", \"2020-02-24T00:00:00\", \"2020-02-25T00:00:00\", \"2020-02-26T00:00:00\", \"2020-02-27T00:00:00\", \"2020-02-28T00:00:00\", \"2020-02-29T00:00:00\", \"2020-03-01T00:00:00\", \"2020-03-02T00:00:00\", \"2020-03-03T00:00:00\", \"2020-03-04T00:00:00\", \"2020-03-05T00:00:00\", \"2020-03-06T00:00:00\", \"2020-03-07T00:00:00\", \"2020-03-08T00:00:00\", \"2020-03-09T00:00:00\", \"2020-03-10T00:00:00\", \"2020-03-11T00:00:00\", \"2020-03-12T00:00:00\", \"2020-03-13T00:00:00\", \"2020-03-14T00:00:00\", \"2020-03-15T00:00:00\", \"2020-03-16T00:00:00\", \"2020-03-17T00:00:00\", \"2020-03-18T00:00:00\", \"2020-03-19T00:00:00\", \"2020-03-20T00:00:00\", \"2020-03-21T00:00:00\", \"2020-03-22T00:00:00\", \"2020-03-23T00:00:00\", \"2020-03-24T00:00:00\", \"2020-03-25T00:00:00\", \"2020-03-26T00:00:00\", \"2020-03-27T00:00:00\", \"2020-03-28T00:00:00\", \"2020-03-29T00:00:00\", \"2020-03-30T00:00:00\", \"2020-03-31T00:00:00\", \"2020-04-01T00:00:00\", \"2020-04-02T00:00:00\"], \"y\": [-1865.612284652169, -1675.1403930870142, -1515.9141929720633, -1965.4114444041656, -1733.722919253526, -1636.5843062519832, -1225.0387379939145, -504.5733677901191, -361.9957542310634, -103.15923117773117, -546.2916092051263, -453.9537549482511, -165.60013376008405, 154.34515467702423, 884.2614139367769, 965.2080631440551, 1017.5921793593996, 672.9894752618219, 866.2344667335211, 1099.199015915148, 1440.6540283823654, 2159.1760656487627, 2309.2837667586714, 2571.525714589893, 1975.6082028724122, 2295.5908932882526, 2431.6010027687303, 2789.495052234021, 3496.6451760433665, 3632.2898359917212, 3864.4679817501055, 3379.100287560776, 3635.817704310738, 3766.440500448887, 4129.986541193222, 4770.399417100095, 5012.020909420513, 5237.637674637991, 4809.74649861707, 4835.3610811201115, 5191.132592019452, 5460.085571560347, 6174.700305773427, 6432.83236854457, 6572.419238661354, 6139.201175405903, 6242.491065232225, 6535.553798748337, 6820.128284918759, 7567.354587780121, 7687.917062724596, 7864.011232160134, 7433.081150906815, 7561.486147455251]}, {\"fill\": \"tonexty\", \"fillcolor\": \"rgba(0, 114, 178, 0.2)\", \"line\": {\"color\": \"#0072B2\", \"width\": 2}, \"mode\": \"lines\", \"name\": \"Predicted\", \"type\": \"scatter\", \"x\": [\"2020-02-09T00:00:00\", \"2020-02-10T00:00:00\", \"2020-02-11T00:00:00\", \"2020-02-12T00:00:00\", \"2020-02-13T00:00:00\", \"2020-02-14T00:00:00\", \"2020-02-15T00:00:00\", \"2020-02-16T00:00:00\", \"2020-02-17T00:00:00\", \"2020-02-18T00:00:00\", \"2020-02-19T00:00:00\", \"2020-02-20T00:00:00\", \"2020-02-21T00:00:00\", \"2020-02-22T00:00:00\", \"2020-02-23T00:00:00\", \"2020-02-24T00:00:00\", \"2020-02-25T00:00:00\", \"2020-02-26T00:00:00\", \"2020-02-27T00:00:00\", \"2020-02-28T00:00:00\", \"2020-02-29T00:00:00\", \"2020-03-01T00:00:00\", \"2020-03-02T00:00:00\", \"2020-03-03T00:00:00\", \"2020-03-04T00:00:00\", \"2020-03-05T00:00:00\", \"2020-03-06T00:00:00\", \"2020-03-07T00:00:00\", \"2020-03-08T00:00:00\", \"2020-03-09T00:00:00\", \"2020-03-10T00:00:00\", \"2020-03-11T00:00:00\", \"2020-03-12T00:00:00\", \"2020-03-13T00:00:00\", \"2020-03-14T00:00:00\", \"2020-03-15T00:00:00\", \"2020-03-16T00:00:00\", \"2020-03-17T00:00:00\", \"2020-03-18T00:00:00\", \"2020-03-19T00:00:00\", \"2020-03-20T00:00:00\", \"2020-03-21T00:00:00\", \"2020-03-22T00:00:00\", \"2020-03-23T00:00:00\", \"2020-03-24T00:00:00\", \"2020-03-25T00:00:00\", \"2020-03-26T00:00:00\", \"2020-03-27T00:00:00\", \"2020-03-28T00:00:00\", \"2020-03-29T00:00:00\", \"2020-03-30T00:00:00\", \"2020-03-31T00:00:00\", \"2020-04-01T00:00:00\", \"2020-04-02T00:00:00\"], \"y\": [-800.2467840555001, -592.2755006307411, -425.30347108749123, -893.8982203147953, -712.5668766546842, -488.9399775394252, -141.6494085648964, 545.0535769796315, 753.0248603536113, 919.9968898464576, 451.4021406025717, 632.7368273646058, 856.3670696272688, 1203.6609818108716, 1890.368361788339, 2098.344039743224, 2265.320463862014, 1796.731260813855, 1978.0681506178232, 2201.7005959465473, 2548.9967111326937, 3235.7052428873976, 3443.682072493138, 3610.6596482276655, 3142.0704452295086, 3323.4073350799526, 3547.039780409056, 3894.335895595006, 4581.044427350317, 4789.0212569561745, 4955.9988326903685, 4487.40962969245, 4668.7465195436325, 4892.3789648733045, 5239.6750800589025, 5926.383611813795, 6134.3604414192005, 6301.338017153246, 5832.748814155393, 6014.0857040073115, 6237.71814933524, 6585.014264522007, 7271.722796277272, 7479.699625882441, 7646.677201615775, 7178.08799861921, 7359.424888469442, 7583.057333798621, 7930.353448985112, 8617.061980740751, 8825.038810345253, 8992.016386080493, 8523.42718308215, 8704.764072933121]}, {\"fill\": \"tonexty\", \"fillcolor\": \"rgba(0, 114, 178, 0.2)\", \"hoverinfo\": \"skip\", \"line\": {\"width\": 0}, \"mode\": \"lines\", \"type\": \"scatter\", \"x\": [\"2020-02-09T00:00:00\", \"2020-02-10T00:00:00\", \"2020-02-11T00:00:00\", \"2020-02-12T00:00:00\", \"2020-02-13T00:00:00\", \"2020-02-14T00:00:00\", \"2020-02-15T00:00:00\", \"2020-02-16T00:00:00\", \"2020-02-17T00:00:00\", \"2020-02-18T00:00:00\", \"2020-02-19T00:00:00\", \"2020-02-20T00:00:00\", \"2020-02-21T00:00:00\", \"2020-02-22T00:00:00\", \"2020-02-23T00:00:00\", \"2020-02-24T00:00:00\", \"2020-02-25T00:00:00\", \"2020-02-26T00:00:00\", \"2020-02-27T00:00:00\", \"2020-02-28T00:00:00\", \"2020-02-29T00:00:00\", \"2020-03-01T00:00:00\", \"2020-03-02T00:00:00\", \"2020-03-03T00:00:00\", \"2020-03-04T00:00:00\", \"2020-03-05T00:00:00\", \"2020-03-06T00:00:00\", \"2020-03-07T00:00:00\", \"2020-03-08T00:00:00\", \"2020-03-09T00:00:00\", \"2020-03-10T00:00:00\", \"2020-03-11T00:00:00\", \"2020-03-12T00:00:00\", \"2020-03-13T00:00:00\", \"2020-03-14T00:00:00\", \"2020-03-15T00:00:00\", \"2020-03-16T00:00:00\", \"2020-03-17T00:00:00\", \"2020-03-18T00:00:00\", \"2020-03-19T00:00:00\", \"2020-03-20T00:00:00\", \"2020-03-21T00:00:00\", \"2020-03-22T00:00:00\", \"2020-03-23T00:00:00\", \"2020-03-24T00:00:00\", \"2020-03-25T00:00:00\", \"2020-03-26T00:00:00\", \"2020-03-27T00:00:00\", \"2020-03-28T00:00:00\", \"2020-03-29T00:00:00\", \"2020-03-30T00:00:00\", \"2020-03-31T00:00:00\", \"2020-04-01T00:00:00\", \"2020-04-02T00:00:00\"], \"y\": [205.5916886391708, 513.275542449407, 624.3937804472016, 174.66538789192293, 454.2216916927939, 602.2235012581314, 897.0907304710415, 1539.5081078691492, 1818.121627871787, 2100.669103611259, 1539.0729956212144, 1763.7649413025324, 1904.3818933553032, 2349.9684870660517, 2945.51897542233, 3246.5438634786165, 3316.1262851715437, 2883.1333431421326, 3068.582699184422, 3346.9062462059646, 3582.343346403572, 4360.546835446335, 4483.7081137355535, 4863.412676085239, 4276.174804279564, 4386.339206430265, 4668.348673295199, 4964.261908476274, 5648.801661996582, 5855.79516501449, 5979.212366453296, 5638.964271570963, 5727.77512812958, 5963.335691637355, 6342.540792588904, 7046.158296305814, 7200.183319528151, 7329.303373394553, 6932.667391388774, 7097.681972615178, 7313.957148305174, 7661.555163940466, 8333.927873190458, 8528.673111505228, 8706.860404936064, 8262.9816145277, 8413.633797035385, 8746.214230151314, 9138.5537289836, 9680.33734075527, 9930.333809511689, 10136.642772603418, 9599.767453677023, 9757.097213595756]}],\n",
       "                        {\"height\": 600, \"showlegend\": false, \"template\": {\"data\": {\"bar\": [{\"error_x\": {\"color\": \"#2a3f5f\"}, \"error_y\": {\"color\": \"#2a3f5f\"}, \"marker\": {\"line\": {\"color\": \"#E5ECF6\", \"width\": 0.5}}, \"type\": \"bar\"}], \"barpolar\": [{\"marker\": {\"line\": {\"color\": \"#E5ECF6\", \"width\": 0.5}}, \"type\": \"barpolar\"}], \"carpet\": [{\"aaxis\": {\"endlinecolor\": \"#2a3f5f\", \"gridcolor\": \"white\", \"linecolor\": \"white\", \"minorgridcolor\": \"white\", \"startlinecolor\": \"#2a3f5f\"}, \"baxis\": {\"endlinecolor\": \"#2a3f5f\", \"gridcolor\": \"white\", \"linecolor\": \"white\", \"minorgridcolor\": \"white\", \"startlinecolor\": \"#2a3f5f\"}, \"type\": \"carpet\"}], \"choropleth\": [{\"colorbar\": {\"outlinewidth\": 0, \"ticks\": \"\"}, \"type\": \"choropleth\"}], \"contour\": [{\"colorbar\": {\"outlinewidth\": 0, \"ticks\": \"\"}, \"colorscale\": [[0.0, \"#0d0887\"], [0.1111111111111111, \"#46039f\"], [0.2222222222222222, \"#7201a8\"], [0.3333333333333333, \"#9c179e\"], [0.4444444444444444, \"#bd3786\"], [0.5555555555555556, \"#d8576b\"], [0.6666666666666666, \"#ed7953\"], [0.7777777777777778, \"#fb9f3a\"], [0.8888888888888888, \"#fdca26\"], [1.0, \"#f0f921\"]], \"type\": \"contour\"}], \"contourcarpet\": [{\"colorbar\": {\"outlinewidth\": 0, \"ticks\": \"\"}, \"type\": \"contourcarpet\"}], \"heatmap\": [{\"colorbar\": {\"outlinewidth\": 0, \"ticks\": \"\"}, \"colorscale\": [[0.0, \"#0d0887\"], [0.1111111111111111, \"#46039f\"], [0.2222222222222222, \"#7201a8\"], [0.3333333333333333, \"#9c179e\"], [0.4444444444444444, \"#bd3786\"], [0.5555555555555556, \"#d8576b\"], [0.6666666666666666, \"#ed7953\"], [0.7777777777777778, \"#fb9f3a\"], [0.8888888888888888, \"#fdca26\"], [1.0, \"#f0f921\"]], \"type\": \"heatmap\"}], \"heatmapgl\": [{\"colorbar\": {\"outlinewidth\": 0, \"ticks\": \"\"}, \"colorscale\": [[0.0, \"#0d0887\"], [0.1111111111111111, \"#46039f\"], [0.2222222222222222, \"#7201a8\"], [0.3333333333333333, \"#9c179e\"], [0.4444444444444444, \"#bd3786\"], [0.5555555555555556, \"#d8576b\"], [0.6666666666666666, \"#ed7953\"], [0.7777777777777778, \"#fb9f3a\"], [0.8888888888888888, \"#fdca26\"], [1.0, \"#f0f921\"]], \"type\": \"heatmapgl\"}], \"histogram\": [{\"marker\": {\"colorbar\": {\"outlinewidth\": 0, \"ticks\": \"\"}}, \"type\": \"histogram\"}], \"histogram2d\": [{\"colorbar\": {\"outlinewidth\": 0, \"ticks\": \"\"}, \"colorscale\": [[0.0, \"#0d0887\"], [0.1111111111111111, \"#46039f\"], [0.2222222222222222, \"#7201a8\"], [0.3333333333333333, \"#9c179e\"], [0.4444444444444444, \"#bd3786\"], [0.5555555555555556, \"#d8576b\"], [0.6666666666666666, \"#ed7953\"], [0.7777777777777778, \"#fb9f3a\"], [0.8888888888888888, \"#fdca26\"], [1.0, \"#f0f921\"]], \"type\": \"histogram2d\"}], \"histogram2dcontour\": [{\"colorbar\": {\"outlinewidth\": 0, \"ticks\": \"\"}, \"colorscale\": [[0.0, \"#0d0887\"], [0.1111111111111111, \"#46039f\"], [0.2222222222222222, \"#7201a8\"], [0.3333333333333333, \"#9c179e\"], [0.4444444444444444, \"#bd3786\"], [0.5555555555555556, \"#d8576b\"], [0.6666666666666666, \"#ed7953\"], [0.7777777777777778, \"#fb9f3a\"], [0.8888888888888888, \"#fdca26\"], [1.0, \"#f0f921\"]], \"type\": \"histogram2dcontour\"}], \"mesh3d\": [{\"colorbar\": {\"outlinewidth\": 0, \"ticks\": \"\"}, \"type\": \"mesh3d\"}], \"parcoords\": [{\"line\": {\"colorbar\": {\"outlinewidth\": 0, \"ticks\": \"\"}}, \"type\": \"parcoords\"}], \"pie\": [{\"automargin\": true, \"type\": \"pie\"}], \"scatter\": [{\"marker\": {\"colorbar\": {\"outlinewidth\": 0, \"ticks\": \"\"}}, \"type\": \"scatter\"}], \"scatter3d\": [{\"line\": {\"colorbar\": {\"outlinewidth\": 0, \"ticks\": \"\"}}, \"marker\": {\"colorbar\": {\"outlinewidth\": 0, \"ticks\": \"\"}}, \"type\": \"scatter3d\"}], \"scattercarpet\": [{\"marker\": {\"colorbar\": {\"outlinewidth\": 0, \"ticks\": \"\"}}, \"type\": \"scattercarpet\"}], \"scattergeo\": [{\"marker\": {\"colorbar\": {\"outlinewidth\": 0, \"ticks\": \"\"}}, \"type\": \"scattergeo\"}], \"scattergl\": [{\"marker\": {\"colorbar\": {\"outlinewidth\": 0, \"ticks\": \"\"}}, \"type\": \"scattergl\"}], \"scattermapbox\": [{\"marker\": {\"colorbar\": {\"outlinewidth\": 0, \"ticks\": \"\"}}, \"type\": \"scattermapbox\"}], \"scatterpolar\": [{\"marker\": {\"colorbar\": {\"outlinewidth\": 0, \"ticks\": \"\"}}, \"type\": \"scatterpolar\"}], \"scatterpolargl\": [{\"marker\": {\"colorbar\": {\"outlinewidth\": 0, \"ticks\": \"\"}}, \"type\": \"scatterpolargl\"}], \"scatterternary\": [{\"marker\": {\"colorbar\": {\"outlinewidth\": 0, \"ticks\": \"\"}}, \"type\": \"scatterternary\"}], \"surface\": [{\"colorbar\": {\"outlinewidth\": 0, \"ticks\": \"\"}, \"colorscale\": [[0.0, \"#0d0887\"], [0.1111111111111111, \"#46039f\"], [0.2222222222222222, \"#7201a8\"], [0.3333333333333333, \"#9c179e\"], [0.4444444444444444, \"#bd3786\"], [0.5555555555555556, \"#d8576b\"], [0.6666666666666666, \"#ed7953\"], [0.7777777777777778, \"#fb9f3a\"], [0.8888888888888888, \"#fdca26\"], [1.0, \"#f0f921\"]], \"type\": \"surface\"}], \"table\": [{\"cells\": {\"fill\": {\"color\": \"#EBF0F8\"}, \"line\": {\"color\": \"white\"}}, \"header\": {\"fill\": {\"color\": \"#C8D4E3\"}, \"line\": {\"color\": \"white\"}}, \"type\": \"table\"}]}, \"layout\": {\"annotationdefaults\": {\"arrowcolor\": \"#2a3f5f\", \"arrowhead\": 0, \"arrowwidth\": 1}, \"coloraxis\": {\"colorbar\": {\"outlinewidth\": 0, \"ticks\": \"\"}}, \"colorscale\": {\"diverging\": [[0, \"#8e0152\"], [0.1, \"#c51b7d\"], [0.2, \"#de77ae\"], [0.3, \"#f1b6da\"], [0.4, \"#fde0ef\"], [0.5, \"#f7f7f7\"], [0.6, \"#e6f5d0\"], [0.7, \"#b8e186\"], [0.8, \"#7fbc41\"], [0.9, \"#4d9221\"], [1, \"#276419\"]], \"sequential\": [[0.0, \"#0d0887\"], [0.1111111111111111, \"#46039f\"], [0.2222222222222222, \"#7201a8\"], [0.3333333333333333, \"#9c179e\"], [0.4444444444444444, \"#bd3786\"], [0.5555555555555556, \"#d8576b\"], [0.6666666666666666, \"#ed7953\"], [0.7777777777777778, \"#fb9f3a\"], [0.8888888888888888, \"#fdca26\"], [1.0, \"#f0f921\"]], \"sequentialminus\": [[0.0, \"#0d0887\"], [0.1111111111111111, \"#46039f\"], [0.2222222222222222, \"#7201a8\"], [0.3333333333333333, \"#9c179e\"], [0.4444444444444444, \"#bd3786\"], [0.5555555555555556, \"#d8576b\"], [0.6666666666666666, \"#ed7953\"], [0.7777777777777778, \"#fb9f3a\"], [0.8888888888888888, \"#fdca26\"], [1.0, \"#f0f921\"]]}, \"colorway\": [\"#636efa\", \"#EF553B\", \"#00cc96\", \"#ab63fa\", \"#FFA15A\", \"#19d3f3\", \"#FF6692\", \"#B6E880\", \"#FF97FF\", \"#FECB52\"], \"font\": {\"color\": \"#2a3f5f\"}, \"geo\": {\"bgcolor\": \"white\", \"lakecolor\": \"white\", \"landcolor\": \"#E5ECF6\", \"showlakes\": true, \"showland\": true, \"subunitcolor\": \"white\"}, \"hoverlabel\": {\"align\": \"left\"}, \"hovermode\": \"closest\", \"mapbox\": {\"style\": \"light\"}, \"paper_bgcolor\": \"white\", \"plot_bgcolor\": \"#E5ECF6\", \"polar\": {\"angularaxis\": {\"gridcolor\": \"white\", \"linecolor\": \"white\", \"ticks\": \"\"}, \"bgcolor\": \"#E5ECF6\", \"radialaxis\": {\"gridcolor\": \"white\", \"linecolor\": \"white\", \"ticks\": \"\"}}, \"scene\": {\"xaxis\": {\"backgroundcolor\": \"#E5ECF6\", \"gridcolor\": \"white\", \"gridwidth\": 2, \"linecolor\": \"white\", \"showbackground\": true, \"ticks\": \"\", \"zerolinecolor\": \"white\"}, \"yaxis\": {\"backgroundcolor\": \"#E5ECF6\", \"gridcolor\": \"white\", \"gridwidth\": 2, \"linecolor\": \"white\", \"showbackground\": true, \"ticks\": \"\", \"zerolinecolor\": \"white\"}, \"zaxis\": {\"backgroundcolor\": \"#E5ECF6\", \"gridcolor\": \"white\", \"gridwidth\": 2, \"linecolor\": \"white\", \"showbackground\": true, \"ticks\": \"\", \"zerolinecolor\": \"white\"}}, \"shapedefaults\": {\"line\": {\"color\": \"#2a3f5f\"}}, \"ternary\": {\"aaxis\": {\"gridcolor\": \"white\", \"linecolor\": \"white\", \"ticks\": \"\"}, \"baxis\": {\"gridcolor\": \"white\", \"linecolor\": \"white\", \"ticks\": \"\"}, \"bgcolor\": \"#E5ECF6\", \"caxis\": {\"gridcolor\": \"white\", \"linecolor\": \"white\", \"ticks\": \"\"}}, \"title\": {\"x\": 0.05}, \"xaxis\": {\"automargin\": true, \"gridcolor\": \"white\", \"linecolor\": \"white\", \"ticks\": \"\", \"title\": {\"standoff\": 15}, \"zerolinecolor\": \"white\", \"zerolinewidth\": 2}, \"yaxis\": {\"automargin\": true, \"gridcolor\": \"white\", \"linecolor\": \"white\", \"ticks\": \"\", \"title\": {\"standoff\": 15}, \"zerolinecolor\": \"white\", \"zerolinewidth\": 2}}}, \"width\": 900, \"xaxis\": {\"rangeselector\": {\"buttons\": [{\"count\": 7, \"label\": \"1w\", \"step\": \"day\", \"stepmode\": \"backward\"}, {\"count\": 1, \"label\": \"1m\", \"step\": \"month\", \"stepmode\": \"backward\"}, {\"count\": 6, \"label\": \"6m\", \"step\": \"month\", \"stepmode\": \"backward\"}, {\"count\": 1, \"label\": \"1y\", \"step\": \"year\", \"stepmode\": \"backward\"}, {\"step\": \"all\"}]}, \"rangeslider\": {\"visible\": true}, \"title\": {\"text\": \"ds\"}, \"type\": \"date\"}, \"yaxis\": {\"title\": {\"text\": \"y\"}}},\n",
       "                        {\"responsive\": true}\n",
       "                    ).then(function(){\n",
       "                            \n",
       "var gd = document.getElementById('dc522f5d-b95b-429f-b9a7-01b93dfd131d');\n",
       "var x = new MutationObserver(function (mutations, observer) {{\n",
       "        var display = window.getComputedStyle(gd).display;\n",
       "        if (!display || display === 'none') {{\n",
       "            console.log([gd, 'removed!']);\n",
       "            Plotly.purge(gd);\n",
       "            observer.disconnect();\n",
       "        }}\n",
       "}});\n",
       "\n",
       "// Listen for the removal of the full notebook cells\n",
       "var notebookContainer = gd.closest('#notebook-container');\n",
       "if (notebookContainer) {{\n",
       "    x.observe(notebookContainer, {childList: true});\n",
       "}}\n",
       "\n",
       "// Listen for the clearing of the current output cell\n",
       "var outputEl = gd.closest('.output');\n",
       "if (outputEl) {{\n",
       "    x.observe(outputEl, {childList: true});\n",
       "}}\n",
       "\n",
       "                        })\n",
       "                };\n",
       "                });\n",
       "            </script>\n",
       "        </div>"
      ]
     },
     "metadata": {},
     "output_type": "display_data"
    },
    {
     "data": {
      "image/png": "[encoded data removed]",
      "text/plain": [
       "<Figure size 720x432 with 1 Axes>"
      ]
     },
     "metadata": {},
     "output_type": "display_data"
    }
   ],
   "source": [
    "fig = plot_plotly(m, forecast)\n",
    "py.iplot(fig) \n",
    "\n",
    "fig = m.plot(forecast,xlabel='Date',ylabel='Confirmed Count')\n"
   ]
  },
  {
   "cell_type": "code",
   "execution_count": 26,
   "metadata": {},
   "outputs": [
    {
     "data": {
      "image/png": "[encoded data removed]",
      "text/plain": [
       "<Figure size 648x432 with 2 Axes>"
      ]
     },
     "metadata": {},
     "output_type": "display_data"
    }
   ],
   "source": [
    "figure=m.plot_components(forecast)\n"
   ]
  },
  {
   "cell_type": "markdown",
   "metadata": {},
   "source": [
    "**Autoregressive integrated moving average(Arima)**"
   ]
  },
  {
   "cell_type": "markdown",
   "metadata": {},
   "source": [
    "**Making data ready for Arima**"
   ]
  },
  {
   "cell_type": "code",
   "execution_count": 27,
   "metadata": {},
   "outputs": [
    {
     "data": {
      "text/html": [
       "<div>\n",
       "<style scoped>\n",
       "    .dataframe tbody tr th:only-of-type {\n",
       "        vertical-align: middle;\n",
       "    }\n",
       "\n",
       "    .dataframe tbody tr th {\n",
       "        vertical-align: top;\n",
       "    }\n",
       "\n",
       "    .dataframe thead th {\n",
       "        text-align: right;\n",
       "    }\n",
       "</style>\n",
       "<table border=\"1\" class=\"dataframe\">\n",
       "  <thead>\n",
       "    <tr style=\"text-align: right;\">\n",
       "      <th></th>\n",
       "      <th>confirmed_date</th>\n",
       "      <th>count</th>\n",
       "    </tr>\n",
       "  </thead>\n",
       "  <tbody>\n",
       "    <tr>\n",
       "      <th>0</th>\n",
       "      <td>2020-02-09</td>\n",
       "      <td>27.0</td>\n",
       "    </tr>\n",
       "    <tr>\n",
       "      <th>1</th>\n",
       "      <td>2020-02-10</td>\n",
       "      <td>55.0</td>\n",
       "    </tr>\n",
       "    <tr>\n",
       "      <th>2</th>\n",
       "      <td>2020-02-11</td>\n",
       "      <td>83.0</td>\n",
       "    </tr>\n",
       "    <tr>\n",
       "      <th>3</th>\n",
       "      <td>2020-02-12</td>\n",
       "      <td>111.0</td>\n",
       "    </tr>\n",
       "    <tr>\n",
       "      <th>4</th>\n",
       "      <td>2020-02-13</td>\n",
       "      <td>139.0</td>\n",
       "    </tr>\n",
       "    <tr>\n",
       "      <th>5</th>\n",
       "      <td>2020-02-14</td>\n",
       "      <td>167.0</td>\n",
       "    </tr>\n",
       "    <tr>\n",
       "      <th>6</th>\n",
       "      <td>2020-02-15</td>\n",
       "      <td>195.0</td>\n",
       "    </tr>\n",
       "    <tr>\n",
       "      <th>7</th>\n",
       "      <td>2020-02-16</td>\n",
       "      <td>225.0</td>\n",
       "    </tr>\n",
       "    <tr>\n",
       "      <th>8</th>\n",
       "      <td>2020-02-17</td>\n",
       "      <td>255.0</td>\n",
       "    </tr>\n",
       "    <tr>\n",
       "      <th>9</th>\n",
       "      <td>2020-02-18</td>\n",
       "      <td>294.0</td>\n",
       "    </tr>\n",
       "    <tr>\n",
       "      <th>10</th>\n",
       "      <td>2020-02-19</td>\n",
       "      <td>359.0</td>\n",
       "    </tr>\n",
       "    <tr>\n",
       "      <th>11</th>\n",
       "      <td>2020-02-20</td>\n",
       "      <td>463.0</td>\n",
       "    </tr>\n",
       "    <tr>\n",
       "      <th>12</th>\n",
       "      <td>2020-02-21</td>\n",
       "      <td>667.0</td>\n",
       "    </tr>\n",
       "    <tr>\n",
       "      <th>13</th>\n",
       "      <td>2020-02-22</td>\n",
       "      <td>1100.0</td>\n",
       "    </tr>\n",
       "    <tr>\n",
       "      <th>14</th>\n",
       "      <td>2020-02-23</td>\n",
       "      <td>1702.0</td>\n",
       "    </tr>\n",
       "    <tr>\n",
       "      <th>15</th>\n",
       "      <td>2020-02-24</td>\n",
       "      <td>2535.0</td>\n",
       "    </tr>\n",
       "    <tr>\n",
       "      <th>16</th>\n",
       "      <td>2020-02-25</td>\n",
       "      <td>3511.0</td>\n",
       "    </tr>\n",
       "    <tr>\n",
       "      <th>17</th>\n",
       "      <td>2020-02-26</td>\n",
       "      <td>4772.0</td>\n",
       "    </tr>\n",
       "    <tr>\n",
       "      <th>18</th>\n",
       "      <td>2020-02-27</td>\n",
       "      <td>6538.0</td>\n",
       "    </tr>\n",
       "    <tr>\n",
       "      <th>19</th>\n",
       "      <td>2020-02-28</td>\n",
       "      <td>8875.0</td>\n",
       "    </tr>\n",
       "    <tr>\n",
       "      <th>20</th>\n",
       "      <td>2020-02-29</td>\n",
       "      <td>12025.0</td>\n",
       "    </tr>\n",
       "    <tr>\n",
       "      <th>21</th>\n",
       "      <td>2020-03-01</td>\n",
       "      <td>16237.0</td>\n",
       "    </tr>\n",
       "    <tr>\n",
       "      <th>22</th>\n",
       "      <td>2020-03-02</td>\n",
       "      <td>21049.0</td>\n",
       "    </tr>\n",
       "    <tr>\n",
       "      <th>23</th>\n",
       "      <td>2020-03-03</td>\n",
       "      <td>26377.0</td>\n",
       "    </tr>\n",
       "  </tbody>\n",
       "</table>\n",
       "</div>"
      ],
      "text/plain": [
       "   confirmed_date    count\n",
       "0      2020-02-09     27.0\n",
       "1      2020-02-10     55.0\n",
       "2      2020-02-11     83.0\n",
       "3      2020-02-12    111.0\n",
       "4      2020-02-13    139.0\n",
       "5      2020-02-14    167.0\n",
       "6      2020-02-15    195.0\n",
       "7      2020-02-16    225.0\n",
       "8      2020-02-17    255.0\n",
       "9      2020-02-18    294.0\n",
       "10     2020-02-19    359.0\n",
       "11     2020-02-20    463.0\n",
       "12     2020-02-21    667.0\n",
       "13     2020-02-22   1100.0\n",
       "14     2020-02-23   1702.0\n",
       "15     2020-02-24   2535.0\n",
       "16     2020-02-25   3511.0\n",
       "17     2020-02-26   4772.0\n",
       "18     2020-02-27   6538.0\n",
       "19     2020-02-28   8875.0\n",
       "20     2020-02-29  12025.0\n",
       "21     2020-03-01  16237.0\n",
       "22     2020-03-02  21049.0\n",
       "23     2020-03-03  26377.0"
      ]
     },
     "execution_count": 27,
     "metadata": {},
     "output_type": "execute_result"
    }
   ],
   "source": [
    "confirm_cs = prophet.cumsum()\n",
    "arima_data = confirm_cs.reset_index()\n",
    "arima_data.columns = ['confirmed_date','count']\n",
    "arima_data"
   ]
  },
  {
   "cell_type": "markdown",
   "metadata": {},
   "source": [
    "** Model and prediction**"
   ]
  },
  {
   "cell_type": "code",
   "execution_count": 28,
   "metadata": {},
   "outputs": [
    {
     "data": {
      "text/html": [
       "<table class=\"simpletable\">\n",
       "<caption>ARIMA Model Results</caption>\n",
       "<tr>\n",
       "  <th>Dep. Variable:</th>       <td>D2.y</td>       <th>  No. Observations:  </th>    <td>22</td>   \n",
       "</tr>\n",
       "<tr>\n",
       "  <th>Model:</th>          <td>ARIMA(1, 2, 1)</td>  <th>  Log Likelihood     </th> <td>-140.674</td>\n",
       "</tr>\n",
       "<tr>\n",
       "  <th>Method:</th>             <td>css-mle</td>     <th>  S.D. of innovations</th>  <td>140.003</td>\n",
       "</tr>\n",
       "<tr>\n",
       "  <th>Date:</th>          <td>Sat, 11 Apr 2020</td> <th>  AIC                </th>  <td>289.348</td>\n",
       "</tr>\n",
       "<tr>\n",
       "  <th>Time:</th>              <td>12:18:47</td>     <th>  BIC                </th>  <td>293.712</td>\n",
       "</tr>\n",
       "<tr>\n",
       "  <th>Sample:</th>                <td>2</td>        <th>  HQIC               </th>  <td>290.376</td>\n",
       "</tr>\n",
       "<tr>\n",
       "  <th></th>                       <td> </td>        <th>                     </th>     <td> </td>   \n",
       "</tr>\n",
       "</table>\n",
       "<table class=\"simpletable\">\n",
       "<tr>\n",
       "       <td></td>         <th>coef</th>     <th>std err</th>      <th>z</th>      <th>P>|z|</th>  <th>[0.025</th>    <th>0.975]</th>  \n",
       "</tr>\n",
       "<tr>\n",
       "  <th>const</th>      <td>  246.2801</td> <td>  174.991</td> <td>    1.407</td> <td> 0.159</td> <td>  -96.696</td> <td>  589.256</td>\n",
       "</tr>\n",
       "<tr>\n",
       "  <th>ar.L1.D2.y</th> <td>    0.8382</td> <td>    0.123</td> <td>    6.832</td> <td> 0.000</td> <td>    0.598</td> <td>    1.079</td>\n",
       "</tr>\n",
       "<tr>\n",
       "  <th>ma.L1.D2.y</th> <td>    0.1548</td> <td>    0.260</td> <td>    0.595</td> <td> 0.552</td> <td>   -0.355</td> <td>    0.665</td>\n",
       "</tr>\n",
       "</table>\n",
       "<table class=\"simpletable\">\n",
       "<caption>Roots</caption>\n",
       "<tr>\n",
       "    <td></td>   <th>            Real</th>  <th>         Imaginary</th> <th>         Modulus</th>  <th>        Frequency</th>\n",
       "</tr>\n",
       "<tr>\n",
       "  <th>AR.1</th> <td>           1.1930</td> <td>          +0.0000j</td> <td>           1.1930</td> <td>           0.0000</td>\n",
       "</tr>\n",
       "<tr>\n",
       "  <th>MA.1</th> <td>          -6.4593</td> <td>          +0.0000j</td> <td>           6.4593</td> <td>           0.5000</td>\n",
       "</tr>\n",
       "</table>"
      ],
      "text/plain": [
       "<class 'statsmodels.iolib.summary.Summary'>\n",
       "\"\"\"\n",
       "                             ARIMA Model Results                              \n",
       "==============================================================================\n",
       "Dep. Variable:                   D2.y   No. Observations:                   22\n",
       "Model:                 ARIMA(1, 2, 1)   Log Likelihood                -140.674\n",
       "Method:                       css-mle   S.D. of innovations            140.003\n",
       "Date:                Sat, 11 Apr 2020   AIC                            289.348\n",
       "Time:                        12:18:47   BIC                            293.712\n",
       "Sample:                             2   HQIC                           290.376\n",
       "                                                                              \n",
       "==============================================================================\n",
       "                 coef    std err          z      P>|z|      [0.025      0.975]\n",
       "------------------------------------------------------------------------------\n",
       "const        246.2801    174.991      1.407      0.159     -96.696     589.256\n",
       "ar.L1.D2.y     0.8382      0.123      6.832      0.000       0.598       1.079\n",
       "ma.L1.D2.y     0.1548      0.260      0.595      0.552      -0.355       0.665\n",
       "                                    Roots                                    \n",
       "=============================================================================\n",
       "                  Real          Imaginary           Modulus         Frequency\n",
       "-----------------------------------------------------------------------------\n",
       "AR.1            1.1930           +0.0000j            1.1930            0.0000\n",
       "MA.1           -6.4593           +0.0000j            6.4593            0.5000\n",
       "-----------------------------------------------------------------------------\n",
       "\"\"\""
      ]
     },
     "execution_count": 28,
     "metadata": {},
     "output_type": "execute_result"
    }
   ],
   "source": [
    "model = ARIMA(arima_data['count'].values, order=(1, 2, 1))\n",
    "fit_model = model.fit(trend='c', full_output=True, disp=True)\n",
    "fit_model.summary()"
   ]
  },
  {
   "cell_type": "markdown",
   "metadata": {},
   "source": [
    "**Graphical Representation for Prediction**"
   ]
  },
  {
   "cell_type": "code",
   "execution_count": 29,
   "metadata": {},
   "outputs": [
    {
     "data": {
      "text/plain": [
       "<matplotlib.axes._subplots.AxesSubplot at 0x7fca25e68d30>"
      ]
     },
     "execution_count": 29,
     "metadata": {},
     "output_type": "execute_result"
    },
    {
     "data": {
      "image/png": "[encoded data removed]",
      "text/plain": [
       "<Figure size 432x288 with 1 Axes>"
      ]
     },
     "metadata": {
      "needs_background": "light"
     },
     "output_type": "display_data"
    },
    {
     "data": {
      "image/png": "[encoded data removed]",
      "text/plain": [
       "<Figure size 432x288 with 1 Axes>"
      ]
     },
     "metadata": {
      "needs_background": "light"
     },
     "output_type": "display_data"
    }
   ],
   "source": [
    "fit_model.plot_predict()\n",
    "plt.title('Forecast vs Actual')\n",
    "pd.DataFrame(fit_model.resid).plot()\n"
   ]
  },
  {
   "cell_type": "markdown",
   "metadata": {},
   "source": [
    "Forcast for next 6 days"
   ]
  },
  {
   "cell_type": "code",
   "execution_count": 30,
   "metadata": {},
   "outputs": [
    {
     "data": {
      "text/html": [
       "<div>\n",
       "<style scoped>\n",
       "    .dataframe tbody tr th:only-of-type {\n",
       "        vertical-align: middle;\n",
       "    }\n",
       "\n",
       "    .dataframe tbody tr th {\n",
       "        vertical-align: top;\n",
       "    }\n",
       "\n",
       "    .dataframe thead th {\n",
       "        text-align: right;\n",
       "    }\n",
       "</style>\n",
       "<table border=\"1\" class=\"dataframe\">\n",
       "  <thead>\n",
       "    <tr style=\"text-align: right;\">\n",
       "      <th></th>\n",
       "      <th>0</th>\n",
       "    </tr>\n",
       "  </thead>\n",
       "  <tbody>\n",
       "    <tr>\n",
       "      <th>0</th>\n",
       "      <td>32182.234955</td>\n",
       "    </tr>\n",
       "    <tr>\n",
       "      <th>1</th>\n",
       "      <td>38427.344458</td>\n",
       "    </tr>\n",
       "    <tr>\n",
       "      <th>2</th>\n",
       "      <td>45081.011709</td>\n",
       "    </tr>\n",
       "    <tr>\n",
       "      <th>3</th>\n",
       "      <td>52116.985868</td>\n",
       "    </tr>\n",
       "    <tr>\n",
       "      <th>4</th>\n",
       "      <td>59513.262562</td>\n",
       "    </tr>\n",
       "    <tr>\n",
       "      <th>5</th>\n",
       "      <td>67251.396956</td>\n",
       "    </tr>\n",
       "  </tbody>\n",
       "</table>\n",
       "</div>"
      ],
      "text/plain": [
       "              0\n",
       "0  32182.234955\n",
       "1  38427.344458\n",
       "2  45081.011709\n",
       "3  52116.985868\n",
       "4  59513.262562\n",
       "5  67251.396956"
      ]
     },
     "execution_count": 30,
     "metadata": {},
     "output_type": "execute_result"
    }
   ],
   "source": [
    "forcast = fit_model.forecast(steps=6)\n",
    "pred_y = forcast[0].tolist()\n",
    "pd.DataFrame(pred_y)"
   ]
  },
  {
   "cell_type": "markdown",
   "metadata": {},
   "source": [
    "**LSTM**"
   ]
  },
  {
   "cell_type": "code",
   "execution_count": 31,
   "metadata": {},
   "outputs": [
    {
     "data": {
      "text/html": [
       "<div>\n",
       "<style scoped>\n",
       "    .dataframe tbody tr th:only-of-type {\n",
       "        vertical-align: middle;\n",
       "    }\n",
       "\n",
       "    .dataframe tbody tr th {\n",
       "        vertical-align: top;\n",
       "    }\n",
       "\n",
       "    .dataframe thead th {\n",
       "        text-align: right;\n",
       "    }\n",
       "</style>\n",
       "<table border=\"1\" class=\"dataframe\">\n",
       "  <thead>\n",
       "    <tr style=\"text-align: right;\">\n",
       "      <th></th>\n",
       "      <th>Confirmed</th>\n",
       "    </tr>\n",
       "    <tr>\n",
       "      <th>confirmed_date</th>\n",
       "      <th></th>\n",
       "    </tr>\n",
       "  </thead>\n",
       "  <tbody>\n",
       "    <tr>\n",
       "      <th>2020-02-09</th>\n",
       "      <td>27.0</td>\n",
       "    </tr>\n",
       "    <tr>\n",
       "      <th>2020-02-10</th>\n",
       "      <td>28.0</td>\n",
       "    </tr>\n",
       "    <tr>\n",
       "      <th>2020-02-11</th>\n",
       "      <td>28.0</td>\n",
       "    </tr>\n",
       "    <tr>\n",
       "      <th>2020-02-12</th>\n",
       "      <td>28.0</td>\n",
       "    </tr>\n",
       "    <tr>\n",
       "      <th>2020-02-13</th>\n",
       "      <td>28.0</td>\n",
       "    </tr>\n",
       "  </tbody>\n",
       "</table>\n",
       "</div>"
      ],
      "text/plain": [
       "                Confirmed\n",
       "confirmed_date           \n",
       "2020-02-09           27.0\n",
       "2020-02-10           28.0\n",
       "2020-02-11           28.0\n",
       "2020-02-12           28.0\n",
       "2020-02-13           28.0"
      ]
     },
     "execution_count": 31,
     "metadata": {},
     "output_type": "execute_result"
    }
   ],
   "source": [
    "dataset = pd.DataFrame(data)\n",
    "dataset.columns = ['Confirmed']\n",
    "dataset.head()"
   ]
  },
  {
   "cell_type": "markdown",
   "metadata": {},
   "source": [
    "**Splitting Data**"
   ]
  },
  {
   "cell_type": "code",
   "execution_count": 32,
   "metadata": {},
   "outputs": [],
   "source": [
    "data = np.array(dataset).reshape(-1, 1)\n",
    "train_data = dataset[:len(dataset)-5]\n",
    "test_data = dataset[len(dataset)-5:]"
   ]
  },
  {
   "cell_type": "code",
   "execution_count": 33,
   "metadata": {},
   "outputs": [
    {
     "name": "stdout",
     "output_type": "stream",
     "text": [
      "Epoch 1/20\n",
      "14/14 [==============================] - 2s 115ms/step - loss: 0.1345\n",
      "Epoch 2/20\n",
      "14/14 [==============================] - 0s 8ms/step - loss: 0.0999\n",
      "Epoch 3/20\n",
      "14/14 [==============================] - 0s 9ms/step - loss: 0.0773\n",
      "Epoch 4/20\n",
      "14/14 [==============================] - 0s 12ms/step - loss: 0.0758\n",
      "Epoch 5/20\n",
      "14/14 [==============================] - 0s 9ms/step - loss: 0.0522\n",
      "Epoch 6/20\n",
      "14/14 [==============================] - 0s 9ms/step - loss: 0.0388\n",
      "Epoch 7/20\n",
      "14/14 [==============================] - 0s 9ms/step - loss: 0.0149\n",
      "Epoch 8/20\n",
      "14/14 [==============================] - 0s 9ms/step - loss: 0.0144\n",
      "Epoch 9/20\n",
      "14/14 [==============================] - 0s 9ms/step - loss: 0.0140\n",
      "Epoch 10/20\n",
      "14/14 [==============================] - 0s 9ms/step - loss: 0.0127\n",
      "Epoch 11/20\n",
      "14/14 [==============================] - 0s 9ms/step - loss: 0.0174\n",
      "Epoch 12/20\n",
      "14/14 [==============================] - 0s 8ms/step - loss: 0.0159\n",
      "Epoch 13/20\n",
      "14/14 [==============================] - 0s 9ms/step - loss: 0.0163\n",
      "Epoch 14/20\n",
      "14/14 [==============================] - 0s 9ms/step - loss: 0.0173\n",
      "Epoch 15/20\n",
      "14/14 [==============================] - 0s 9ms/step - loss: 0.0156\n",
      "Epoch 16/20\n",
      "14/14 [==============================] - 0s 9ms/step - loss: 0.0137\n",
      "Epoch 17/20\n",
      "14/14 [==============================] - 0s 9ms/step - loss: 0.0139\n",
      "Epoch 18/20\n",
      "14/14 [==============================] - 0s 9ms/step - loss: 0.0105\n",
      "Epoch 19/20\n",
      "14/14 [==============================] - 0s 8ms/step - loss: 0.0133\n",
      "Epoch 20/20\n",
      "14/14 [==============================] - 0s 9ms/step - loss: 0.0073\n"
     ]
    },
    {
     "data": {
      "text/plain": [
       "<keras.callbacks.callbacks.History at 0x7fca240dda90>"
      ]
     },
     "execution_count": 33,
     "metadata": {},
     "output_type": "execute_result"
    }
   ],
   "source": [
    "scaler = MinMaxScaler()\n",
    "scaler.fit(train_data)\n",
    "scaled_train_data = scaler.transform(train_data)\n",
    "scaled_test_data = scaler.transform(test_data)\n",
    "n_input =5\n",
    "n_features =1\n",
    "                             \n",
    "generator = TimeseriesGenerator(scaled_train_data,scaled_train_data, length=n_input, batch_size=1)\n",
    "\n",
    "lstm_model = Sequential()\n",
    "lstm_model.add(LSTM(units = 50, return_sequences = True, input_shape = (n_input, n_features)))\n",
    "lstm_model.add(Dropout(0.2))\n",
    "lstm_model.add(LSTM(units = 50, return_sequences = True))\n",
    "lstm_model.add(Dropout(0.2))\n",
    "lstm_model.add(LSTM(units = 50))\n",
    "lstm_model.add(Dropout(0.2))\n",
    "lstm_model.add(Dense(units = 1))\n",
    "lstm_model.compile(optimizer = 'adam', loss = 'mean_squared_error')\n",
    "lstm_model.fit(generator, epochs = 20)"
   ]
  },
  {
   "cell_type": "code",
   "execution_count": 34,
   "metadata": {},
   "outputs": [
    {
     "data": {
      "text/plain": [
       "dict_keys(['loss'])"
      ]
     },
     "execution_count": 34,
     "metadata": {},
     "output_type": "execute_result"
    }
   ],
   "source": [
    "lstm_model.history.history.keys()\n"
   ]
  },
  {
   "cell_type": "markdown",
   "metadata": {},
   "source": [
    "**Epochs vs Loss**"
   ]
  },
  {
   "cell_type": "code",
   "execution_count": 35,
   "metadata": {},
   "outputs": [
    {
     "data": {
      "text/plain": [
       "[<matplotlib.lines.Line2D at 0x7fca25e5f048>]"
      ]
     },
     "execution_count": 35,
     "metadata": {},
     "output_type": "execute_result"
    },
    {
     "data": {
      "image/png": "[encoded data removed]",
      "text/plain": [
       "<Figure size 2160x288 with 1 Axes>"
      ]
     },
     "metadata": {
      "needs_background": "light"
     },
     "output_type": "display_data"
    }
   ],
   "source": [
    "losses_lstm = lstm_model.history.history['loss']\n",
    "plt.figure(figsize = (30,4))\n",
    "plt.xlabel('Epochs')\n",
    "plt.ylabel('Loss')\n",
    "plt.xticks(np.arange(0,100,1))\n",
    "plt.plot(range(len(losses_lstm)), losses_lstm)"
   ]
  },
  {
   "cell_type": "code",
   "execution_count": 36,
   "metadata": {},
   "outputs": [],
   "source": [
    "lstm_predictions_scaled = []\n",
    "\n",
    "batch = scaled_train_data[-n_input:]\n",
    "current_batch = batch.reshape((1, n_input, n_features))\n",
    "\n",
    "for i in range(len(test_data)):   \n",
    "    lstm_pred = lstm_model.predict(current_batch)[0]\n",
    "    lstm_predictions_scaled.append(lstm_pred) \n",
    "    current_batch = np.append(current_batch[:,1:,:],[[lstm_pred]],axis=1)\n"
   ]
  },
  {
   "cell_type": "code",
   "execution_count": 37,
   "metadata": {},
   "outputs": [
    {
     "data": {
      "text/html": [
       "<div>\n",
       "<style scoped>\n",
       "    .dataframe tbody tr th:only-of-type {\n",
       "        vertical-align: middle;\n",
       "    }\n",
       "\n",
       "    .dataframe tbody tr th {\n",
       "        vertical-align: top;\n",
       "    }\n",
       "\n",
       "    .dataframe thead th {\n",
       "        text-align: right;\n",
       "    }\n",
       "</style>\n",
       "<table border=\"1\" class=\"dataframe\">\n",
       "  <thead>\n",
       "    <tr style=\"text-align: right;\">\n",
       "      <th></th>\n",
       "      <th>0</th>\n",
       "    </tr>\n",
       "  </thead>\n",
       "  <tbody>\n",
       "    <tr>\n",
       "      <th>0</th>\n",
       "      <td>2634.707473</td>\n",
       "    </tr>\n",
       "    <tr>\n",
       "      <th>1</th>\n",
       "      <td>3333.246601</td>\n",
       "    </tr>\n",
       "    <tr>\n",
       "      <th>2</th>\n",
       "      <td>4056.583755</td>\n",
       "    </tr>\n",
       "    <tr>\n",
       "      <th>3</th>\n",
       "      <td>4886.367858</td>\n",
       "    </tr>\n",
       "    <tr>\n",
       "      <th>4</th>\n",
       "      <td>5652.469536</td>\n",
       "    </tr>\n",
       "  </tbody>\n",
       "</table>\n",
       "</div>"
      ],
      "text/plain": [
       "             0\n",
       "0  2634.707473\n",
       "1  3333.246601\n",
       "2  4056.583755\n",
       "3  4886.367858\n",
       "4  5652.469536"
      ]
     },
     "execution_count": 37,
     "metadata": {},
     "output_type": "execute_result"
    }
   ],
   "source": [
    "prediction = pd.DataFrame(scaler.inverse_transform(lstm_predictions_scaled))\n",
    "prediction.head()"
   ]
  },
  {
   "cell_type": "markdown",
   "metadata": {},
   "source": [
    "**Prevention**\n",
    "To avoid the critical situation people are suggested to do following things\n",
    "\n",
    "* Avoid contact with people who are sick.\n",
    "* Avoid touching your eyes, nose, and mouth.\n",
    "* Stay home when you are sick.\n",
    "* Cover your cough or sneeze with a tissue, then throw the tissue in the trash.\n",
    "* Clean and disinfect frequently touched objects and surfaces using a regular household\n",
    "* Wash your hands often with soap and water, especially after going to the bathroom; before eating; and after blowing your nose, coughing, or sneezing. If soap and water are not readily available, use an alcohol-based hand sanitizer."
   ]
  }
 ],
 "metadata": {
  "kernelspec": {
   "display_name": "Python 3",
   "language": "python",
   "name": "python3"
  },
  "language_info": {
   "codemirror_mode": {
    "name": "ipython",
    "version": 3
   },
   "file_extension": ".py",
   "mimetype": "text/x-python",
   "name": "python",
   "nbconvert_exporter": "python",
   "pygments_lexer": "ipython3",
   "version": "3.7.3"
  }
 },
 "nbformat": 4,
 "nbformat_minor": 4
}
